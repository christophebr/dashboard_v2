{
 "cells": [
  {
   "cell_type": "code",
   "execution_count": 6,
   "metadata": {},
   "outputs": [
    {
     "ename": "ModuleNotFoundError",
     "evalue": "No module named 'data_processing'",
     "output_type": "error",
     "traceback": [
      "\u001b[0;31m---------------------------------------------------------------------------\u001b[0m",
      "\u001b[0;31mModuleNotFoundError\u001b[0m                       Traceback (most recent call last)",
      "Cell \u001b[0;32mIn[6], line 20\u001b[0m\n\u001b[1;32m     18\u001b[0m \u001b[38;5;28;01mfrom\u001b[39;00m \u001b[38;5;21;01mdatetime\u001b[39;00m \u001b[38;5;28;01mimport\u001b[39;00m datetime, time\n\u001b[1;32m     19\u001b[0m \u001b[38;5;28;01mimport\u001b[39;00m \u001b[38;5;21;01mplotly\u001b[39;00m\u001b[38;5;21;01m.\u001b[39;00m\u001b[38;5;21;01mexpress\u001b[39;00m \u001b[38;5;28;01mas\u001b[39;00m \u001b[38;5;21;01mpx\u001b[39;00m\n\u001b[0;32m---> 20\u001b[0m \u001b[38;5;28;01mfrom\u001b[39;00m \u001b[38;5;21;01mdata_processing\u001b[39;00m\u001b[38;5;21;01m.\u001b[39;00m\u001b[38;5;21;01mkpi_generation\u001b[39;00m \u001b[38;5;28;01mimport\u001b[39;00m processing_df_ticket\n\u001b[1;32m     21\u001b[0m \u001b[38;5;66;03m#import pygwalker as pyg\u001b[39;00m\n\u001b[1;32m     22\u001b[0m \n\u001b[1;32m     23\u001b[0m \n\u001b[1;32m     24\u001b[0m \u001b[38;5;66;03m#path = %pwd\u001b[39;00m\n\u001b[1;32m     25\u001b[0m path_source_affid_hubspot_ticket \u001b[38;5;241m=\u001b[39m \u001b[38;5;124m'\u001b[39m\u001b[38;5;124m../data/Affid/Hubspot/ticket\u001b[39m\u001b[38;5;124m'\u001b[39m\n",
      "\u001b[0;31mModuleNotFoundError\u001b[0m: No module named 'data_processing'"
     ]
    }
   ],
   "source": [
    "import pandas as pd\n",
    "#pd.options.plotting.backend = 'hvplot'\n",
    "import numpy as np\n",
    "import datetime as dt\n",
    "from isoweek import Week\n",
    "from time import gmtime\n",
    "import os\n",
    "#import matplotlib.pyplot as plt\n",
    "from functools import reduce\n",
    "import re\n",
    "import warnings\n",
    "warnings.filterwarnings('ignore')\n",
    "#from pivottablejs import pivot_ui\n",
    "from IPython.display import HTML\n",
    "from datetime import date, timedelta \n",
    "#import nltkx\n",
    "from datetime import datetime\n",
    "from datetime import datetime, time\n",
    "import plotly.express as px\n",
    "from data_processing.kpi_generation import processing_df_ticket\n",
    "#import pygwalker as pyg\n",
    "\n",
    "\n",
    "#path = %pwd\n",
    "path_source_affid_hubspot_ticket = '../data/Affid/Hubspot/ticket'\n",
    "path_source_affid_hubspot_agent = '../data/Affid/Hubspot/agent'\n",
    "\n",
    "files_hubspot_ticket = [file for file in os.listdir(path_source_affid_hubspot_ticket) if not file.startswith('.')] # Ignore hidden files\n",
    "\n",
    "data_affid_hubspot_ticket = pd.DataFrame()\n",
    "\n",
    "for file in files_hubspot_ticket:\n",
    "    current_data_hubspot = pd.read_excel(path_source_affid_hubspot_ticket +\"/\"+ file)\n",
    "    data_affid_hubspot_ticket = pd.concat([data_affid_hubspot_ticket, current_data_hubspot])\n",
    "\n",
    "files_hubspot_agent = [file for file in os.listdir(path_source_affid_hubspot_agent) if not file.startswith('.')] # Ignore hidden files\n",
    "\n",
    "data_affid_hubspot_agent = pd.DataFrame()\n",
    "\n",
    "for file in files_hubspot_agent:\n",
    "    current_data_hubspot_agent = pd.read_excel(path_source_affid_hubspot_agent +\"/\"+ file)\n",
    "    data_affid_hubspot_agent = pd.concat([data_affid_hubspot_agent, current_data_hubspot_agent])\n",
    "\n",
    "\n",
    "\n",
    "\n",
    "data_affid_hubspot_agent = data_affid_hubspot_agent[(data_affid_hubspot_agent[\"Nombre d'e-mails envoyés\"] == 1) \n",
    "                                                    & (data_affid_hubspot_agent[\"Conversation ID\"] != \"(Aucune valeur)\")]\n",
    "\n",
    "data_affid_hubspot_agent = data_affid_hubspot_agent[data_affid_hubspot_agent['Source'].isin(['Chat', 'Formulaire', 'E-mail'])]\n",
    "\n",
    "\n",
    "data_affid_hubspot_agent[\"Date d'activité\"] = pd.to_datetime(data_affid_hubspot_agent[\"Date d'activité\"])\n",
    "data_affid_hubspot_agent[\"Semaine\"] = data_affid_hubspot_agent[\"Date d'activité\"].dt.strftime(\"S%Y-%V\")\n",
    "\n",
    "data_affid_hubspot_agent.sort_values([\"Date d'activité\"], ascending=True, inplace=True)\n",
    "\n",
    "\n",
    "\n",
    "def processing_df_ticket(data_affid_hubspot_ticket): \n",
    "    df = data_affid_hubspot_ticket\n",
    "\n",
    "    # Conversion des colonnes en datetime\n",
    "    df['Date de création'] = pd.to_datetime(df['Date de création'], format='%d/%m/%Y %H:%M')\n",
    "    df[\"Date de la première réponse par e-mail de l'agent\"] = pd.to_datetime(df[\"Date de la première réponse par e-mail de l'agent\"], format='%d/%m/%Y %H:%M')\n",
    "\n",
    "    def calculate_working_hours(start, end):\n",
    "\n",
    "        # Limites des heures ouvrées\n",
    "        start_hour, end_hour = 9, 18\n",
    "\n",
    "        # Initialisation du temps ouvré total à 0\n",
    "        total_working_hours = 0\n",
    "\n",
    "        # Boucle sur chaque jour entre start et end\n",
    "        current = start\n",
    "        while current < end:\n",
    "            next_day = (current + pd.Timedelta(days=1)).normalize()\n",
    "\n",
    "            # Si c'est un jour ouvré\n",
    "            if current.weekday() < 5:  # 0=lundi, 4=vendredi\n",
    "                # Début des heures ouvrées pour ce jour\n",
    "                work_start = current.replace(hour=start_hour, minute=0, second=0)\n",
    "                # Fin des heures ouvrées pour ce jour\n",
    "                work_end = current.replace(hour=end_hour, minute=0, second=0)\n",
    "\n",
    "                # Calcul des heures travaillées pour ce jour\n",
    "                day_start = max(current, work_start)\n",
    "                day_end = min(end, work_end, next_day)\n",
    "\n",
    "                # Ajouter les heures de ce jour à la somme totale si elles sont dans les heures ouvrées\n",
    "                if day_start < day_end:\n",
    "                    total_working_hours += (day_end - day_start).total_seconds() / 3600\n",
    "\n",
    "            # Passer au jour suivant\n",
    "            current = next_day\n",
    "\n",
    "        return total_working_hours\n",
    "\n",
    "    # Application de la fonction pour chaque ligne\n",
    "    df['working_hours'] = df.apply(lambda row: calculate_working_hours(row['Date de création'], row[\"Date de la première réponse par e-mail de l'agent\"]), axis=1)\n",
    "\n",
    "    def convert_hours_to_hms(hours):\n",
    "        total_seconds = int(hours * 3600)\n",
    "        hours, remainder = divmod(total_seconds, 3600)\n",
    "        minutes, seconds = divmod(remainder, 60)\n",
    "        return f\"{hours:02}:{minutes:02}:{seconds:02}\"\n",
    "\n",
    "    # Application de la fonction à la colonne working_hours\n",
    "    df['working_hours_hms'] = df['working_hours'].apply(convert_hours_to_hms)\n",
    "\n",
    "    df[\"Semaine\"] = df['Date de création'].dt.strftime(\"S%Y-%V\")\n",
    "    df[\"Date\"] = df[\"Date de création\"].dt.date\n",
    "    df[\"Mois\"] = df['Date de création'].dt.strftime(\"S%Y-%m\")\n",
    "\n",
    "    #df['Nombre_ticket_client'] = df.apply(\n",
    "    #lambda x: 1 if x['Statut du ticket'] not in ['Résolu', 'Clos'] and x['Source'] in ['E-mail', 'Chat', 'Formulaire'] else 0,\n",
    "    #axis=1\n",
    "    #)\n",
    "\n",
    "    df['Nombre_ticket_client'] = df.apply(\n",
    "    lambda x: 1 if x['Statut du ticket'] and x['Source'] in ['E-mail', 'Chat', 'Formulaire'] else 0,\n",
    "    axis=1\n",
    "    )\n",
    "\n",
    "    df['Nombre_ticket_telephone'] = df.apply(\n",
    "    lambda x: 1 if x['Statut du ticket'] and x['Source'] in ['Téléphone'] else 0,\n",
    "    axis=1\n",
    "    )\n",
    "    \n",
    "    #df['Ticket_ouvert'] = df['Délai de traitement (HH:mm:ss)'].apply(lambda x: 1 if pd.isna(x) else 0)\n",
    "\n",
    "\n",
    "    return df\n",
    "\n",
    "\n",
    "\n",
    "def repartition_activite_agent(data_affid_hubspot_agent): \n",
    "\n",
    "    df = data_affid_hubspot_agent.groupby([\"Propriétaire du ticket\"]).agg({\"Nombre d'e-mails envoyés\":\"sum\", \n",
    "                                                                                \"Ticket ID\":\"nunique\"}).reset_index()\n",
    "\n",
    "\n",
    "    fig = px.pie(\n",
    "        df, \n",
    "        names=\"Propriétaire du ticket\", \n",
    "        values=\"Nombre d'e-mails envoyés\", \n",
    "        title=\"Répartition des e-mails envoyés par propriétaire de ticket\"\n",
    "    )\n",
    "\n",
    "    return fig\n",
    "\n",
    "def repartition_tickets_agent_semaine(df): \n",
    "    \n",
    "    df = df[df['Propriétaire du ticket'].isin(['Archimède KESSI', \n",
    "                                'HUMBLOT NASSUF', \n",
    "                                'FREDERIC SAUVAN', \n",
    "                                'Christophe Brichet', \n",
    "                                'Pierre Goupillon', \n",
    "                                'Olivier Sainte-Rose'])].groupby([\"Semaine\",\"Propriétaire du ticket\"]).agg({\"Nombre_ticket_client\":\"sum\"}).reset_index()\n",
    "\n",
    "    ordre_semaines = sorted(df['Semaine'].unique(), key=lambda x: (int(x[1:5]), int(x[6:])))\n",
    "\n",
    "    fig = px.bar(\n",
    "        df,\n",
    "        x=\"Semaine\",\n",
    "        y=\"Nombre_ticket_client\",\n",
    "        color=\"Propriétaire du ticket\",\n",
    "        title=\"Heures de travail par pipeline et par semaine\",\n",
    "        #labels={\"working_hours\": \"Heures de travail\", \"Semaine\": \"Semaine\"},\n",
    "    )\n",
    "\n",
    "    fig.update_layout(\n",
    "        xaxis=dict(categoryorder=\"array\", categoryarray=ordre_semaines),  # Définit l'ordre des catégories\n",
    "        yaxis_title=\"Appels\",\n",
    "        #yaxis=dict(range=[0, 200])  # Ajuste la plage de l'axe y entre 0 et 100\n",
    "    )\n",
    "\n",
    "    return fig\n",
    "\n",
    "\n",
    "def activite_ticket_source_client(df): \n",
    "\n",
    "    df = df[df['Source'].isin(['Chat', 'E-mail', 'Formulaire'])].groupby(['Semaine', 'Pipeline'])['Ticket ID'].nunique().reset_index()\n",
    "\n",
    "    fig = px.bar(\n",
    "        df,\n",
    "        x=\"Semaine\",\n",
    "        y=\"Ticket ID\",\n",
    "        color=\"Pipeline\",\n",
    "        title=\"Heures de travail par pipeline et par semaine\",\n",
    "        labels={\"working_hours\": \"Heures de travail\", \"Semaine\": \"Semaine\"},\n",
    "    )\n",
    "    ordre_semaines = sorted(df['Semaine'].unique(), key=lambda x: (int(x[1:5]), int(x[6:])))\n",
    "    \n",
    "    fig.update_layout(\n",
    "        xaxis=dict(categoryorder=\"array\", categoryarray=ordre_semaines),  # Définit l'ordre des catégories\n",
    "        #yaxis_title=\"Appels\",\n",
    "        #yaxis=dict(range=[0, 200])  # Ajuste la plage de l'axe y entre 0 et 100\n",
    "    )\n",
    "    return fig\n",
    "\n",
    "\n",
    "def activite_ticket_source_pipeline(df): \n",
    "\n",
    "    df = df[df['Source'].isin(['Chat', 'E-mail', 'Formulaire'])].groupby(['Pipeline'])['Ticket ID'].nunique().reset_index()\n",
    "\n",
    "\n",
    "    fig = px.pie(\n",
    "        df, \n",
    "        names=\"Pipeline\", \n",
    "        values=\"Ticket ID\", \n",
    "        title=\"Répartition des e-mails envoyés par propriétaire de ticket\"\n",
    "    )\n",
    "\n",
    "\n",
    "    return fig\n",
    "\n"
   ]
  },
  {
   "cell_type": "code",
   "execution_count": 30,
   "metadata": {},
   "outputs": [
    {
     "data": {
      "text/plain": [
       "Propriétaire du ticket\n",
       "Archimède KESSI                  1605\n",
       "Emilie Gest                      1357\n",
       "HUMBLOT NASSUF                   1237\n",
       "FREDERIC SAUVAN                  1067\n",
       "Sandrine Sauvage                 1048\n",
       "Christophe Brichet                797\n",
       "Melinda Marmin                    749\n",
       "Olivier Sainte-Rose               617\n",
       "Morgane VANDENBUSSCHE             529\n",
       "Pierre Goupillon                  513\n",
       "Vincent LE QUENNEC                260\n",
       "Sophie FONTAINE                    99\n",
       "LESLIE DE MARCH POUTREL            68\n",
       "Catherine Goupillon                41\n",
       "nathalie pottiez                   40\n",
       "Eveline BISCARA                    39\n",
       "Sébastien HUREL                    32\n",
       "THIERRY CAROFF                     29\n",
       "Céline Crendal                     18\n",
       "Cédric PRADALET                    16\n",
       "Vincent Gourvat                    15\n",
       "Olga EKIMTCEVA                     13\n",
       "Nicolas Razafindramena             12\n",
       "cremir lebo                        10\n",
       "Soufiane Ghanim                    10\n",
       "Nathalie Pottiez                    9\n",
       "guillaume SANTIN                    6\n",
       "Anaïs Service Client Stellair       6\n",
       "Laura Barche                        5\n",
       "Houssam SANKARI                     4\n",
       "Aurelie Mazet                       4\n",
       "Miguel PECQUEUX                     3\n",
       "Armatis Agent                       2\n",
       "Beta - chatbot service client       1\n",
       "Laurent PAGOT                       1\n",
       "Name: count, dtype: int64"
      ]
     },
     "execution_count": 30,
     "metadata": {},
     "output_type": "execute_result"
    }
   ],
   "source": [
    "df_ticket['Propriétaire du ticket'].value_counts()"
   ]
  },
  {
   "cell_type": "code",
   "execution_count": 28,
   "metadata": {},
   "outputs": [
    {
     "data": {
      "text/plain": [
       "434"
      ]
     },
     "execution_count": 28,
     "metadata": {},
     "output_type": "execute_result"
    }
   ],
   "source": [
    "df_ticket[(df_ticket['Propriétaire du ticket'] == 'Morgane VANDENBUSSCHE')\n",
    "          & (df_ticket['Pipeline'].isin(['SSI', 'SSIA']))]['Ticket ID'].nunique()    "
   ]
  },
  {
   "cell_type": "code",
   "execution_count": 27,
   "metadata": {},
   "outputs": [
    {
     "data": {
      "text/plain": [
       "103"
      ]
     },
     "execution_count": 27,
     "metadata": {},
     "output_type": "execute_result"
    }
   ],
   "source": [
    "df_ticket[(df_ticket['Propriétaire du ticket'] == 'Morgane VANDENBUSSCHE')\n",
    "          & (df_ticket['Pipeline'].isin(['SSI', 'SSIA'])) \n",
    "          & (df_ticket['Passé par le support N2'] == 'Oui')]['Ticket ID'].nunique()"
   ]
  },
  {
   "cell_type": "code",
   "execution_count": 35,
   "metadata": {},
   "outputs": [
    {
     "data": {
      "text/plain": [
       "1347"
      ]
     },
     "execution_count": 35,
     "metadata": {},
     "output_type": "execute_result"
    }
   ],
   "source": [
    "df_ticket[(df_ticket['Propriétaire du ticket'] == 'Emilie Gest')\n",
    "          & (df_ticket['Pipeline'].isin(['SSI', 'SSIA', 'SPSA']))]['Ticket ID'].nunique() "
   ]
  },
  {
   "cell_type": "code",
   "execution_count": 36,
   "metadata": {},
   "outputs": [
    {
     "data": {
      "text/plain": [
       "58"
      ]
     },
     "execution_count": 36,
     "metadata": {},
     "output_type": "execute_result"
    }
   ],
   "source": [
    "df_ticket[(df_ticket['Propriétaire du ticket'] == 'Emilie Gest')\n",
    "          & (df_ticket['Pipeline'].isin(['SSI', 'SSIA', 'SPSA'])) \n",
    "          & (df_ticket['Passé par le support N2'] == 'Oui')]['Ticket ID'].nunique()"
   ]
  },
  {
   "cell_type": "code",
   "execution_count": null,
   "metadata": {},
   "outputs": [],
   "source": []
  },
  {
   "cell_type": "code",
   "execution_count": 3,
   "metadata": {},
   "outputs": [],
   "source": [
    "entrant = df_support.groupby(['Semaine','Date'], as_index=False).agg({'Number': 'nunique'})\n",
    "entrant = entrant.rename(columns={'Number': 'Entrant'})\n",
    "entrant = entrant.groupby('Semaine')['Entrant'].sum()\n",
    "\n",
    "\n",
    "# Filtrage des tickets selon la source, puis agrégation\n",
    "ticket = df_ticket[\n",
    "(df_ticket['Source'].isin(['Chat', 'E-mail', 'Formulaire'])) &\n",
    "(df_ticket['Pipeline'].isin(['SSI', 'SSIA']))\n",
    "].groupby('Semaine', as_index=False)['Ticket ID'].nunique()\n",
    "\n",
    "ticket.rename(columns={'Ticket ID': 'Nb_Tickets'}, inplace=True)\n",
    "\n",
    "\n",
    "# Fusionner les deux pour garantir la cohérence des semaines\n",
    "df_merged = pd.merge(entrant, ticket, on='Semaine', how='outer').fillna(0)"
   ]
  },
  {
   "cell_type": "code",
   "execution_count": 5,
   "metadata": {},
   "outputs": [
    {
     "data": {
      "text/plain": [
       "0.8728503965071728"
      ]
     },
     "execution_count": 5,
     "metadata": {},
     "output_type": "execute_result"
    }
   ],
   "source": [
    "df_merged['Entrant'].sum() / (df_merged['Nb_Tickets'].sum() + df_merged['Entrant'].sum() )"
   ]
  },
  {
   "cell_type": "code",
   "execution_count": null,
   "metadata": {},
   "outputs": [],
   "source": []
  },
  {
   "cell_type": "code",
   "execution_count": 18,
   "metadata": {},
   "outputs": [
    {
     "data": {
      "text/plain": [
       "3.6851011143210894"
      ]
     },
     "execution_count": 18,
     "metadata": {},
     "output_type": "execute_result"
    }
   ],
   "source": [
    "df_ticket.groupby('Propriétaire du ticket')['Ticket ID'].nunique().mean() / df_ticket.groupby('Propriétaire du ticket')['Date'].nunique().mean()"
   ]
  },
  {
   "cell_type": "code",
   "execution_count": 98,
   "metadata": {},
   "outputs": [
    {
     "data": {
      "text/plain": [
       "71.78333333333333"
      ]
     },
     "execution_count": 98,
     "metadata": {},
     "output_type": "execute_result"
    }
   ],
   "source": [
    "df_support_agent = df_support[df_support['UserName'] == 'Archimede KESSI']\n",
    "\n",
    "df_support_agent.groupby('Semaine')['Entrant_connect'].sum().mean() + df_support_agent.groupby('Semaine')['Sortant_connect'].sum().mean()"
   ]
  },
  {
   "cell_type": "code",
   "execution_count": 147,
   "metadata": {},
   "outputs": [
    {
     "data": {
      "text/html": [
       "<div>\n",
       "<style scoped>\n",
       "    .dataframe tbody tr th:only-of-type {\n",
       "        vertical-align: middle;\n",
       "    }\n",
       "\n",
       "    .dataframe tbody tr th {\n",
       "        vertical-align: top;\n",
       "    }\n",
       "\n",
       "    .dataframe thead th {\n",
       "        text-align: right;\n",
       "    }\n",
       "</style>\n",
       "<table border=\"1\" class=\"dataframe\">\n",
       "  <thead>\n",
       "    <tr style=\"text-align: right;\">\n",
       "      <th></th>\n",
       "      <th>line</th>\n",
       "      <th>Semaine</th>\n",
       "      <th>Date</th>\n",
       "      <th>Jour</th>\n",
       "      <th>Heure</th>\n",
       "      <th>direction</th>\n",
       "      <th>LastState</th>\n",
       "      <th>ScenarioName</th>\n",
       "      <th>StartTime</th>\n",
       "      <th>HangupTime</th>\n",
       "      <th>time (TZ offset incl.)</th>\n",
       "      <th>TotalDuration</th>\n",
       "      <th>InCallDuration</th>\n",
       "      <th>FromNumber</th>\n",
       "      <th>ToNumber</th>\n",
       "      <th>UserName</th>\n",
       "      <th>Tags</th>\n",
       "      <th>IVR Branch</th>\n",
       "      <th>Number</th>\n",
       "      <th>Count</th>\n",
       "      <th>Entrant_connect</th>\n",
       "      <th>Entrant</th>\n",
       "      <th>Sortant_connect</th>\n",
       "      <th>Taux_de_service</th>\n",
       "      <th>Mois</th>\n",
       "      <th>Effectif</th>\n",
       "      <th>Logiciel</th>\n",
       "    </tr>\n",
       "  </thead>\n",
       "  <tbody>\n",
       "    <tr>\n",
       "      <th>0</th>\n",
       "      <td>technique</td>\n",
       "      <td>S2023-49</td>\n",
       "      <td>2023-12-08</td>\n",
       "      <td>Friday</td>\n",
       "      <td>13</td>\n",
       "      <td>inbound</td>\n",
       "      <td>no</td>\n",
       "      <td>no_available_agent</td>\n",
       "      <td>2023-12-08</td>\n",
       "      <td>1900-01-01 13:14:55</td>\n",
       "      <td>1900-01-01 13:14:55</td>\n",
       "      <td>162.0</td>\n",
       "      <td>0.0</td>\n",
       "      <td>33621516371</td>\n",
       "      <td>3.318973e+10</td>\n",
       "      <td>NaN</td>\n",
       "      <td>nan</td>\n",
       "      <td></td>\n",
       "      <td>33621516371</td>\n",
       "      <td>1</td>\n",
       "      <td>0</td>\n",
       "      <td>1</td>\n",
       "      <td>0</td>\n",
       "      <td>0.0</td>\n",
       "      <td>2023-12</td>\n",
       "      <td>6.0</td>\n",
       "      <td>Inconnu</td>\n",
       "    </tr>\n",
       "    <tr>\n",
       "      <th>1</th>\n",
       "      <td>technique</td>\n",
       "      <td>S2023-49</td>\n",
       "      <td>2023-12-08</td>\n",
       "      <td>Friday</td>\n",
       "      <td>13</td>\n",
       "      <td>inbound</td>\n",
       "      <td>no</td>\n",
       "      <td>no_available_agent</td>\n",
       "      <td>2023-12-08</td>\n",
       "      <td>1900-01-01 13:08:05</td>\n",
       "      <td>1900-01-01 13:08:05</td>\n",
       "      <td>152.0</td>\n",
       "      <td>0.0</td>\n",
       "      <td>33661133885</td>\n",
       "      <td>3.318973e+10</td>\n",
       "      <td>NaN</td>\n",
       "      <td>nan</td>\n",
       "      <td></td>\n",
       "      <td>33661133885</td>\n",
       "      <td>1</td>\n",
       "      <td>0</td>\n",
       "      <td>1</td>\n",
       "      <td>0</td>\n",
       "      <td>0.0</td>\n",
       "      <td>2023-12</td>\n",
       "      <td>6.0</td>\n",
       "      <td>Inconnu</td>\n",
       "    </tr>\n",
       "    <tr>\n",
       "      <th>2</th>\n",
       "      <td>technique</td>\n",
       "      <td>S2023-49</td>\n",
       "      <td>2023-12-08</td>\n",
       "      <td>Friday</td>\n",
       "      <td>13</td>\n",
       "      <td>inbound</td>\n",
       "      <td>no</td>\n",
       "      <td>no_available_agent</td>\n",
       "      <td>2023-12-08</td>\n",
       "      <td>1900-01-01 13:05:06</td>\n",
       "      <td>1900-01-01 13:05:06</td>\n",
       "      <td>171.0</td>\n",
       "      <td>0.0</td>\n",
       "      <td>33661133885</td>\n",
       "      <td>3.318973e+10</td>\n",
       "      <td>NaN</td>\n",
       "      <td>nan</td>\n",
       "      <td></td>\n",
       "      <td>33661133885</td>\n",
       "      <td>1</td>\n",
       "      <td>0</td>\n",
       "      <td>1</td>\n",
       "      <td>0</td>\n",
       "      <td>0.0</td>\n",
       "      <td>2023-12</td>\n",
       "      <td>6.0</td>\n",
       "      <td>Inconnu</td>\n",
       "    </tr>\n",
       "    <tr>\n",
       "      <th>3</th>\n",
       "      <td>technique</td>\n",
       "      <td>S2023-49</td>\n",
       "      <td>2023-12-08</td>\n",
       "      <td>Friday</td>\n",
       "      <td>12</td>\n",
       "      <td>inbound</td>\n",
       "      <td>yes</td>\n",
       "      <td>NaN</td>\n",
       "      <td>2023-12-08</td>\n",
       "      <td>1900-01-01 13:18:55</td>\n",
       "      <td>1900-01-01 12:59:47</td>\n",
       "      <td>1201.0</td>\n",
       "      <td>1148.0</td>\n",
       "      <td>33609541997</td>\n",
       "      <td>3.318973e+10</td>\n",
       "      <td>Mourad HUMBLOT</td>\n",
       "      <td>nan</td>\n",
       "      <td></td>\n",
       "      <td>33609541997</td>\n",
       "      <td>1</td>\n",
       "      <td>1</td>\n",
       "      <td>1</td>\n",
       "      <td>0</td>\n",
       "      <td>1.0</td>\n",
       "      <td>2023-12</td>\n",
       "      <td>6.0</td>\n",
       "      <td>Inconnu</td>\n",
       "    </tr>\n",
       "    <tr>\n",
       "      <th>4</th>\n",
       "      <td>technique</td>\n",
       "      <td>S2023-49</td>\n",
       "      <td>2023-12-08</td>\n",
       "      <td>Friday</td>\n",
       "      <td>13</td>\n",
       "      <td>inbound</td>\n",
       "      <td>no</td>\n",
       "      <td>agents_did_not_answer</td>\n",
       "      <td>2023-12-08</td>\n",
       "      <td>1900-01-01 13:17:47</td>\n",
       "      <td>1900-01-01 13:17:47</td>\n",
       "      <td>220.0</td>\n",
       "      <td>0.0</td>\n",
       "      <td>33621516371</td>\n",
       "      <td>3.318973e+10</td>\n",
       "      <td>NaN</td>\n",
       "      <td>nan</td>\n",
       "      <td></td>\n",
       "      <td>33621516371</td>\n",
       "      <td>1</td>\n",
       "      <td>0</td>\n",
       "      <td>1</td>\n",
       "      <td>0</td>\n",
       "      <td>0.0</td>\n",
       "      <td>2023-12</td>\n",
       "      <td>6.0</td>\n",
       "      <td>Inconnu</td>\n",
       "    </tr>\n",
       "    <tr>\n",
       "      <th>...</th>\n",
       "      <td>...</td>\n",
       "      <td>...</td>\n",
       "      <td>...</td>\n",
       "      <td>...</td>\n",
       "      <td>...</td>\n",
       "      <td>...</td>\n",
       "      <td>...</td>\n",
       "      <td>...</td>\n",
       "      <td>...</td>\n",
       "      <td>...</td>\n",
       "      <td>...</td>\n",
       "      <td>...</td>\n",
       "      <td>...</td>\n",
       "      <td>...</td>\n",
       "      <td>...</td>\n",
       "      <td>...</td>\n",
       "      <td>...</td>\n",
       "      <td>...</td>\n",
       "      <td>...</td>\n",
       "      <td>...</td>\n",
       "      <td>...</td>\n",
       "      <td>...</td>\n",
       "      <td>...</td>\n",
       "      <td>...</td>\n",
       "      <td>...</td>\n",
       "      <td>...</td>\n",
       "      <td>...</td>\n",
       "    </tr>\n",
       "    <tr>\n",
       "      <th>37625</th>\n",
       "      <td>standard</td>\n",
       "      <td>S2025-13</td>\n",
       "      <td>2025-03-25</td>\n",
       "      <td>Tuesday</td>\n",
       "      <td>17</td>\n",
       "      <td>outbound</td>\n",
       "      <td>yes</td>\n",
       "      <td>NaN</td>\n",
       "      <td>2025-03-25</td>\n",
       "      <td>1900-01-01 17:57:23</td>\n",
       "      <td>1900-01-01 17:51:03</td>\n",
       "      <td>399.0</td>\n",
       "      <td>380.0</td>\n",
       "      <td>33187662300</td>\n",
       "      <td>3.360346e+10</td>\n",
       "      <td>Mourad HUMBLOT</td>\n",
       "      <td>nan</td>\n",
       "      <td>NaN</td>\n",
       "      <td>33603458520.0</td>\n",
       "      <td>1</td>\n",
       "      <td>0</td>\n",
       "      <td>0</td>\n",
       "      <td>1</td>\n",
       "      <td>NaN</td>\n",
       "      <td>2025-03</td>\n",
       "      <td>8.0</td>\n",
       "      <td>Inconnu</td>\n",
       "    </tr>\n",
       "    <tr>\n",
       "      <th>37626</th>\n",
       "      <td>standard</td>\n",
       "      <td>S2025-13</td>\n",
       "      <td>2025-03-25</td>\n",
       "      <td>Tuesday</td>\n",
       "      <td>17</td>\n",
       "      <td>outbound</td>\n",
       "      <td>yes</td>\n",
       "      <td>NaN</td>\n",
       "      <td>2025-03-25</td>\n",
       "      <td>1900-01-01 17:33:39</td>\n",
       "      <td>1900-01-01 17:33:00</td>\n",
       "      <td>57.0</td>\n",
       "      <td>39.0</td>\n",
       "      <td>33187662300</td>\n",
       "      <td>3.360346e+10</td>\n",
       "      <td>Mourad HUMBLOT</td>\n",
       "      <td>nan</td>\n",
       "      <td>NaN</td>\n",
       "      <td>33603458520.0</td>\n",
       "      <td>1</td>\n",
       "      <td>0</td>\n",
       "      <td>0</td>\n",
       "      <td>0</td>\n",
       "      <td>NaN</td>\n",
       "      <td>2025-03</td>\n",
       "      <td>8.0</td>\n",
       "      <td>Inconnu</td>\n",
       "    </tr>\n",
       "    <tr>\n",
       "      <th>37627</th>\n",
       "      <td>standard</td>\n",
       "      <td>S2025-13</td>\n",
       "      <td>2025-03-27</td>\n",
       "      <td>Thursday</td>\n",
       "      <td>15</td>\n",
       "      <td>outbound</td>\n",
       "      <td>yes</td>\n",
       "      <td>NaN</td>\n",
       "      <td>2025-03-27</td>\n",
       "      <td>1900-01-01 15:30:32</td>\n",
       "      <td>1900-01-01 15:17:05</td>\n",
       "      <td>818.0</td>\n",
       "      <td>807.0</td>\n",
       "      <td>33187662300</td>\n",
       "      <td>3.360320e+10</td>\n",
       "      <td>Christophe Brichet</td>\n",
       "      <td>nan</td>\n",
       "      <td>NaN</td>\n",
       "      <td>33603202223.0</td>\n",
       "      <td>1</td>\n",
       "      <td>0</td>\n",
       "      <td>0</td>\n",
       "      <td>1</td>\n",
       "      <td>NaN</td>\n",
       "      <td>2025-03</td>\n",
       "      <td>6.0</td>\n",
       "      <td>Inconnu</td>\n",
       "    </tr>\n",
       "    <tr>\n",
       "      <th>37628</th>\n",
       "      <td>standard</td>\n",
       "      <td>S2025-13</td>\n",
       "      <td>2025-03-25</td>\n",
       "      <td>Tuesday</td>\n",
       "      <td>15</td>\n",
       "      <td>outbound</td>\n",
       "      <td>yes</td>\n",
       "      <td>NaN</td>\n",
       "      <td>2025-03-25</td>\n",
       "      <td>1900-01-01 15:28:59</td>\n",
       "      <td>1900-01-01 15:16:49</td>\n",
       "      <td>743.0</td>\n",
       "      <td>730.0</td>\n",
       "      <td>33187662300</td>\n",
       "      <td>3.360769e+10</td>\n",
       "      <td>Archimede KESSI</td>\n",
       "      <td>nan</td>\n",
       "      <td>NaN</td>\n",
       "      <td>33607694505.0</td>\n",
       "      <td>1</td>\n",
       "      <td>0</td>\n",
       "      <td>0</td>\n",
       "      <td>1</td>\n",
       "      <td>NaN</td>\n",
       "      <td>2025-03</td>\n",
       "      <td>8.0</td>\n",
       "      <td>Inconnu</td>\n",
       "    </tr>\n",
       "    <tr>\n",
       "      <th>37629</th>\n",
       "      <td>technique</td>\n",
       "      <td>S2025-13</td>\n",
       "      <td>2025-03-24</td>\n",
       "      <td>Monday</td>\n",
       "      <td>15</td>\n",
       "      <td>outbound</td>\n",
       "      <td>no</td>\n",
       "      <td>NaN</td>\n",
       "      <td>2025-03-24</td>\n",
       "      <td>NaT</td>\n",
       "      <td>1900-01-01 15:26:14</td>\n",
       "      <td>13.0</td>\n",
       "      <td>NaN</td>\n",
       "      <td>33189730123</td>\n",
       "      <td>3.313094e+10</td>\n",
       "      <td>Mourad HUMBLOT</td>\n",
       "      <td>NRP</td>\n",
       "      <td>NaN</td>\n",
       "      <td>33130942103.0</td>\n",
       "      <td>1</td>\n",
       "      <td>0</td>\n",
       "      <td>0</td>\n",
       "      <td>0</td>\n",
       "      <td>NaN</td>\n",
       "      <td>2025-03</td>\n",
       "      <td>5.0</td>\n",
       "      <td>Inconnu</td>\n",
       "    </tr>\n",
       "  </tbody>\n",
       "</table>\n",
       "<p>37630 rows × 27 columns</p>\n",
       "</div>"
      ],
      "text/plain": [
       "            line   Semaine        Date      Jour  Heure direction LastState  \\\n",
       "0      technique  S2023-49  2023-12-08    Friday     13   inbound        no   \n",
       "1      technique  S2023-49  2023-12-08    Friday     13   inbound        no   \n",
       "2      technique  S2023-49  2023-12-08    Friday     13   inbound        no   \n",
       "3      technique  S2023-49  2023-12-08    Friday     12   inbound       yes   \n",
       "4      technique  S2023-49  2023-12-08    Friday     13   inbound        no   \n",
       "...          ...       ...         ...       ...    ...       ...       ...   \n",
       "37625   standard  S2025-13  2025-03-25   Tuesday     17  outbound       yes   \n",
       "37626   standard  S2025-13  2025-03-25   Tuesday     17  outbound       yes   \n",
       "37627   standard  S2025-13  2025-03-27  Thursday     15  outbound       yes   \n",
       "37628   standard  S2025-13  2025-03-25   Tuesday     15  outbound       yes   \n",
       "37629  technique  S2025-13  2025-03-24    Monday     15  outbound        no   \n",
       "\n",
       "                ScenarioName  StartTime          HangupTime  \\\n",
       "0         no_available_agent 2023-12-08 1900-01-01 13:14:55   \n",
       "1         no_available_agent 2023-12-08 1900-01-01 13:08:05   \n",
       "2         no_available_agent 2023-12-08 1900-01-01 13:05:06   \n",
       "3                        NaN 2023-12-08 1900-01-01 13:18:55   \n",
       "4      agents_did_not_answer 2023-12-08 1900-01-01 13:17:47   \n",
       "...                      ...        ...                 ...   \n",
       "37625                    NaN 2025-03-25 1900-01-01 17:57:23   \n",
       "37626                    NaN 2025-03-25 1900-01-01 17:33:39   \n",
       "37627                    NaN 2025-03-27 1900-01-01 15:30:32   \n",
       "37628                    NaN 2025-03-25 1900-01-01 15:28:59   \n",
       "37629                    NaN 2025-03-24                 NaT   \n",
       "\n",
       "      time (TZ offset incl.)  TotalDuration  InCallDuration   FromNumber  \\\n",
       "0        1900-01-01 13:14:55          162.0             0.0  33621516371   \n",
       "1        1900-01-01 13:08:05          152.0             0.0  33661133885   \n",
       "2        1900-01-01 13:05:06          171.0             0.0  33661133885   \n",
       "3        1900-01-01 12:59:47         1201.0          1148.0  33609541997   \n",
       "4        1900-01-01 13:17:47          220.0             0.0  33621516371   \n",
       "...                      ...            ...             ...          ...   \n",
       "37625    1900-01-01 17:51:03          399.0           380.0  33187662300   \n",
       "37626    1900-01-01 17:33:00           57.0            39.0  33187662300   \n",
       "37627    1900-01-01 15:17:05          818.0           807.0  33187662300   \n",
       "37628    1900-01-01 15:16:49          743.0           730.0  33187662300   \n",
       "37629    1900-01-01 15:26:14           13.0             NaN  33189730123   \n",
       "\n",
       "           ToNumber            UserName Tags IVR Branch         Number  Count  \\\n",
       "0      3.318973e+10                 NaN  nan               33621516371      1   \n",
       "1      3.318973e+10                 NaN  nan               33661133885      1   \n",
       "2      3.318973e+10                 NaN  nan               33661133885      1   \n",
       "3      3.318973e+10      Mourad HUMBLOT  nan               33609541997      1   \n",
       "4      3.318973e+10                 NaN  nan               33621516371      1   \n",
       "...             ...                 ...  ...        ...            ...    ...   \n",
       "37625  3.360346e+10      Mourad HUMBLOT  nan        NaN  33603458520.0      1   \n",
       "37626  3.360346e+10      Mourad HUMBLOT  nan        NaN  33603458520.0      1   \n",
       "37627  3.360320e+10  Christophe Brichet  nan        NaN  33603202223.0      1   \n",
       "37628  3.360769e+10     Archimede KESSI  nan        NaN  33607694505.0      1   \n",
       "37629  3.313094e+10      Mourad HUMBLOT  NRP        NaN  33130942103.0      1   \n",
       "\n",
       "       Entrant_connect  Entrant  Sortant_connect  Taux_de_service     Mois  \\\n",
       "0                    0        1                0              0.0  2023-12   \n",
       "1                    0        1                0              0.0  2023-12   \n",
       "2                    0        1                0              0.0  2023-12   \n",
       "3                    1        1                0              1.0  2023-12   \n",
       "4                    0        1                0              0.0  2023-12   \n",
       "...                ...      ...              ...              ...      ...   \n",
       "37625                0        0                1              NaN  2025-03   \n",
       "37626                0        0                0              NaN  2025-03   \n",
       "37627                0        0                1              NaN  2025-03   \n",
       "37628                0        0                1              NaN  2025-03   \n",
       "37629                0        0                0              NaN  2025-03   \n",
       "\n",
       "       Effectif Logiciel  \n",
       "0           6.0  Inconnu  \n",
       "1           6.0  Inconnu  \n",
       "2           6.0  Inconnu  \n",
       "3           6.0  Inconnu  \n",
       "4           6.0  Inconnu  \n",
       "...         ...      ...  \n",
       "37625       8.0  Inconnu  \n",
       "37626       8.0  Inconnu  \n",
       "37627       6.0  Inconnu  \n",
       "37628       8.0  Inconnu  \n",
       "37629       5.0  Inconnu  \n",
       "\n",
       "[37630 rows x 27 columns]"
      ]
     },
     "execution_count": 147,
     "metadata": {},
     "output_type": "execute_result"
    }
   ],
   "source": [
    "df_support"
   ]
  },
  {
   "cell_type": "code",
   "execution_count": 93,
   "metadata": {},
   "outputs": [
    {
     "data": {
      "text/plain": [
       "8.494186046511627"
      ]
     },
     "execution_count": 93,
     "metadata": {},
     "output_type": "execute_result"
    }
   ],
   "source": [
    "df_filtered_pipeline = df_ticket[\n",
    "        (df_ticket['Pipeline'].isin(['SSIA', 'SSI', 'SPSA'])) & (df_ticket['Propriétaire du ticket'].isin(['Archimède KESSI', 'HUMBLOT NASSUF', 'Olivier Sainte-Rose', 'Morgane VANDENBUSSCHE'])) &\n",
    "        ((df_ticket['Source'].isin(['Chat', 'E-mail', 'Formulaire'])) | pd.isna(df_ticket['Source']))\n",
    "    ]\n",
    "\n",
    "df_filtered_pipeline.groupby('Propriétaire du ticket')['Ticket ID'].nunique().mean() / df_filtered_pipeline.Semaine.nunique()\n",
    "\n",
    "\n"
   ]
  },
  {
   "cell_type": "code",
   "execution_count": 131,
   "metadata": {},
   "outputs": [],
   "source": [
    "def compute_ticket_metrics(df_tickets, df_support, agent_ticket, agent_support):\n",
    "    support_agents = ['Archimède KESSI', 'HUMBLOT NASSUF', 'Olivier Sainte-Rose', 'Archimede KESSI', 'Morgane VANDENBUSSCHE']\n",
    "    armatis_agents = ['Emilie Gest', 'Sandrine Sauvage', 'Melinda Marmin', 'Morgane VANDENBUSSCHE']\n",
    "    agent_all = ['Archimède KESSI', 'HUMBLOT NASSUF', 'Olivier Sainte-Rose', 'Morgane VANDENBUSSCHE']\n",
    "\n",
    "    selected_agent_ticket = [agent_ticket] if isinstance(agent_ticket, str) else agent_ticket\n",
    "\n",
    "    selected_agent_appel = [agent_support] if isinstance(agent_support, str) else agent_support\n",
    "\n",
    "    # Filtrage des tickets pertinents\n",
    "    df_filtered_agent = df_tickets[\n",
    "        (df_tickets['Propriétaire du ticket'].isin(selected_agent_ticket)) &\n",
    "        ((df_tickets['Source'].isin(['Chat', 'E-mail', 'Formulaire'])) | pd.isna(df_tickets['Source']))\n",
    "    ]\n",
    "\n",
    "    df_filtered_pipeline = df_tickets[\n",
    "        (df_tickets['Pipeline'].isin(['SSIA', 'SSI', 'SPSA'])) & (df_tickets['Propriétaire du ticket'].isin(agent_all)) &\n",
    "        ((df_tickets['Source'].isin(['Chat', 'E-mail', 'Formulaire'])) | pd.isna(df_tickets['Source']))\n",
    "    ]\n",
    "\n",
    "    # Filtrage des données support\n",
    "    if any(agent in support_agents for agent in selected_agent_appel):\n",
    "        df_support_filtered = df_support[df_support['UserName'].isin(support_agents)]\n",
    "    elif any(agent in armatis_agents for agent in selected_agent_appel):\n",
    "        df_support_filtered = df_support[df_support['UserName'].isin(armatis_agents)]\n",
    "    else:\n",
    "        df_support_filtered = df_support  # Si aucun agent ne correspond, prendre tous les agents\n",
    "\n",
    "    \n",
    "    df_support_agent = df_support[df_support['UserName'].isin(selected_agent_appel)]\n",
    "\n",
    "\n",
    "    # Moyenne des appels entrants : Total des appels entrants par utilisateur\n",
    "    total_moyenne_des_appels_traites = (df_support_filtered.groupby('UserName')['Entrant_connect'].sum().mean() + df_support_filtered.groupby('UserName')['Sortant_connect'].sum().mean())/ df_support_filtered['Semaine'].nunique()\n",
    "\n",
    "    # Moyenne des tickets traités par jour par agent\n",
    "    total_moyenne_des_tickets_traites = df_filtered_pipeline.groupby('Propriétaire du ticket')['Ticket ID'].nunique().mean() / df_filtered_pipeline.Semaine.nunique()\n",
    "\n",
    "    agent_moyenne_des_appels_traites = df_support_agent.groupby('Semaine')['Entrant_connect'].sum().mean() + df_support_agent.groupby('Semaine')['Sortant_connect'].sum().mean()\n",
    "\n",
    "\n",
    "    agent_moyenne_des_tickets_traites = df_filtered_agent['Ticket ID'].nunique() / df_filtered_agent['Semaine'].nunique()\n",
    "\n",
    "    Total_des_tickets = df_filtered_pipeline['Ticket ID'].nunique() / df_filtered_pipeline['Semaine'].nunique()\n",
    "\n",
    "    if df_tickets.empty:\n",
    "        return 0, 0, 0, 0  # Si le DataFrame des tickets est vide, retourner des valeurs nulles.\n",
    "\n",
    "    # Regroupement par date pour les tickets traités\n",
    "    tickets_per_day = df_filtered_agent.groupby(\"Date\")['Ticket ID'].nunique()\n",
    "\n",
    "    tickets_total = tickets_per_day.sum()\n",
    "\n",
    "    # Moyenne journalière totale des tickets traités\n",
    "    #daily_avg_total = tickets_per_day.mean()\n",
    "\n",
    "    # Moyenne journalière des tickets traités par agent\n",
    "    #nb_agents = len(selected_agents) if selected_agents else 1\n",
    "    #daily_avg_per_agent = daily_avg_total / nb_agents\n",
    "\n",
    "    return round(Total_des_tickets, 2), round(agent_moyenne_des_tickets_traites, 2), round(total_moyenne_des_appels_traites, 2), round(total_moyenne_des_tickets_traites, 2), round(agent_moyenne_des_appels_traites, 2) \n"
   ]
  },
  {
   "cell_type": "code",
   "execution_count": 132,
   "metadata": {},
   "outputs": [
    {
     "data": {
      "text/plain": [
       "(33.98, 17.68, 60.16, 8.49, 71.78)"
      ]
     },
     "execution_count": 132,
     "metadata": {},
     "output_type": "execute_result"
    }
   ],
   "source": [
    "compute_ticket_metrics(df_ticket, df_support, 'Archimède KESSI', 'Archimede KESSI')"
   ]
  },
  {
   "cell_type": "code",
   "execution_count": 171,
   "metadata": {},
   "outputs": [],
   "source": [
    "def compute_ticket_metrics(df_tickets, df_support, agent_ticket, agent_support):\n",
    "    # Définir les listes d'agents sans doublons\n",
    "    agents_n1 = ['Archimède KESSI', 'HUMBLOT NASSUF', 'Olivier Sainte-Rose', \n",
    "                'Mourad HUMBLOT', 'Archimede KESSI', 'Morgane Vandenbussche', 'Morgane VANDENBUSSCHE']\n",
    "    agents_all = ['Archimède KESSI', 'HUMBLOT NASSUF', 'Olivier Sainte-Rose', 'Morgane VANDENBUSSCHE', \n",
    "                  'Emilie Gest', 'Sandrine Sauvage', 'Melinda Marmin']  # Liste combinée de tous les agents\n",
    "\n",
    "    # Gérer les agents sélectionnés\n",
    "    selected_agent_ticket = [agent_ticket] if isinstance(agent_ticket, str) else agent_ticket\n",
    "    selected_agent_appel = [agent_support] if isinstance(agent_support, str) else agent_support\n",
    "\n",
    "    # Filtrage des tickets pertinents\n",
    "    df_filtered_agent = df_tickets[\n",
    "        (df_tickets['Propriétaire du ticket'].isin(selected_agent_ticket)) &\n",
    "        (df_tickets['Source'].isin(['Chat', 'E-mail', 'Formulaire']) | pd.isna(df_tickets['Source']))\n",
    "    ]\n",
    "    df_filtered_pipeline = df_tickets[\n",
    "        (df_tickets['Pipeline'].isin(['SSIA', 'SSI', 'SPSA'])) &\n",
    "        (df_tickets['Propriétaire du ticket'].isin(agents_n1)) &\n",
    "        (df_tickets['Source'].isin(['Chat', 'E-mail', 'Formulaire']) | pd.isna(df_tickets['Source']))\n",
    "    ]\n",
    "\n",
    "    # Filtrage des données support selon les agents\n",
    "    if any(agent in agents_n1 for agent in selected_agent_appel):\n",
    "        df_support_filtered = df_support[df_support['UserName'].isin(agents_n1)]\n",
    "    else:\n",
    "        df_support_filtered = df_support \n",
    "        \n",
    "    total_support_total = df_support[\n",
    "        (df_support['line'].isin(['technique', 'armatistechnique'])) &\n",
    "        (df_support['direction'].isin(['inbound']))\n",
    "    ]\n",
    "    total_support_total = total_support_total.groupby('Semaine')['Count'].sum().mean()\n",
    "\n",
    "    total_ticket_total = df_tickets[\n",
    "        (df_tickets['Pipeline'].isin(['SSIA', 'SSI', 'SPSA'])) &\n",
    "        (df_tickets['Source'].isin(['Chat', 'E-mail', 'Formulaire']) | pd.isna(df_tickets['Source']))\n",
    "    ]\n",
    "\n",
    "    total_ticket_total = total_ticket_total.groupby('Semaine')['Ticket ID'].nunique().mean()\n",
    "\n",
    "    # Filtrage des données pour les agents spécifiques\n",
    "    df_support_agent = df_support[df_support['UserName'].isin(selected_agent_appel)]\n",
    "\n",
    "    # Calcul des moyennes\n",
    "    total_moyenne_des_appels_traites = (\n",
    "        (df_support_filtered.groupby('UserName')['Entrant_connect'].sum().mean() +\n",
    "         df_support_filtered.groupby('UserName')['Sortant_connect'].sum().mean()) /\n",
    "        df_support_filtered['Semaine'].nunique()\n",
    "    )\n",
    "\n",
    "    total_moyenne_des_tickets_traites = (\n",
    "        df_filtered_pipeline.groupby('Propriétaire du ticket')['Ticket ID'].nunique().mean() /\n",
    "        df_filtered_pipeline['Semaine'].nunique()\n",
    "    )\n",
    "\n",
    "    agent_moyenne_des_appels_traites = (\n",
    "        df_support_agent.groupby('Semaine')['Entrant_connect'].sum().mean() +\n",
    "        df_support_agent.groupby('Semaine')['Sortant_connect'].sum().mean()\n",
    "    )\n",
    "\n",
    "    agent_moyenne_des_tickets_traites = (\n",
    "        df_filtered_agent['Ticket ID'].nunique() / df_filtered_agent['Semaine'].nunique()\n",
    "    )\n",
    "\n",
    "    Total_des_tickets = (\n",
    "        df_filtered_pipeline['Ticket ID'].nunique() / df_filtered_pipeline['Semaine'].nunique()\n",
    "    )\n",
    "\n",
    "    Total_des_appels = (\n",
    "        df_filtered_pipeline['Ticket ID'].nunique() / df_filtered_pipeline['Semaine'].nunique()\n",
    "    )\n",
    "\n",
    "    if df_tickets.empty:\n",
    "        return 0, 0, 0, 0  # Si le DataFrame des tickets est vide, retourner des valeurs nulles.\n",
    "\n",
    "    # Calcul des tickets par jour\n",
    "    tickets_per_day = df_filtered_agent.groupby(\"Date\")['Ticket ID'].nunique()\n",
    "\n",
    "    tickets_total = tickets_per_day.sum()\n",
    "\n",
    "    return (\n",
    "        int(Total_des_tickets),\n",
    "        int(total_support_total),\n",
    "        int(total_ticket_total),\n",
    "        int(total_moyenne_des_appels_traites),\n",
    "        int(total_moyenne_des_tickets_traites),\n",
    "        int(agent_moyenne_des_tickets_traites),\n",
    "        int(agent_moyenne_des_appels_traites)\n",
    "        \n",
    "    )\n"
   ]
  },
  {
   "cell_type": "code",
   "execution_count": 279,
   "metadata": {},
   "outputs": [],
   "source": [
    "def compute_ticket_appels_metrics(df_tickets, df_support, agent_ticket, agent_support):\n",
    "    # Définir les listes d'agents sans doublons\n",
    "    agents_n1 = list(set([\n",
    "        'Archimède KESSI', 'HUMBLOT NASSUF', 'Olivier Sainte-Rose',\n",
    "        'Mourad HUMBLOT', 'Archimede KESSI', 'Morgane Vandenbussche', 'Morgane VANDENBUSSCHE'\n",
    "    ]))\n",
    "    \n",
    "    agents_all = [\n",
    "        'Archimède KESSI', 'HUMBLOT NASSUF', 'Olivier Sainte-Rose', 'Morgane VANDENBUSSCHE',\n",
    "        'Emilie Gest', 'Sandrine Sauvage', 'Melinda Marmin'\n",
    "    ]\n",
    "\n",
    "    # Normaliser les entrées : agent ou liste d'agents\n",
    "    selected_agent_ticket = [agent_ticket] if isinstance(agent_ticket, str) else agent_ticket\n",
    "    selected_agent_support = [agent_support] if isinstance(agent_support, str) else agent_support\n",
    "\n",
    "    # -- FILTRAGE DES TICKETS --\n",
    "\n",
    "    # Tickets de l'agent sélectionné\n",
    "    df_filtered_agent = df_tickets[\n",
    "        (df_tickets['Propriétaire du ticket'].isin(selected_agent_ticket)) &\n",
    "        (df_tickets['Source'].isin(['Chat', 'E-mail', 'Formulaire']) | pd.isna(df_tickets['Source']))\n",
    "    ]\n",
    "\n",
    "    # Tickets tous agents niveau 1\n",
    "    df_filtered_pipeline = df_tickets[\n",
    "        (df_tickets['Pipeline'].isin(['SSIA', 'SSI', 'SPSA'])) &\n",
    "        (df_tickets['Propriétaire du ticket'].isin(agents_n1)) &\n",
    "        (df_tickets['Source'].isin(['Chat', 'E-mail', 'Formulaire']) | pd.isna(df_tickets['Source']))\n",
    "    ]\n",
    "\n",
    "    # -- FILTRAGE SUPPORT --\n",
    "\n",
    "    # Support pour agents sélectionnés\n",
    "    df_support_agent = df_support[df_support['UserName'].isin(selected_agent_support)]\n",
    "\n",
    "    # Support filtré pour tous les agents N1 ou global\n",
    "    df_support_filtered = (\n",
    "        df_support[df_support['UserName'].isin(agents_n1)]\n",
    "        if any(agent in agents_n1 for agent in selected_agent_support)\n",
    "        else df_support\n",
    "    )\n",
    "\n",
    "    # Support global pour toutes lignes techniques\n",
    "    df_support_total = df_support[\n",
    "        (df_support['line'].isin(['technique', 'armatistechnique', 'standard']))\n",
    "    ]\n",
    "    moyenne_appels_entrant_total = df_support_total[df_support_total['direction'] == 'inbound'].groupby('Date')['Count'].sum().mean()\n",
    "\n",
    "    # Tickets globaux pour calcul du volume total hebdomadaire\n",
    "    df_tickets_total = df_tickets[\n",
    "        (df_tickets['Pipeline'].isin(['SSIA', 'SSI'])) &\n",
    "        (df_tickets['Source'].isin(['Chat', 'E-mail', 'Formulaire']) | pd.isna(df_tickets['Source']))\n",
    "    ]\n",
    "    moyenne_tickets_total = df_tickets_total.groupby(['Date'])['Ticket ID'].nunique().mean()\n",
    "\n",
    "    # -- CALCUL DES MOYENNES --\n",
    "\n",
    "    # Moyenne d'appels traités globalement\n",
    "    moyenne_appels_traite_global = (\n",
    "        df_support_total.groupby(['Date'])[['Entrant_connect', 'Sortant_connect']].sum().mean().mean()\n",
    "    )\n",
    "\n",
    "    # Moyenne de tickets traités globalement\n",
    "    moyenne_tickets_traite_global = (\n",
    "        df_filtered_pipeline.groupby(['Date','Propriétaire du ticket'])['Ticket ID'].nunique().mean()\n",
    "    )\n",
    "\n",
    "    # Moyenne d'appels traités par l'agent\n",
    "    moyenne_appels_traite_agent = (\n",
    "        df_support_agent.groupby('Date')[['Entrant_connect', 'Sortant_connect']].sum().sum(axis=1).mean()\n",
    "    )\n",
    "\n",
    "    # Moyenne de tickets traités par l'agent\n",
    "    moyenne_tickets_traite_agent = (\n",
    "        df_filtered_agent['Ticket ID'].nunique() / df_filtered_agent['Date'].nunique()\n",
    "        if df_filtered_agent['Date'].nunique() > 0 else 0\n",
    "    )\n",
    "\n",
    "    # Moyenne totale hebdomadaire des tickets (peut être redondante avec moyenne_tickets_traite_global)\n",
    "    total_tickets_moyenne = (\n",
    "        df_filtered_pipeline.groupby(['Date'])['Ticket ID'].nunique().mean()\n",
    "        if df_filtered_pipeline['Date'].nunique() > 0 else 0\n",
    "    )\n",
    "\n",
    "    # Sécurité si dataframe vide\n",
    "    if df_tickets.empty:\n",
    "        return 0, 0, 0, 0, 0, 0, 0\n",
    "\n",
    "    # -- RETOUR --\n",
    "\n",
    "    return (\n",
    "        int(total_tickets_moyenne), #ok\n",
    "        int(moyenne_appels_entrant_total), #ok\n",
    "        int(moyenne_tickets_total), #ok\n",
    "        int(moyenne_appels_traite_global), #ok\n",
    "        round(moyenne_tickets_traite_global,2),\n",
    "        round(moyenne_tickets_traite_agent,2),\n",
    "        int(moyenne_appels_traite_agent)\n",
    "    )\n"
   ]
  },
  {
   "cell_type": "code",
   "execution_count": null,
   "metadata": {},
   "outputs": [],
   "source": []
  },
  {
   "cell_type": "code",
   "execution_count": 278,
   "metadata": {},
   "outputs": [
    {
     "ename": "ValueError",
     "evalue": "cannot convert float NaN to integer",
     "output_type": "error",
     "traceback": [
      "\u001b[0;31m---------------------------------------------------------------------------\u001b[0m",
      "\u001b[0;31mValueError\u001b[0m                                Traceback (most recent call last)",
      "Cell \u001b[0;32mIn[278], line 20\u001b[0m\n\u001b[1;32m     10\u001b[0m \u001b[38;5;66;03m# Boucle sur chaque agent pour calculer ses indicateurs\u001b[39;00m\n\u001b[1;32m     11\u001b[0m \u001b[38;5;28;01mfor\u001b[39;00m agent \u001b[38;5;129;01min\u001b[39;00m agents_n1:\n\u001b[1;32m     12\u001b[0m     (\n\u001b[1;32m     13\u001b[0m         total_tickets_moyenne,\n\u001b[1;32m     14\u001b[0m         moyenne_appels_entrant_total,\n\u001b[1;32m     15\u001b[0m         moyenne_tickets_total,\n\u001b[1;32m     16\u001b[0m         moyenne_appels_traite_global,\n\u001b[1;32m     17\u001b[0m         moyenne_tickets_traite_global,\n\u001b[1;32m     18\u001b[0m         moyenne_tickets_traite_agent,\n\u001b[1;32m     19\u001b[0m         moyenne_appels_traite_agent\n\u001b[0;32m---> 20\u001b[0m     ) \u001b[38;5;241m=\u001b[39m \u001b[43mcompute_ticket_appels_metrics\u001b[49m\u001b[43m(\u001b[49m\u001b[43mdf_ticket\u001b[49m\u001b[43m,\u001b[49m\u001b[43m \u001b[49m\u001b[43mdf_support\u001b[49m\u001b[43m,\u001b[49m\u001b[43m \u001b[49m\u001b[43magent\u001b[49m\u001b[43m,\u001b[49m\u001b[43m \u001b[49m\u001b[43magent\u001b[49m\u001b[43m)\u001b[49m\n\u001b[1;32m     22\u001b[0m     rows\u001b[38;5;241m.\u001b[39mappend({\n\u001b[1;32m     23\u001b[0m         \u001b[38;5;124m'\u001b[39m\u001b[38;5;124mAgent\u001b[39m\u001b[38;5;124m'\u001b[39m: agent,\n\u001b[1;32m     24\u001b[0m         \u001b[38;5;124m'\u001b[39m\u001b[38;5;124mTickets hebdo (global)\u001b[39m\u001b[38;5;124m'\u001b[39m: total_tickets_moyenne,\n\u001b[0;32m   (...)\u001b[0m\n\u001b[1;32m     30\u001b[0m         \u001b[38;5;124m'\u001b[39m\u001b[38;5;124mAppels traités (agent)\u001b[39m\u001b[38;5;124m'\u001b[39m: moyenne_appels_traite_agent\n\u001b[1;32m     31\u001b[0m     })\n\u001b[1;32m     33\u001b[0m \u001b[38;5;66;03m# Construction du DataFrame final\u001b[39;00m\n",
      "Cell \u001b[0;32mIn[268], line 99\u001b[0m, in \u001b[0;36mcompute_ticket_appels_metrics\u001b[0;34m(df_tickets, df_support, agent_ticket, agent_support)\u001b[0m\n\u001b[1;32m     88\u001b[0m     \u001b[38;5;28;01mreturn\u001b[39;00m \u001b[38;5;241m0\u001b[39m, \u001b[38;5;241m0\u001b[39m, \u001b[38;5;241m0\u001b[39m, \u001b[38;5;241m0\u001b[39m, \u001b[38;5;241m0\u001b[39m, \u001b[38;5;241m0\u001b[39m, \u001b[38;5;241m0\u001b[39m\n\u001b[1;32m     90\u001b[0m \u001b[38;5;66;03m# -- RETOUR --\u001b[39;00m\n\u001b[1;32m     92\u001b[0m \u001b[38;5;28;01mreturn\u001b[39;00m (\n\u001b[1;32m     93\u001b[0m     \u001b[38;5;28mint\u001b[39m(total_tickets_moyenne), \u001b[38;5;66;03m#ok\u001b[39;00m\n\u001b[1;32m     94\u001b[0m     \u001b[38;5;28mint\u001b[39m(moyenne_appels_entrant_total), \u001b[38;5;66;03m#ok\u001b[39;00m\n\u001b[1;32m     95\u001b[0m     \u001b[38;5;28mint\u001b[39m(moyenne_tickets_total), \u001b[38;5;66;03m#ok\u001b[39;00m\n\u001b[1;32m     96\u001b[0m     \u001b[38;5;28mint\u001b[39m(moyenne_appels_traite_global), \u001b[38;5;66;03m#ok\u001b[39;00m\n\u001b[1;32m     97\u001b[0m     \u001b[38;5;28mround\u001b[39m(moyenne_tickets_traite_global,\u001b[38;5;241m2\u001b[39m),\n\u001b[1;32m     98\u001b[0m     \u001b[38;5;28mround\u001b[39m(moyenne_tickets_traite_agent,\u001b[38;5;241m2\u001b[39m),\n\u001b[0;32m---> 99\u001b[0m     \u001b[38;5;28;43mint\u001b[39;49m\u001b[43m(\u001b[49m\u001b[43mmoyenne_appels_traite_agent\u001b[49m\u001b[43m)\u001b[49m\n\u001b[1;32m    100\u001b[0m )\n",
      "\u001b[0;31mValueError\u001b[0m: cannot convert float NaN to integer"
     ]
    }
   ],
   "source": [
    "# Liste normalisée des agents N1 (sans doublons ni variations d’écriture)\n",
    "agents_n1 = [\n",
    "        'Archimède KESSI', 'HUMBLOT NASSUF', 'Olivier Sainte-Rose',\n",
    "        'Mourad HUMBLOT', 'Archimede KESSI', 'Morgane Vandenbussche', 'Morgane VANDENBUSSCHE'\n",
    "    ]\n",
    "\n",
    "# Initialiser une liste pour stocker les résultats\n",
    "rows = []\n",
    "\n",
    "# Boucle sur chaque agent pour calculer ses indicateurs\n",
    "for agent in agents_n1:\n",
    "    (\n",
    "        total_tickets_moyenne,\n",
    "        moyenne_appels_entrant_total,\n",
    "        moyenne_tickets_total,\n",
    "        moyenne_appels_traite_global,\n",
    "        moyenne_tickets_traite_global,\n",
    "        moyenne_tickets_traite_agent,\n",
    "        moyenne_appels_traite_agent\n",
    "    ) = compute_ticket_appels_metrics(df_ticket, df_support, agent, agent)\n",
    "\n",
    "    rows.append({\n",
    "        'Agent': agent,\n",
    "        'Tickets hebdo (global)': total_tickets_moyenne,\n",
    "        'Appels entrants (total)': moyenne_appels_entrant_total,\n",
    "        'Tickets hebdo (total)': moyenne_tickets_total,\n",
    "        'Appels traités (global)': moyenne_appels_traite_global,\n",
    "        'Tickets traités (global)': moyenne_tickets_traite_global,\n",
    "        'Tickets traités (agent)': moyenne_tickets_traite_agent,\n",
    "        'Appels traités (agent)': moyenne_appels_traite_agent\n",
    "    })\n",
    "\n",
    "# Construction du DataFrame final\n",
    "df_kpi_agents = pd.DataFrame(rows)\n",
    "\n",
    "# Affichage\n",
    "df_kpi_agents\n"
   ]
  },
  {
   "cell_type": "code",
   "execution_count": 256,
   "metadata": {},
   "outputs": [
    {
     "data": {
      "text/plain": [
       "2.5659050966608086"
      ]
     },
     "execution_count": 256,
     "metadata": {},
     "output_type": "execute_result"
    }
   ],
   "source": [
    "df_filtered_pipeline = df_ticket[\n",
    "        (df_ticket['Pipeline'].isin(['SSIA', 'SSI', 'SPSA'])) &\n",
    "        (df_ticket['Propriétaire du ticket'].isin([\n",
    "        'Archimède KESSI', 'HUMBLOT NASSUF', 'Olivier Sainte-Rose',\n",
    "        'Mourad HUMBLOT', 'Archimede KESSI', 'Morgane Vandenbussche', 'Morgane VANDENBUSSCHE'\n",
    "    ])) &\n",
    "        (df_ticket['Source'].isin(['Chat', 'E-mail', 'Formulaire']) | pd.isna(df_ticket['Source']))\n",
    "    ]\n",
    "\n",
    "df_filtered_pipeline.groupby(['Date','Propriétaire du ticket'])['Ticket ID'].nunique().mean()"
   ]
  },
  {
   "cell_type": "code",
   "execution_count": 254,
   "metadata": {},
   "outputs": [
    {
     "data": {
      "text/plain": [
       "<pandas.core.groupby.generic.DataFrameGroupBy object at 0x148a87710>"
      ]
     },
     "execution_count": 254,
     "metadata": {},
     "output_type": "execute_result"
    }
   ],
   "source": [
    "df_support.groupby(['Date', 'UserName'])"
   ]
  },
  {
   "cell_type": "code",
   "execution_count": 234,
   "metadata": {},
   "outputs": [
    {
     "data": {
      "text/plain": [
       "line\n",
       "technique           26603\n",
       "standard            10226\n",
       "armatistechnique      799\n",
       "adv                     2\n",
       "Name: count, dtype: int64"
      ]
     },
     "execution_count": 234,
     "metadata": {},
     "output_type": "execute_result"
    }
   ],
   "source": [
    "df_support.line.value_counts()"
   ]
  },
  {
   "cell_type": "code",
   "execution_count": 146,
   "metadata": {},
   "outputs": [
    {
     "name": "stdout",
     "output_type": "stream",
     "text": [
      "0.9183673469387755\n",
      "0.08163265306122448\n",
      "0.24242424242424243\n"
     ]
    }
   ],
   "source": [
    "pourcentage_appels = 90 / (90 + 8)\n",
    "pourcentage_tickets = 8 / (90 + 8)\n",
    "pourcentage_activité_tickets = 8 / 33\n",
    "\n",
    "print(pourcentage_appels)\n",
    "print(pourcentage_tickets)\n",
    "print(pourcentage_activité_tickets)"
   ]
  },
  {
   "cell_type": "code",
   "execution_count": 165,
   "metadata": {},
   "outputs": [],
   "source": [
    "total_support_total = df_support[\n",
    "        (df_support['line'].isin(['technique', 'armatistechnique'])) &\n",
    "        (df_support['direction'].isin(['inbound']))\n",
    "    ]\n",
    "\n",
    "total_support_total = total_support_total.groupby('Semaine')['Number'].nunique().mean()"
   ]
  },
  {
   "cell_type": "code",
   "execution_count": 166,
   "metadata": {},
   "outputs": [
    {
     "data": {
      "text/plain": [
       "161.40625"
      ]
     },
     "execution_count": 166,
     "metadata": {},
     "output_type": "execute_result"
    }
   ],
   "source": [
    "total_support_total"
   ]
  },
  {
   "cell_type": "code",
   "execution_count": 137,
   "metadata": {},
   "outputs": [],
   "source": [
    "df_support_filtered = df_support[df_support['UserName'].isin(['Archimède KESSI', 'HUMBLOT NASSUF', 'Olivier Sainte-Rose', \n",
    "                                                              'Mourad HUMBLOT', 'Archimede KESSI', 'Morgane Vandenbussche', 'Morgane VANDENBUSSCHE'])]\n",
    "\n",
    "total_moyenne_des_appels_traites = (\n",
    "        (df_support_filtered.groupby('UserName')['Entrant_connect'].sum().mean() +\n",
    "         df_support_filtered.groupby('UserName')['Sortant_connect'].sum().mean()) /\n",
    "        df_support_filtered['Semaine'].nunique()\n",
    "    )"
   ]
  },
  {
   "cell_type": "code",
   "execution_count": 136,
   "metadata": {},
   "outputs": [
    {
     "data": {
      "text/plain": [
       "UserName\n",
       "Mourad HUMBLOT           8510\n",
       "Archimede KESSI          5863\n",
       "Olivier Sainte-Rose      5614\n",
       "[No associated user]     5083\n",
       "Christophe Brichet       2962\n",
       "Pierre GOUPILLON         2205\n",
       "Frederic SAUVAN           635\n",
       "Emilie GEST               180\n",
       "Morgane Vandenbussche     179\n",
       "Melinda Marmin            157\n",
       "Sandrine Sauvage          147\n",
       "Anais Agent 1              26\n",
       "Armatis Agent 3             7\n",
       "Celine Crendal              6\n",
       "Armatis Agent 2             5\n",
       "Armatis Agent 4             5\n",
       "Remi Agent 2                3\n",
       "Mathilde Agent 3            3\n",
       "Eveline BISCARA             2\n",
       "Agent Armatis 7             1\n",
       "C√©line Agent 4             1\n",
       "Name: count, dtype: int64"
      ]
     },
     "execution_count": 136,
     "metadata": {},
     "output_type": "execute_result"
    }
   ],
   "source": [
    "df_support.UserName.value_counts()"
   ]
  },
  {
   "cell_type": "code",
   "execution_count": null,
   "metadata": {},
   "outputs": [],
   "source": []
  },
  {
   "cell_type": "code",
   "execution_count": 286,
   "metadata": {},
   "outputs": [],
   "source": [
    "def compute_ticket_appels_metrics(df_tickets, df_support, agent):\n",
    "    # Définir les listes d'agents sans doublons\n",
    "    agents_n1 = list(set([\n",
    "        'Archimède KESSI', 'HUMBLOT NASSUF', 'Olivier Sainte-Rose',\n",
    "        'Mourad HUMBLOT', 'Archimede KESSI', 'Morgane Vandenbussche', 'Morgane VANDENBUSSCHE'\n",
    "    ]))\n",
    "\n",
    "    # Traitement spécial si agent == \"agents_all\"\n",
    "    if agent == \"agents_all\":\n",
    "        selected_agent = agents_n1\n",
    "    else:\n",
    "        selected_agent = [agent] if isinstance(agent, str) else agent\n",
    "\n",
    "    agents_support = [\n",
    "        'Archimède KESSI', 'HUMBLOT NASSUF', 'Olivier Sainte-Rose'\n",
    "    ]\n",
    "    agents_armatis = [\n",
    "        'Morgane VANDENBUSSCHE', 'Emilie Gest', 'Sandrine Sauvage', 'Melinda Marmin'\n",
    "    ]\n",
    "\n",
    "    # Filtrage df_support selon le groupe\n",
    "    if agent == \"agents_all\":\n",
    "        df_support = df_support[df_support['UserName'].isin(agents_n1)]\n",
    "    elif any(a in agents_support for a in selected_agent):\n",
    "        df_support = df_support[df_support['UserName'].isin([\"Mourad HUMBLOT\", 'Olivier Sainte-Rose', 'Archimede KESSI'])]\n",
    "    elif any(a in agents_armatis for a in selected_agent):\n",
    "        df_support = df_support[df_support['UserName'].isin([\"Emilie GEST\", 'Morgane Vandenbussche', 'Melinda Marmin', 'Sandrine Sauvage', 'Celine Crendal'])]\n",
    "\n",
    "    # Métriques support\n",
    "    Nombre_appel_jour_agent = df_support['UserName'].nunique()\n",
    "    Entrant = df_support.groupby('Date').agg({'Entrant': 'sum'}).mean().values[0].astype(int)\n",
    "    Numero_unique = df_support[df_support['direction'] == 'inbound'].groupby('Date').agg({'Number': 'nunique'}).mean().values[0].astype(int)\n",
    "    temps_moy_appel = df_support[df_support['InCallDuration'] > 0].InCallDuration.mean()\n",
    "\n",
    "    # -- FILTRAGE DES TICKETS --\n",
    "\n",
    "    df_filtered_agent = df_tickets[\n",
    "        (df_tickets['Propriétaire du ticket'].isin(selected_agent)) &\n",
    "        (df_tickets['Source'].isin(['Chat', 'E-mail', 'Formulaire']) | pd.isna(df_tickets['Source']))\n",
    "    ]\n",
    "\n",
    "    df_filtered_pipeline = df_tickets[\n",
    "        (df_tickets['Pipeline'].isin(['SSIA', 'SSI', 'SPSA'])) &\n",
    "        (df_tickets['Propriétaire du ticket'].isin(agents_n1)) &\n",
    "        (df_tickets['Source'].isin(['Chat', 'E-mail', 'Formulaire']) | pd.isna(df_tickets['Source']))\n",
    "    ]\n",
    "\n",
    "    # -- FILTRAGE SUPPORT SUPPLEMENTAIRE --\n",
    "\n",
    "    df_support_agent = df_support[df_support['UserName'].isin(selected_agent)]\n",
    "\n",
    "    df_support_filtered = (\n",
    "        df_support[df_support['UserName'].isin(agents_n1)]\n",
    "        if any(a in agents_n1 for a in selected_agent)\n",
    "        else df_support\n",
    "    )\n",
    "\n",
    "    df_support_total = df_support[\n",
    "        df_support['line'].isin(['technique', 'armatistechnique', 'standard'])\n",
    "    ]\n",
    "\n",
    "    moyenne_appels_entrant_total = df_support_total[df_support_total['direction'] == 'inbound'].groupby('Date')['Count'].sum().mean()\n",
    "\n",
    "    df_tickets_total = df_tickets[\n",
    "        (df_tickets['Pipeline'].isin(['SSIA', 'SSI'])) &\n",
    "        (df_tickets['Source'].isin(['Chat', 'E-mail', 'Formulaire']) | pd.isna(df_tickets['Source']))\n",
    "    ]\n",
    "    moyenne_tickets_total = df_tickets_total.groupby(['Date'])['Ticket ID'].nunique().mean()\n",
    "\n",
    "    moyenne_appels_traite_global = df_support_total.groupby(['Date'])[['Entrant_connect', 'Sortant_connect']].sum().mean().mean()\n",
    "\n",
    "    moyenne_tickets_traite_global = df_filtered_pipeline.groupby(['Date','Propriétaire du ticket'])['Ticket ID'].nunique().mean()\n",
    "\n",
    "    moyenne_appels_traite_agent = df_support_agent.groupby('Date')[['Entrant_connect', 'Sortant_connect']].sum().sum(axis=1).mean()\n",
    "\n",
    "    moyenne_appels_entrant_agent = df_support_agent.groupby('Date')[['Entrant_connect']].sum().sum(axis=1).mean()\n",
    "\n",
    "    moyenne_tickets_traite_agent = (\n",
    "        df_filtered_agent['Ticket ID'].nunique() / df_filtered_agent['Date'].nunique()\n",
    "        if df_filtered_agent['Date'].nunique() > 0 else 0\n",
    "    )\n",
    "\n",
    "    total_tickets_moyenne = (\n",
    "        df_filtered_pipeline.groupby(['Date'])['Ticket ID'].nunique().mean()\n",
    "        if df_filtered_pipeline['Date'].nunique() > 0 else 0\n",
    "    )\n",
    "\n",
    "    if df_tickets.empty:\n",
    "        return 0, 0, 0, 0, 0, 0, 0\n",
    "\n",
    "    return (\n",
    "        int(total_tickets_moyenne),\n",
    "        int(moyenne_appels_entrant_total),\n",
    "        int(moyenne_tickets_total),\n",
    "        int(moyenne_appels_traite_global),\n",
    "        round(moyenne_tickets_traite_global, 2),\n",
    "        round(moyenne_tickets_traite_agent, 2),\n",
    "        int(moyenne_appels_traite_agent), \n",
    "        int(moyenne_appels_entrant_agent)\n",
    "    )\n",
    "\n",
    "\n",
    "\n",
    "def df_compute_ticket_appels_metrics(df_ticket, df_support):\n",
    "    rows = []\n",
    "\n",
    "    agents_n1 = [\n",
    "        'Olivier Sainte-Rose',\n",
    "            ]\n",
    "\n",
    "    # Boucle sur chaque agent pour calculer ses indicateurs\n",
    "    for agent in agents_n1:\n",
    "        (\n",
    "            total_tickets_moyenne,\n",
    "            moyenne_appels_entrant_total,\n",
    "            moyenne_tickets_total,\n",
    "            moyenne_appels_traite_global,\n",
    "            moyenne_tickets_traite_global,\n",
    "            moyenne_tickets_traite_agent,\n",
    "            moyenne_appels_traite_agent,\n",
    "            moyenne_appels_entrant_agent\n",
    "        ) = compute_ticket_appels_metrics(df_ticket, df_support, agent)\n",
    "\n",
    "        rows.append({\n",
    "            'Agent': agent,\n",
    "            'Tickets hebdo (global)': total_tickets_moyenne,\n",
    "            'Appels entrants (total)': moyenne_appels_entrant_total,\n",
    "            'Tickets hebdo (total)': moyenne_tickets_total,\n",
    "            'Appels traités (global)': moyenne_appels_traite_global,\n",
    "            'Tickets traités (global)': moyenne_tickets_traite_global,\n",
    "            'Tickets traités (agent)': moyenne_tickets_traite_agent,\n",
    "            'Appels traités (agent)': moyenne_appels_traite_agent,\n",
    "            'Appels entrant (agent)' : moyenne_appels_entrant_agent\n",
    "        })\n",
    "\n",
    "    # Construction du DataFrame final\n",
    "    df_kpi_agents = pd.DataFrame(rows)\n",
    "\n",
    "    return df_kpi_agents"
   ]
  },
  {
   "cell_type": "code",
   "execution_count": 287,
   "metadata": {},
   "outputs": [
    {
     "data": {
      "text/html": [
       "<div>\n",
       "<style scoped>\n",
       "    .dataframe tbody tr th:only-of-type {\n",
       "        vertical-align: middle;\n",
       "    }\n",
       "\n",
       "    .dataframe tbody tr th {\n",
       "        vertical-align: top;\n",
       "    }\n",
       "\n",
       "    .dataframe thead th {\n",
       "        text-align: right;\n",
       "    }\n",
       "</style>\n",
       "<table border=\"1\" class=\"dataframe\">\n",
       "  <thead>\n",
       "    <tr style=\"text-align: right;\">\n",
       "      <th></th>\n",
       "      <th>Agent</th>\n",
       "      <th>Tickets hebdo (global)</th>\n",
       "      <th>Appels entrants (total)</th>\n",
       "      <th>Tickets hebdo (total)</th>\n",
       "      <th>Appels traités (global)</th>\n",
       "      <th>Tickets traités (global)</th>\n",
       "      <th>Tickets traités (agent)</th>\n",
       "      <th>Appels traités (agent)</th>\n",
       "      <th>Appels entrant (agent)</th>\n",
       "    </tr>\n",
       "  </thead>\n",
       "  <tbody>\n",
       "    <tr>\n",
       "      <th>0</th>\n",
       "      <td>Olivier Sainte-Rose</td>\n",
       "      <td>6</td>\n",
       "      <td>23</td>\n",
       "      <td>10</td>\n",
       "      <td>21</td>\n",
       "      <td>2.57</td>\n",
       "      <td>1.99</td>\n",
       "      <td>12</td>\n",
       "      <td>3</td>\n",
       "    </tr>\n",
       "  </tbody>\n",
       "</table>\n",
       "</div>"
      ],
      "text/plain": [
       "                 Agent  Tickets hebdo (global)  Appels entrants (total)  \\\n",
       "0  Olivier Sainte-Rose                       6                       23   \n",
       "\n",
       "   Tickets hebdo (total)  Appels traités (global)  Tickets traités (global)  \\\n",
       "0                     10                       21                      2.57   \n",
       "\n",
       "   Tickets traités (agent)  Appels traités (agent)  Appels entrant (agent)  \n",
       "0                     1.99                      12                       3  "
      ]
     },
     "execution_count": 287,
     "metadata": {},
     "output_type": "execute_result"
    }
   ],
   "source": [
    "df_compute_ticket_appels_metrics(df_ticket, df_support)"
   ]
  },
  {
   "cell_type": "code",
   "execution_count": 10,
   "metadata": {},
   "outputs": [],
   "source": [
    "pd.set_option('display.max_columns', None)"
   ]
  },
  {
   "cell_type": "code",
   "execution_count": 11,
   "metadata": {},
   "outputs": [
    {
     "data": {
      "text/html": [
       "<div>\n",
       "<style scoped>\n",
       "    .dataframe tbody tr th:only-of-type {\n",
       "        vertical-align: middle;\n",
       "    }\n",
       "\n",
       "    .dataframe tbody tr th {\n",
       "        vertical-align: top;\n",
       "    }\n",
       "\n",
       "    .dataframe thead th {\n",
       "        text-align: right;\n",
       "    }\n",
       "</style>\n",
       "<table border=\"1\" class=\"dataframe\">\n",
       "  <thead>\n",
       "    <tr style=\"text-align: right;\">\n",
       "      <th></th>\n",
       "      <th>Ticket ID</th>\n",
       "      <th>Nom du ticket</th>\n",
       "      <th>Propriétaire du ticket</th>\n",
       "      <th>Associated Contact</th>\n",
       "      <th>Pipeline</th>\n",
       "      <th>Statut du ticket</th>\n",
       "      <th>Date de création</th>\n",
       "      <th>Date de fermeture</th>\n",
       "      <th>Source</th>\n",
       "      <th>Date de la dernière activité</th>\n",
       "      <th>Délai de traitement (HH:mm:ss)</th>\n",
       "      <th>Durée de la première réponse par e-mail de l'agent (HH:mm:ss)</th>\n",
       "      <th>Formulaire SPSA</th>\n",
       "      <th>Nom du PS</th>\n",
       "      <th>Passé par le support N2</th>\n",
       "      <th>Commentaire de la dernière enquête CES</th>\n",
       "      <th>Date de la première réponse par e-mail de l'agent</th>\n",
       "      <th>Évaluation de le dernière enquête CES</th>\n",
       "      <th>Catégorie</th>\n",
       "      <th>Lecteur</th>\n",
       "      <th>Statut de l'accord de niveau de service sur le temps de première réponse</th>\n",
       "      <th>Sujet de la demande</th>\n",
       "      <th>Type du canal d'origine</th>\n",
       "      <th>Associated Conversation</th>\n",
       "      <th>Description du ticket</th>\n",
       "      <th>Détail source de la fiche d'informations 1</th>\n",
       "      <th>Détail source de la fiche d'informations 2</th>\n",
       "      <th>Détail source de la fiche d'informations 3</th>\n",
       "      <th>Libellés de tickets</th>\n",
       "      <th>Résolution</th>\n",
       "      <th>Résumé</th>\n",
       "      <th>Associated Company</th>\n",
       "      <th>Date de la dernière réponse du client</th>\n",
       "      <th>Temps de fermeture (HH:mm:ss)</th>\n",
       "      <th>Associated Note</th>\n",
       "      <th>Date de l'activité suivante</th>\n",
       "      <th>Date de la dernière modification</th>\n",
       "      <th>Date du dernier contact</th>\n",
       "      <th>Nombre de prises de contact</th>\n",
       "      <th>Date de la dernière réponse</th>\n",
       "      <th>Dernier message du visiteur</th>\n",
       "      <th>Mis à jour par l'ID utilisateur</th>\n",
       "      <th>Temps de première réponse dans les heures SLA (HH:mm:ss)</th>\n",
       "      <th>Associated Contact IDs</th>\n",
       "      <th>Associated Conversation IDs</th>\n",
       "      <th>Associated Company IDs</th>\n",
       "      <th>Associated Note IDs</th>\n",
       "      <th>working_hours</th>\n",
       "      <th>working_hours_hms</th>\n",
       "      <th>Semaine</th>\n",
       "      <th>Date</th>\n",
       "      <th>Mois</th>\n",
       "      <th>Nombre_ticket_client</th>\n",
       "      <th>Nombre_ticket_telephone</th>\n",
       "    </tr>\n",
       "  </thead>\n",
       "  <tbody>\n",
       "    <tr>\n",
       "      <th>0</th>\n",
       "      <td>102101477584</td>\n",
       "      <td>-  Docteur Eric Guerber</td>\n",
       "      <td>Sandrine Sauvage</td>\n",
       "      <td>Eric Guerber (eric.guerber@wanadoo.fr)</td>\n",
       "      <td>ADV</td>\n",
       "      <td>Résolu</td>\n",
       "      <td>2025-03-06 21:49:00</td>\n",
       "      <td>2025-03-17 15:14:00</td>\n",
       "      <td>NaN</td>\n",
       "      <td>2025-03-10 14:37:00</td>\n",
       "      <td>257:24:14</td>\n",
       "      <td>88:47:24</td>\n",
       "      <td>NaN</td>\n",
       "      <td>NaN</td>\n",
       "      <td>NaN</td>\n",
       "      <td>NaN</td>\n",
       "      <td>2025-03-10 14:37:00</td>\n",
       "      <td>NaN</td>\n",
       "      <td>ADV (contrats, résiliation, commerce)</td>\n",
       "      <td>NaN</td>\n",
       "      <td>NaN</td>\n",
       "      <td>Suivi de ma commande</td>\n",
       "      <td>E-mail</td>\n",
       "      <td>10635461844</td>\n",
       "      <td>Bonjour à tous,\\n\\nCe client est un client his...</td>\n",
       "      <td>Changer la phase de la transaction après la si...</td>\n",
       "      <td>NaN</td>\n",
       "      <td>NaN</td>\n",
       "      <td>NaN</td>\n",
       "      <td>NaN</td>\n",
       "      <td>NaN</td>\n",
       "      <td>Docteur Eric Guerber</td>\n",
       "      <td>2025-02-06 14:18:00</td>\n",
       "      <td>257:24:14</td>\n",
       "      <td>NaN</td>\n",
       "      <td>NaT</td>\n",
       "      <td>2025-03-17 15:14:00</td>\n",
       "      <td>2025-03-10 14:37:00</td>\n",
       "      <td>60.0</td>\n",
       "      <td>2025-03-17 15:14:00</td>\n",
       "      <td>False</td>\n",
       "      <td>Sandrine Sauvage</td>\n",
       "      <td>NaN</td>\n",
       "      <td>191360107706</td>\n",
       "      <td>539691580606</td>\n",
       "      <td>5173392881</td>\n",
       "      <td>NaN</td>\n",
       "      <td>14.616667</td>\n",
       "      <td>14:37:00</td>\n",
       "      <td>S2025-10</td>\n",
       "      <td>2025-03-06</td>\n",
       "      <td>S2025-03</td>\n",
       "      <td>0</td>\n",
       "      <td>0</td>\n",
       "    </tr>\n",
       "    <tr>\n",
       "      <th>1</th>\n",
       "      <td>100719469815</td>\n",
       "      <td>-  Docteur Eric Guerber</td>\n",
       "      <td>Sandrine Sauvage</td>\n",
       "      <td>Eric Guerber (eric.guerber@wanadoo.fr)</td>\n",
       "      <td>ADV</td>\n",
       "      <td>Résolu</td>\n",
       "      <td>2025-03-05 12:35:00</td>\n",
       "      <td>2025-03-06 16:47:00</td>\n",
       "      <td>NaN</td>\n",
       "      <td>2025-03-10 08:00:00</td>\n",
       "      <td>28:12:00</td>\n",
       "      <td>28:07:14</td>\n",
       "      <td>NaN</td>\n",
       "      <td>NaN</td>\n",
       "      <td>NaN</td>\n",
       "      <td>NaN</td>\n",
       "      <td>2025-03-06 16:42:00</td>\n",
       "      <td>NaN</td>\n",
       "      <td>ADV (contrats, résiliation, commerce)</td>\n",
       "      <td>NaN</td>\n",
       "      <td>NaN</td>\n",
       "      <td>Suivi de ma commande</td>\n",
       "      <td>E-mail</td>\n",
       "      <td>10586440910</td>\n",
       "      <td>Bonjour,\\n\\nSuite de la commande du docteur GU...</td>\n",
       "      <td>Changer la phase de la transaction après la si...</td>\n",
       "      <td>NaN</td>\n",
       "      <td>NaN</td>\n",
       "      <td>NaN</td>\n",
       "      <td>NaN</td>\n",
       "      <td>NaN</td>\n",
       "      <td>Docteur Eric Guerber</td>\n",
       "      <td>2025-02-06 14:18:00</td>\n",
       "      <td>28:12:00</td>\n",
       "      <td>NaN</td>\n",
       "      <td>NaT</td>\n",
       "      <td>2025-03-10 08:02:00</td>\n",
       "      <td>2025-03-06 16:42:00</td>\n",
       "      <td>54.0</td>\n",
       "      <td>2025-03-06 16:42:00</td>\n",
       "      <td>False</td>\n",
       "      <td>Sandrine Sauvage</td>\n",
       "      <td>NaN</td>\n",
       "      <td>191360107706</td>\n",
       "      <td>536980797666</td>\n",
       "      <td>5173392881</td>\n",
       "      <td>NaN</td>\n",
       "      <td>13.116667</td>\n",
       "      <td>13:07:00</td>\n",
       "      <td>S2025-10</td>\n",
       "      <td>2025-03-05</td>\n",
       "      <td>S2025-03</td>\n",
       "      <td>0</td>\n",
       "      <td>0</td>\n",
       "    </tr>\n",
       "    <tr>\n",
       "      <th>2</th>\n",
       "      <td>99818804438</td>\n",
       "      <td>Demande d'information Stellair PRIUM-4 William...</td>\n",
       "      <td>Archimède KESSI</td>\n",
       "      <td>William Boucenna (william.boucenna@gmail.com)</td>\n",
       "      <td>SSIA</td>\n",
       "      <td>Résolu</td>\n",
       "      <td>2025-03-03 10:54:00</td>\n",
       "      <td>2025-03-03 10:54:00</td>\n",
       "      <td>Téléphone</td>\n",
       "      <td>2025-03-03 10:54:00</td>\n",
       "      <td>00:00:53</td>\n",
       "      <td>00:00:30</td>\n",
       "      <td>NaN</td>\n",
       "      <td>NaN</td>\n",
       "      <td>NaN</td>\n",
       "      <td>NaN</td>\n",
       "      <td>2025-03-03 10:54:00</td>\n",
       "      <td>NaN</td>\n",
       "      <td>PbConnexion</td>\n",
       "      <td>PRIUM-4</td>\n",
       "      <td>Contrat-cadre conclu dans les temps</td>\n",
       "      <td>Demande d'information Stellair</td>\n",
       "      <td>E-mail</td>\n",
       "      <td>10513649887</td>\n",
       "      <td>Ralentissement Stellair</td>\n",
       "      <td>NaN</td>\n",
       "      <td>NaN</td>\n",
       "      <td>NaN</td>\n",
       "      <td>Aircall Tickets</td>\n",
       "      <td>NaN</td>\n",
       "      <td>NaN</td>\n",
       "      <td>william.boucenna@gmail.com</td>\n",
       "      <td>2025-02-06 16:01:00</td>\n",
       "      <td>00:00:53</td>\n",
       "      <td>NaN</td>\n",
       "      <td>NaT</td>\n",
       "      <td>2025-03-05 14:32:00</td>\n",
       "      <td>2025-03-03 10:54:00</td>\n",
       "      <td>51.0</td>\n",
       "      <td>2025-03-03 16:11:00</td>\n",
       "      <td>False</td>\n",
       "      <td>Archimède KESSI</td>\n",
       "      <td>NaN</td>\n",
       "      <td>35888242369</td>\n",
       "      <td>533123940549</td>\n",
       "      <td>14764264148</td>\n",
       "      <td>NaN</td>\n",
       "      <td>0.000000</td>\n",
       "      <td>00:00:00</td>\n",
       "      <td>S2025-10</td>\n",
       "      <td>2025-03-03</td>\n",
       "      <td>S2025-03</td>\n",
       "      <td>0</td>\n",
       "      <td>1</td>\n",
       "    </tr>\n",
       "    <tr>\n",
       "      <th>3</th>\n",
       "      <td>101418180838</td>\n",
       "      <td>BEGUE -  beguejf@hotmail.fr</td>\n",
       "      <td>Melinda Marmin</td>\n",
       "      <td>Jean Francois Begue (beguejf@hotmail.fr)</td>\n",
       "      <td>ADV</td>\n",
       "      <td>Résolu</td>\n",
       "      <td>2025-03-05 10:51:00</td>\n",
       "      <td>2025-03-13 14:28:00</td>\n",
       "      <td>NaN</td>\n",
       "      <td>2025-03-13 14:26:00</td>\n",
       "      <td>195:36:46</td>\n",
       "      <td>195:35:03</td>\n",
       "      <td>NaN</td>\n",
       "      <td>BEGUE</td>\n",
       "      <td>NaN</td>\n",
       "      <td>NaN</td>\n",
       "      <td>2025-03-13 14:26:00</td>\n",
       "      <td>NaN</td>\n",
       "      <td>ADV (contrats, résiliation, commerce)</td>\n",
       "      <td>NaN</td>\n",
       "      <td>NaN</td>\n",
       "      <td>Suivi de ma commande</td>\n",
       "      <td>E-mail</td>\n",
       "      <td>10708730071</td>\n",
       "      <td>Bonjour à tous,\\nCi-joint un Complément de  co...</td>\n",
       "      <td>Changer la phase de la transaction après la si...</td>\n",
       "      <td>NaN</td>\n",
       "      <td>NaN</td>\n",
       "      <td>NaN</td>\n",
       "      <td>NaN</td>\n",
       "      <td>NaN</td>\n",
       "      <td>beguejf@hotmail.fr</td>\n",
       "      <td>2025-02-05 14:28:00</td>\n",
       "      <td>195:36:46</td>\n",
       "      <td>NaN</td>\n",
       "      <td>NaT</td>\n",
       "      <td>2025-03-13 15:25:00</td>\n",
       "      <td>2025-03-13 14:26:00</td>\n",
       "      <td>37.0</td>\n",
       "      <td>2025-03-13 14:27:00</td>\n",
       "      <td>False</td>\n",
       "      <td>Melinda Marmin</td>\n",
       "      <td>NaN</td>\n",
       "      <td>2245</td>\n",
       "      <td>543589404905</td>\n",
       "      <td>86831900884</td>\n",
       "      <td>NaN</td>\n",
       "      <td>57.583333</td>\n",
       "      <td>57:34:59</td>\n",
       "      <td>S2025-10</td>\n",
       "      <td>2025-03-05</td>\n",
       "      <td>S2025-03</td>\n",
       "      <td>0</td>\n",
       "      <td>0</td>\n",
       "    </tr>\n",
       "    <tr>\n",
       "      <th>4</th>\n",
       "      <td>100629295350</td>\n",
       "      <td>MACAIGNE - C4 - Maintenance lecteur Help info</td>\n",
       "      <td>Christophe Brichet</td>\n",
       "      <td>Jerome Macaigne (jmacaigne@yahoo.com);Véro Cas...</td>\n",
       "      <td>SPSA</td>\n",
       "      <td>Proposition de rdv niveau 2</td>\n",
       "      <td>2025-03-04 11:45:00</td>\n",
       "      <td>NaT</td>\n",
       "      <td>Formulaire</td>\n",
       "      <td>2025-03-19 08:16:00</td>\n",
       "      <td>NaN</td>\n",
       "      <td>01:29:38</td>\n",
       "      <td>C4 - Maintenance lecteur</td>\n",
       "      <td>MACAIGNE</td>\n",
       "      <td>Oui</td>\n",
       "      <td>NaN</td>\n",
       "      <td>2025-03-04 13:15:00</td>\n",
       "      <td>NaN</td>\n",
       "      <td>PC/SC</td>\n",
       "      <td>NEO</td>\n",
       "      <td>Contrat-cadre conclu dans les temps</td>\n",
       "      <td>Déclaration d'un incident Lecteur</td>\n",
       "      <td>Formulaires</td>\n",
       "      <td>10537217245</td>\n",
       "      <td>pas de lecture PC/SC _x000D_\\nmalgré tests IP ...</td>\n",
       "      <td>NaN</td>\n",
       "      <td>NaN</td>\n",
       "      <td>NaN</td>\n",
       "      <td>NaN</td>\n",
       "      <td>NaN</td>\n",
       "      <td>NaN</td>\n",
       "      <td>jmacaigne@yahoo.com;Help info</td>\n",
       "      <td>2025-03-19 08:16:00</td>\n",
       "      <td>NaN</td>\n",
       "      <td>NaN</td>\n",
       "      <td>NaT</td>\n",
       "      <td>2025-03-19 09:24:00</td>\n",
       "      <td>2025-03-17 09:38:00</td>\n",
       "      <td>35.0</td>\n",
       "      <td>2025-03-17 09:38:00</td>\n",
       "      <td>True</td>\n",
       "      <td>Emilie Gest</td>\n",
       "      <td>00:29:00</td>\n",
       "      <td>7109;28851</td>\n",
       "      <td>534414026962</td>\n",
       "      <td>86720028872;8124625359</td>\n",
       "      <td>NaN</td>\n",
       "      <td>1.500000</td>\n",
       "      <td>01:30:00</td>\n",
       "      <td>S2025-10</td>\n",
       "      <td>2025-03-04</td>\n",
       "      <td>S2025-03</td>\n",
       "      <td>1</td>\n",
       "      <td>0</td>\n",
       "    </tr>\n",
       "    <tr>\n",
       "      <th>...</th>\n",
       "      <td>...</td>\n",
       "      <td>...</td>\n",
       "      <td>...</td>\n",
       "      <td>...</td>\n",
       "      <td>...</td>\n",
       "      <td>...</td>\n",
       "      <td>...</td>\n",
       "      <td>...</td>\n",
       "      <td>...</td>\n",
       "      <td>...</td>\n",
       "      <td>...</td>\n",
       "      <td>...</td>\n",
       "      <td>...</td>\n",
       "      <td>...</td>\n",
       "      <td>...</td>\n",
       "      <td>...</td>\n",
       "      <td>...</td>\n",
       "      <td>...</td>\n",
       "      <td>...</td>\n",
       "      <td>...</td>\n",
       "      <td>...</td>\n",
       "      <td>...</td>\n",
       "      <td>...</td>\n",
       "      <td>...</td>\n",
       "      <td>...</td>\n",
       "      <td>...</td>\n",
       "      <td>...</td>\n",
       "      <td>...</td>\n",
       "      <td>...</td>\n",
       "      <td>...</td>\n",
       "      <td>...</td>\n",
       "      <td>...</td>\n",
       "      <td>...</td>\n",
       "      <td>...</td>\n",
       "      <td>...</td>\n",
       "      <td>...</td>\n",
       "      <td>...</td>\n",
       "      <td>...</td>\n",
       "      <td>...</td>\n",
       "      <td>...</td>\n",
       "      <td>...</td>\n",
       "      <td>...</td>\n",
       "      <td>...</td>\n",
       "      <td>...</td>\n",
       "      <td>...</td>\n",
       "      <td>...</td>\n",
       "      <td>...</td>\n",
       "      <td>...</td>\n",
       "      <td>...</td>\n",
       "      <td>...</td>\n",
       "      <td>...</td>\n",
       "      <td>...</td>\n",
       "      <td>...</td>\n",
       "      <td>...</td>\n",
       "    </tr>\n",
       "    <tr>\n",
       "      <th>6386</th>\n",
       "      <td>3277296325</td>\n",
       "      <td>A3 - Expédition NEO location Olaqin</td>\n",
       "      <td>FREDERIC SAUVAN</td>\n",
       "      <td>STEPHANE LE FRIEC (stephane-le-friec@orange.fr)</td>\n",
       "      <td>SSIA</td>\n",
       "      <td>Résolu</td>\n",
       "      <td>2023-12-05 09:55:00</td>\n",
       "      <td>2024-07-10 09:39:00</td>\n",
       "      <td>Migration JIRA</td>\n",
       "      <td>2024-06-05 00:00:00</td>\n",
       "      <td>5230:44:21</td>\n",
       "      <td>NaN</td>\n",
       "      <td>A3 - Expédition NEO location Olaqin</td>\n",
       "      <td>NaN</td>\n",
       "      <td>NaN</td>\n",
       "      <td>NaN</td>\n",
       "      <td>NaT</td>\n",
       "      <td>NaN</td>\n",
       "      <td>Livraison</td>\n",
       "      <td>NEO</td>\n",
       "      <td>NaN</td>\n",
       "      <td>Suivi de ma commande</td>\n",
       "      <td>NaN</td>\n",
       "      <td>NaN</td>\n",
       "      <td>Bonjour,_x000D_\\n_x000D_\\nCréation compte N° 2...</td>\n",
       "      <td>[MTG] Migration tickets JIRA - SPSA</td>\n",
       "      <td>NaN</td>\n",
       "      <td>NaN</td>\n",
       "      <td>NaN</td>\n",
       "      <td>NaN</td>\n",
       "      <td>NaN</td>\n",
       "      <td>Docteur Stéphane Le Friec;Affid Systèmes</td>\n",
       "      <td>NaT</td>\n",
       "      <td>5230:44:21</td>\n",
       "      <td>NaN</td>\n",
       "      <td>NaT</td>\n",
       "      <td>NaT</td>\n",
       "      <td>NaT</td>\n",
       "      <td>NaN</td>\n",
       "      <td>NaT</td>\n",
       "      <td>NaN</td>\n",
       "      <td>NaN</td>\n",
       "      <td>NaN</td>\n",
       "      <td>5761</td>\n",
       "      <td>NaN</td>\n",
       "      <td>5173396935;5515434189</td>\n",
       "      <td>NaN</td>\n",
       "      <td>0.000000</td>\n",
       "      <td>00:00:00</td>\n",
       "      <td>S2023-49</td>\n",
       "      <td>2023-12-05</td>\n",
       "      <td>S2023-12</td>\n",
       "      <td>0</td>\n",
       "      <td>0</td>\n",
       "    </tr>\n",
       "    <tr>\n",
       "      <th>6387</th>\n",
       "      <td>3276210110</td>\n",
       "      <td>Déclaration d'un incident Lecteur NEO Thanh Bui</td>\n",
       "      <td>Morgane VANDENBUSSCHE</td>\n",
       "      <td>Thanh Bui (drbui@orange.fr)</td>\n",
       "      <td>SSI</td>\n",
       "      <td>Résolu</td>\n",
       "      <td>2023-12-01 15:55:00</td>\n",
       "      <td>2024-06-14 10:52:00</td>\n",
       "      <td>Migration JIRA</td>\n",
       "      <td>2024-06-05 00:00:00</td>\n",
       "      <td>4697:57:43</td>\n",
       "      <td>NaN</td>\n",
       "      <td>NaN</td>\n",
       "      <td>NaN</td>\n",
       "      <td>NaN</td>\n",
       "      <td>NaN</td>\n",
       "      <td>NaT</td>\n",
       "      <td>NaN</td>\n",
       "      <td>Lecture CV</td>\n",
       "      <td>NEO</td>\n",
       "      <td>NaN</td>\n",
       "      <td>Déclaration d'un incident Lecteur</td>\n",
       "      <td>NaN</td>\n",
       "      <td>NaN</td>\n",
       "      <td>Le lecteur a du mal à lire les cartes vitales</td>\n",
       "      <td>[MTG] Migration tickets JIRA - SSI</td>\n",
       "      <td>NaN</td>\n",
       "      <td>NaN</td>\n",
       "      <td>NaN</td>\n",
       "      <td>NaN</td>\n",
       "      <td>NaN</td>\n",
       "      <td>drbui@orange.fr</td>\n",
       "      <td>NaT</td>\n",
       "      <td>4697:57:43</td>\n",
       "      <td>NaN</td>\n",
       "      <td>NaT</td>\n",
       "      <td>NaT</td>\n",
       "      <td>NaT</td>\n",
       "      <td>NaN</td>\n",
       "      <td>NaT</td>\n",
       "      <td>NaN</td>\n",
       "      <td>NaN</td>\n",
       "      <td>NaN</td>\n",
       "      <td>909768</td>\n",
       "      <td>NaN</td>\n",
       "      <td>12214853331</td>\n",
       "      <td>NaN</td>\n",
       "      <td>0.000000</td>\n",
       "      <td>00:00:00</td>\n",
       "      <td>S2023-48</td>\n",
       "      <td>2023-12-01</td>\n",
       "      <td>S2023-12</td>\n",
       "      <td>0</td>\n",
       "      <td>0</td>\n",
       "    </tr>\n",
       "    <tr>\n",
       "      <th>6388</th>\n",
       "      <td>3277236453</td>\n",
       "      <td>A3 - Expédition NEO location Olaqin</td>\n",
       "      <td>FREDERIC SAUVAN</td>\n",
       "      <td>Liliana Turcu (lilianaturcu@yahoo.com)</td>\n",
       "      <td>SSIA</td>\n",
       "      <td>Clos</td>\n",
       "      <td>2023-11-28 10:44:00</td>\n",
       "      <td>2024-06-11 12:08:00</td>\n",
       "      <td>Migration JIRA</td>\n",
       "      <td>2024-06-05 00:00:00</td>\n",
       "      <td>4704:24:44</td>\n",
       "      <td>NaN</td>\n",
       "      <td>A3 - Expédition NEO location Olaqin</td>\n",
       "      <td>NaN</td>\n",
       "      <td>NaN</td>\n",
       "      <td>NaN</td>\n",
       "      <td>NaT</td>\n",
       "      <td>NaN</td>\n",
       "      <td>Livraison</td>\n",
       "      <td>NEO</td>\n",
       "      <td>NaN</td>\n",
       "      <td>Suivi de ma commande</td>\n",
       "      <td>NaN</td>\n",
       "      <td>NaN</td>\n",
       "      <td>Bonjour,_x000D_\\n_x000D_\\nSaisie contrat N°725...</td>\n",
       "      <td>[MTG] Migration tickets JIRA - SPSA</td>\n",
       "      <td>NaN</td>\n",
       "      <td>NaN</td>\n",
       "      <td>NaN</td>\n",
       "      <td>NaN</td>\n",
       "      <td>NaN</td>\n",
       "      <td>lilianaturcu@yahoo.com;Affid Systèmes</td>\n",
       "      <td>NaT</td>\n",
       "      <td>4704:24:44</td>\n",
       "      <td>NaN</td>\n",
       "      <td>NaT</td>\n",
       "      <td>NaT</td>\n",
       "      <td>NaT</td>\n",
       "      <td>NaN</td>\n",
       "      <td>NaT</td>\n",
       "      <td>NaN</td>\n",
       "      <td>NaN</td>\n",
       "      <td>NaN</td>\n",
       "      <td>17300563447</td>\n",
       "      <td>NaN</td>\n",
       "      <td>12217721591;5515434189</td>\n",
       "      <td>NaN</td>\n",
       "      <td>0.000000</td>\n",
       "      <td>00:00:00</td>\n",
       "      <td>S2023-48</td>\n",
       "      <td>2023-11-28</td>\n",
       "      <td>S2023-11</td>\n",
       "      <td>0</td>\n",
       "      <td>0</td>\n",
       "    </tr>\n",
       "    <tr>\n",
       "      <th>6389</th>\n",
       "      <td>3276210112</td>\n",
       "      <td>Demande d'information Stellair NEO François Buge</td>\n",
       "      <td>Pierre Goupillon</td>\n",
       "      <td>François Buge (francois.buge@gmail.com)</td>\n",
       "      <td>SSI</td>\n",
       "      <td>Résolu</td>\n",
       "      <td>2023-10-25 15:54:00</td>\n",
       "      <td>2024-07-11 06:45:00</td>\n",
       "      <td>Migration JIRA</td>\n",
       "      <td>2024-06-05 00:00:00</td>\n",
       "      <td>6230:51:42</td>\n",
       "      <td>NaN</td>\n",
       "      <td>NaN</td>\n",
       "      <td>NaN</td>\n",
       "      <td>Oui</td>\n",
       "      <td>NaN</td>\n",
       "      <td>NaT</td>\n",
       "      <td>NaN</td>\n",
       "      <td>Facturation</td>\n",
       "      <td>NEO</td>\n",
       "      <td>NaN</td>\n",
       "      <td>Demande d'information Stellair</td>\n",
       "      <td>NaN</td>\n",
       "      <td>NaN</td>\n",
       "      <td>Le docteur a des rejets suite à des actes qui ...</td>\n",
       "      <td>[MTG] Migration tickets JIRA - SSI</td>\n",
       "      <td>NaN</td>\n",
       "      <td>NaN</td>\n",
       "      <td>NaN</td>\n",
       "      <td>NaN</td>\n",
       "      <td>NaN</td>\n",
       "      <td>CH DE PERIGUEUX</td>\n",
       "      <td>NaT</td>\n",
       "      <td>6230:51:42</td>\n",
       "      <td>NaN</td>\n",
       "      <td>NaT</td>\n",
       "      <td>NaT</td>\n",
       "      <td>NaT</td>\n",
       "      <td>NaN</td>\n",
       "      <td>NaT</td>\n",
       "      <td>NaN</td>\n",
       "      <td>NaN</td>\n",
       "      <td>NaN</td>\n",
       "      <td>911021</td>\n",
       "      <td>NaN</td>\n",
       "      <td>8115645924</td>\n",
       "      <td>NaN</td>\n",
       "      <td>0.000000</td>\n",
       "      <td>00:00:00</td>\n",
       "      <td>S2023-43</td>\n",
       "      <td>2023-10-25</td>\n",
       "      <td>S2023-10</td>\n",
       "      <td>0</td>\n",
       "      <td>0</td>\n",
       "    </tr>\n",
       "    <tr>\n",
       "      <th>6390</th>\n",
       "      <td>3277244376</td>\n",
       "      <td>C2 - Assistance niveau 2</td>\n",
       "      <td>FREDERIC SAUVAN</td>\n",
       "      <td>Ahmed BENMOULAI (docteur.benmoulai@orange.fr)</td>\n",
       "      <td>SSIA</td>\n",
       "      <td>Clos</td>\n",
       "      <td>2023-09-13 12:13:00</td>\n",
       "      <td>2024-06-11 12:09:00</td>\n",
       "      <td>Migration JIRA</td>\n",
       "      <td>2024-06-05 00:00:00</td>\n",
       "      <td>6527:56:49</td>\n",
       "      <td>NaN</td>\n",
       "      <td>C2 - Assistance niveau 2</td>\n",
       "      <td>NaN</td>\n",
       "      <td>NaN</td>\n",
       "      <td>NaN</td>\n",
       "      <td>NaT</td>\n",
       "      <td>NaN</td>\n",
       "      <td>PC/SC</td>\n",
       "      <td>IWL350</td>\n",
       "      <td>NaN</td>\n",
       "      <td>Suivi de ma commande</td>\n",
       "      <td>NaN</td>\n",
       "      <td>NaN</td>\n",
       "      <td>Bonjour, _x000D_\\n_x000D_\\nImpossible de conne...</td>\n",
       "      <td>[MTG] Migration tickets JIRA - SPSA</td>\n",
       "      <td>NaN</td>\n",
       "      <td>NaN</td>\n",
       "      <td>NaN</td>\n",
       "      <td>NaN</td>\n",
       "      <td>NaN</td>\n",
       "      <td>Docteur Ahmed Benmoulai;Affid Systèmes</td>\n",
       "      <td>NaT</td>\n",
       "      <td>6527:56:49</td>\n",
       "      <td>NaN</td>\n",
       "      <td>NaT</td>\n",
       "      <td>NaT</td>\n",
       "      <td>NaT</td>\n",
       "      <td>NaN</td>\n",
       "      <td>NaT</td>\n",
       "      <td>NaN</td>\n",
       "      <td>NaN</td>\n",
       "      <td>NaN</td>\n",
       "      <td>8603</td>\n",
       "      <td>NaN</td>\n",
       "      <td>5173397716;5515434189</td>\n",
       "      <td>NaN</td>\n",
       "      <td>0.000000</td>\n",
       "      <td>00:00:00</td>\n",
       "      <td>S2023-37</td>\n",
       "      <td>2023-09-13</td>\n",
       "      <td>S2023-09</td>\n",
       "      <td>0</td>\n",
       "      <td>0</td>\n",
       "    </tr>\n",
       "  </tbody>\n",
       "</table>\n",
       "<p>9138 rows × 54 columns</p>\n",
       "</div>"
      ],
      "text/plain": [
       "         Ticket ID                                      Nom du ticket  \\\n",
       "0     102101477584                            -  Docteur Eric Guerber   \n",
       "1     100719469815                            -  Docteur Eric Guerber   \n",
       "2      99818804438  Demande d'information Stellair PRIUM-4 William...   \n",
       "3     101418180838                        BEGUE -  beguejf@hotmail.fr   \n",
       "4     100629295350      MACAIGNE - C4 - Maintenance lecteur Help info   \n",
       "...            ...                                                ...   \n",
       "6386    3277296325                A3 - Expédition NEO location Olaqin   \n",
       "6387    3276210110    Déclaration d'un incident Lecteur NEO Thanh Bui   \n",
       "6388    3277236453                A3 - Expédition NEO location Olaqin   \n",
       "6389    3276210112   Demande d'information Stellair NEO François Buge   \n",
       "6390    3277244376                           C2 - Assistance niveau 2   \n",
       "\n",
       "     Propriétaire du ticket  \\\n",
       "0          Sandrine Sauvage   \n",
       "1          Sandrine Sauvage   \n",
       "2           Archimède KESSI   \n",
       "3            Melinda Marmin   \n",
       "4        Christophe Brichet   \n",
       "...                     ...   \n",
       "6386        FREDERIC SAUVAN   \n",
       "6387  Morgane VANDENBUSSCHE   \n",
       "6388        FREDERIC SAUVAN   \n",
       "6389       Pierre Goupillon   \n",
       "6390        FREDERIC SAUVAN   \n",
       "\n",
       "                                     Associated Contact Pipeline  \\\n",
       "0                Eric Guerber (eric.guerber@wanadoo.fr)      ADV   \n",
       "1                Eric Guerber (eric.guerber@wanadoo.fr)      ADV   \n",
       "2         William Boucenna (william.boucenna@gmail.com)     SSIA   \n",
       "3              Jean Francois Begue (beguejf@hotmail.fr)      ADV   \n",
       "4     Jerome Macaigne (jmacaigne@yahoo.com);Véro Cas...     SPSA   \n",
       "...                                                 ...      ...   \n",
       "6386    STEPHANE LE FRIEC (stephane-le-friec@orange.fr)     SSIA   \n",
       "6387                        Thanh Bui (drbui@orange.fr)      SSI   \n",
       "6388             Liliana Turcu (lilianaturcu@yahoo.com)     SSIA   \n",
       "6389            François Buge (francois.buge@gmail.com)      SSI   \n",
       "6390      Ahmed BENMOULAI (docteur.benmoulai@orange.fr)     SSIA   \n",
       "\n",
       "                 Statut du ticket    Date de création   Date de fermeture  \\\n",
       "0                          Résolu 2025-03-06 21:49:00 2025-03-17 15:14:00   \n",
       "1                          Résolu 2025-03-05 12:35:00 2025-03-06 16:47:00   \n",
       "2                          Résolu 2025-03-03 10:54:00 2025-03-03 10:54:00   \n",
       "3                          Résolu 2025-03-05 10:51:00 2025-03-13 14:28:00   \n",
       "4     Proposition de rdv niveau 2 2025-03-04 11:45:00                 NaT   \n",
       "...                           ...                 ...                 ...   \n",
       "6386                       Résolu 2023-12-05 09:55:00 2024-07-10 09:39:00   \n",
       "6387                       Résolu 2023-12-01 15:55:00 2024-06-14 10:52:00   \n",
       "6388                         Clos 2023-11-28 10:44:00 2024-06-11 12:08:00   \n",
       "6389                       Résolu 2023-10-25 15:54:00 2024-07-11 06:45:00   \n",
       "6390                         Clos 2023-09-13 12:13:00 2024-06-11 12:09:00   \n",
       "\n",
       "              Source Date de la dernière activité  \\\n",
       "0                NaN          2025-03-10 14:37:00   \n",
       "1                NaN          2025-03-10 08:00:00   \n",
       "2          Téléphone          2025-03-03 10:54:00   \n",
       "3                NaN          2025-03-13 14:26:00   \n",
       "4         Formulaire          2025-03-19 08:16:00   \n",
       "...              ...                          ...   \n",
       "6386  Migration JIRA          2024-06-05 00:00:00   \n",
       "6387  Migration JIRA          2024-06-05 00:00:00   \n",
       "6388  Migration JIRA          2024-06-05 00:00:00   \n",
       "6389  Migration JIRA          2024-06-05 00:00:00   \n",
       "6390  Migration JIRA          2024-06-05 00:00:00   \n",
       "\n",
       "     Délai de traitement (HH:mm:ss)  \\\n",
       "0                         257:24:14   \n",
       "1                          28:12:00   \n",
       "2                          00:00:53   \n",
       "3                         195:36:46   \n",
       "4                               NaN   \n",
       "...                             ...   \n",
       "6386                     5230:44:21   \n",
       "6387                     4697:57:43   \n",
       "6388                     4704:24:44   \n",
       "6389                     6230:51:42   \n",
       "6390                     6527:56:49   \n",
       "\n",
       "     Durée de la première réponse par e-mail de l'agent (HH:mm:ss)  \\\n",
       "0                                              88:47:24              \n",
       "1                                              28:07:14              \n",
       "2                                              00:00:30              \n",
       "3                                             195:35:03              \n",
       "4                                              01:29:38              \n",
       "...                                                 ...              \n",
       "6386                                                NaN              \n",
       "6387                                                NaN              \n",
       "6388                                                NaN              \n",
       "6389                                                NaN              \n",
       "6390                                                NaN              \n",
       "\n",
       "                          Formulaire SPSA Nom du PS Passé par le support N2  \\\n",
       "0                                     NaN       NaN                     NaN   \n",
       "1                                     NaN       NaN                     NaN   \n",
       "2                                     NaN       NaN                     NaN   \n",
       "3                                     NaN     BEGUE                     NaN   \n",
       "4                C4 - Maintenance lecteur  MACAIGNE                     Oui   \n",
       "...                                   ...       ...                     ...   \n",
       "6386  A3 - Expédition NEO location Olaqin       NaN                     NaN   \n",
       "6387                                  NaN       NaN                     NaN   \n",
       "6388  A3 - Expédition NEO location Olaqin       NaN                     NaN   \n",
       "6389                                  NaN       NaN                     Oui   \n",
       "6390             C2 - Assistance niveau 2       NaN                     NaN   \n",
       "\n",
       "      Commentaire de la dernière enquête CES  \\\n",
       "0                                        NaN   \n",
       "1                                        NaN   \n",
       "2                                        NaN   \n",
       "3                                        NaN   \n",
       "4                                        NaN   \n",
       "...                                      ...   \n",
       "6386                                     NaN   \n",
       "6387                                     NaN   \n",
       "6388                                     NaN   \n",
       "6389                                     NaN   \n",
       "6390                                     NaN   \n",
       "\n",
       "     Date de la première réponse par e-mail de l'agent  \\\n",
       "0                                  2025-03-10 14:37:00   \n",
       "1                                  2025-03-06 16:42:00   \n",
       "2                                  2025-03-03 10:54:00   \n",
       "3                                  2025-03-13 14:26:00   \n",
       "4                                  2025-03-04 13:15:00   \n",
       "...                                                ...   \n",
       "6386                                               NaT   \n",
       "6387                                               NaT   \n",
       "6388                                               NaT   \n",
       "6389                                               NaT   \n",
       "6390                                               NaT   \n",
       "\n",
       "      Évaluation de le dernière enquête CES  \\\n",
       "0                                       NaN   \n",
       "1                                       NaN   \n",
       "2                                       NaN   \n",
       "3                                       NaN   \n",
       "4                                       NaN   \n",
       "...                                     ...   \n",
       "6386                                    NaN   \n",
       "6387                                    NaN   \n",
       "6388                                    NaN   \n",
       "6389                                    NaN   \n",
       "6390                                    NaN   \n",
       "\n",
       "                                  Catégorie  Lecteur  \\\n",
       "0     ADV (contrats, résiliation, commerce)      NaN   \n",
       "1     ADV (contrats, résiliation, commerce)      NaN   \n",
       "2                               PbConnexion  PRIUM-4   \n",
       "3     ADV (contrats, résiliation, commerce)      NaN   \n",
       "4                                     PC/SC      NEO   \n",
       "...                                     ...      ...   \n",
       "6386                              Livraison      NEO   \n",
       "6387                             Lecture CV      NEO   \n",
       "6388                              Livraison      NEO   \n",
       "6389                            Facturation      NEO   \n",
       "6390                                  PC/SC   IWL350   \n",
       "\n",
       "     Statut de l'accord de niveau de service sur le temps de première réponse  \\\n",
       "0                                                   NaN                         \n",
       "1                                                   NaN                         \n",
       "2                   Contrat-cadre conclu dans les temps                         \n",
       "3                                                   NaN                         \n",
       "4                   Contrat-cadre conclu dans les temps                         \n",
       "...                                                 ...                         \n",
       "6386                                                NaN                         \n",
       "6387                                                NaN                         \n",
       "6388                                                NaN                         \n",
       "6389                                                NaN                         \n",
       "6390                                                NaN                         \n",
       "\n",
       "                    Sujet de la demande Type du canal d'origine  \\\n",
       "0                  Suivi de ma commande                  E-mail   \n",
       "1                  Suivi de ma commande                  E-mail   \n",
       "2        Demande d'information Stellair                  E-mail   \n",
       "3                  Suivi de ma commande                  E-mail   \n",
       "4     Déclaration d'un incident Lecteur             Formulaires   \n",
       "...                                 ...                     ...   \n",
       "6386               Suivi de ma commande                     NaN   \n",
       "6387  Déclaration d'un incident Lecteur                     NaN   \n",
       "6388               Suivi de ma commande                     NaN   \n",
       "6389     Demande d'information Stellair                     NaN   \n",
       "6390               Suivi de ma commande                     NaN   \n",
       "\n",
       "     Associated Conversation  \\\n",
       "0                10635461844   \n",
       "1                10586440910   \n",
       "2                10513649887   \n",
       "3                10708730071   \n",
       "4                10537217245   \n",
       "...                      ...   \n",
       "6386                     NaN   \n",
       "6387                     NaN   \n",
       "6388                     NaN   \n",
       "6389                     NaN   \n",
       "6390                     NaN   \n",
       "\n",
       "                                  Description du ticket  \\\n",
       "0     Bonjour à tous,\\n\\nCe client est un client his...   \n",
       "1     Bonjour,\\n\\nSuite de la commande du docteur GU...   \n",
       "2                               Ralentissement Stellair   \n",
       "3     Bonjour à tous,\\nCi-joint un Complément de  co...   \n",
       "4     pas de lecture PC/SC _x000D_\\nmalgré tests IP ...   \n",
       "...                                                 ...   \n",
       "6386  Bonjour,_x000D_\\n_x000D_\\nCréation compte N° 2...   \n",
       "6387      Le lecteur a du mal à lire les cartes vitales   \n",
       "6388  Bonjour,_x000D_\\n_x000D_\\nSaisie contrat N°725...   \n",
       "6389  Le docteur a des rejets suite à des actes qui ...   \n",
       "6390  Bonjour, _x000D_\\n_x000D_\\nImpossible de conne...   \n",
       "\n",
       "             Détail source de la fiche d'informations 1  \\\n",
       "0     Changer la phase de la transaction après la si...   \n",
       "1     Changer la phase de la transaction après la si...   \n",
       "2                                                   NaN   \n",
       "3     Changer la phase de la transaction après la si...   \n",
       "4                                                   NaN   \n",
       "...                                                 ...   \n",
       "6386                [MTG] Migration tickets JIRA - SPSA   \n",
       "6387                 [MTG] Migration tickets JIRA - SSI   \n",
       "6388                [MTG] Migration tickets JIRA - SPSA   \n",
       "6389                 [MTG] Migration tickets JIRA - SSI   \n",
       "6390                [MTG] Migration tickets JIRA - SPSA   \n",
       "\n",
       "      Détail source de la fiche d'informations 2  \\\n",
       "0                                            NaN   \n",
       "1                                            NaN   \n",
       "2                                            NaN   \n",
       "3                                            NaN   \n",
       "4                                            NaN   \n",
       "...                                          ...   \n",
       "6386                                         NaN   \n",
       "6387                                         NaN   \n",
       "6388                                         NaN   \n",
       "6389                                         NaN   \n",
       "6390                                         NaN   \n",
       "\n",
       "      Détail source de la fiche d'informations 3 Libellés de tickets  \\\n",
       "0                                            NaN                 NaN   \n",
       "1                                            NaN                 NaN   \n",
       "2                                            NaN     Aircall Tickets   \n",
       "3                                            NaN                 NaN   \n",
       "4                                            NaN                 NaN   \n",
       "...                                          ...                 ...   \n",
       "6386                                         NaN                 NaN   \n",
       "6387                                         NaN                 NaN   \n",
       "6388                                         NaN                 NaN   \n",
       "6389                                         NaN                 NaN   \n",
       "6390                                         NaN                 NaN   \n",
       "\n",
       "      Résolution  Résumé                        Associated Company  \\\n",
       "0            NaN     NaN                      Docteur Eric Guerber   \n",
       "1            NaN     NaN                      Docteur Eric Guerber   \n",
       "2            NaN     NaN                william.boucenna@gmail.com   \n",
       "3            NaN     NaN                        beguejf@hotmail.fr   \n",
       "4            NaN     NaN             jmacaigne@yahoo.com;Help info   \n",
       "...          ...     ...                                       ...   \n",
       "6386         NaN     NaN  Docteur Stéphane Le Friec;Affid Systèmes   \n",
       "6387         NaN     NaN                           drbui@orange.fr   \n",
       "6388         NaN     NaN     lilianaturcu@yahoo.com;Affid Systèmes   \n",
       "6389         NaN     NaN                           CH DE PERIGUEUX   \n",
       "6390         NaN     NaN    Docteur Ahmed Benmoulai;Affid Systèmes   \n",
       "\n",
       "     Date de la dernière réponse du client Temps de fermeture (HH:mm:ss)  \\\n",
       "0                      2025-02-06 14:18:00                     257:24:14   \n",
       "1                      2025-02-06 14:18:00                      28:12:00   \n",
       "2                      2025-02-06 16:01:00                      00:00:53   \n",
       "3                      2025-02-05 14:28:00                     195:36:46   \n",
       "4                      2025-03-19 08:16:00                           NaN   \n",
       "...                                    ...                           ...   \n",
       "6386                                   NaT                    5230:44:21   \n",
       "6387                                   NaT                    4697:57:43   \n",
       "6388                                   NaT                    4704:24:44   \n",
       "6389                                   NaT                    6230:51:42   \n",
       "6390                                   NaT                    6527:56:49   \n",
       "\n",
       "     Associated Note Date de l'activité suivante  \\\n",
       "0                NaN                         NaT   \n",
       "1                NaN                         NaT   \n",
       "2                NaN                         NaT   \n",
       "3                NaN                         NaT   \n",
       "4                NaN                         NaT   \n",
       "...              ...                         ...   \n",
       "6386             NaN                         NaT   \n",
       "6387             NaN                         NaT   \n",
       "6388             NaN                         NaT   \n",
       "6389             NaN                         NaT   \n",
       "6390             NaN                         NaT   \n",
       "\n",
       "     Date de la dernière modification Date du dernier contact  \\\n",
       "0                 2025-03-17 15:14:00     2025-03-10 14:37:00   \n",
       "1                 2025-03-10 08:02:00     2025-03-06 16:42:00   \n",
       "2                 2025-03-05 14:32:00     2025-03-03 10:54:00   \n",
       "3                 2025-03-13 15:25:00     2025-03-13 14:26:00   \n",
       "4                 2025-03-19 09:24:00     2025-03-17 09:38:00   \n",
       "...                               ...                     ...   \n",
       "6386                              NaT                     NaT   \n",
       "6387                              NaT                     NaT   \n",
       "6388                              NaT                     NaT   \n",
       "6389                              NaT                     NaT   \n",
       "6390                              NaT                     NaT   \n",
       "\n",
       "      Nombre de prises de contact Date de la dernière réponse  \\\n",
       "0                            60.0         2025-03-17 15:14:00   \n",
       "1                            54.0         2025-03-06 16:42:00   \n",
       "2                            51.0         2025-03-03 16:11:00   \n",
       "3                            37.0         2025-03-13 14:27:00   \n",
       "4                            35.0         2025-03-17 09:38:00   \n",
       "...                           ...                         ...   \n",
       "6386                          NaN                         NaT   \n",
       "6387                          NaN                         NaT   \n",
       "6388                          NaN                         NaT   \n",
       "6389                          NaN                         NaT   \n",
       "6390                          NaN                         NaT   \n",
       "\n",
       "     Dernier message du visiteur Mis à jour par l'ID utilisateur  \\\n",
       "0                          False                Sandrine Sauvage   \n",
       "1                          False                Sandrine Sauvage   \n",
       "2                          False                 Archimède KESSI   \n",
       "3                          False                  Melinda Marmin   \n",
       "4                           True                     Emilie Gest   \n",
       "...                          ...                             ...   \n",
       "6386                         NaN                             NaN   \n",
       "6387                         NaN                             NaN   \n",
       "6388                         NaN                             NaN   \n",
       "6389                         NaN                             NaN   \n",
       "6390                         NaN                             NaN   \n",
       "\n",
       "     Temps de première réponse dans les heures SLA (HH:mm:ss)  \\\n",
       "0                                                   NaN         \n",
       "1                                                   NaN         \n",
       "2                                                   NaN         \n",
       "3                                                   NaN         \n",
       "4                                              00:29:00         \n",
       "...                                                 ...         \n",
       "6386                                                NaN         \n",
       "6387                                                NaN         \n",
       "6388                                                NaN         \n",
       "6389                                                NaN         \n",
       "6390                                                NaN         \n",
       "\n",
       "     Associated Contact IDs Associated Conversation IDs  \\\n",
       "0              191360107706                539691580606   \n",
       "1              191360107706                536980797666   \n",
       "2               35888242369                533123940549   \n",
       "3                      2245                543589404905   \n",
       "4                7109;28851                534414026962   \n",
       "...                     ...                         ...   \n",
       "6386                   5761                         NaN   \n",
       "6387                 909768                         NaN   \n",
       "6388            17300563447                         NaN   \n",
       "6389                 911021                         NaN   \n",
       "6390                   8603                         NaN   \n",
       "\n",
       "      Associated Company IDs Associated Note IDs  working_hours  \\\n",
       "0                 5173392881                 NaN      14.616667   \n",
       "1                 5173392881                 NaN      13.116667   \n",
       "2                14764264148                 NaN       0.000000   \n",
       "3                86831900884                 NaN      57.583333   \n",
       "4     86720028872;8124625359                 NaN       1.500000   \n",
       "...                      ...                 ...            ...   \n",
       "6386   5173396935;5515434189                 NaN       0.000000   \n",
       "6387             12214853331                 NaN       0.000000   \n",
       "6388  12217721591;5515434189                 NaN       0.000000   \n",
       "6389              8115645924                 NaN       0.000000   \n",
       "6390   5173397716;5515434189                 NaN       0.000000   \n",
       "\n",
       "     working_hours_hms   Semaine        Date      Mois  Nombre_ticket_client  \\\n",
       "0             14:37:00  S2025-10  2025-03-06  S2025-03                     0   \n",
       "1             13:07:00  S2025-10  2025-03-05  S2025-03                     0   \n",
       "2             00:00:00  S2025-10  2025-03-03  S2025-03                     0   \n",
       "3             57:34:59  S2025-10  2025-03-05  S2025-03                     0   \n",
       "4             01:30:00  S2025-10  2025-03-04  S2025-03                     1   \n",
       "...                ...       ...         ...       ...                   ...   \n",
       "6386          00:00:00  S2023-49  2023-12-05  S2023-12                     0   \n",
       "6387          00:00:00  S2023-48  2023-12-01  S2023-12                     0   \n",
       "6388          00:00:00  S2023-48  2023-11-28  S2023-11                     0   \n",
       "6389          00:00:00  S2023-43  2023-10-25  S2023-10                     0   \n",
       "6390          00:00:00  S2023-37  2023-09-13  S2023-09                     0   \n",
       "\n",
       "      Nombre_ticket_telephone  \n",
       "0                           0  \n",
       "1                           0  \n",
       "2                           1  \n",
       "3                           0  \n",
       "4                           0  \n",
       "...                       ...  \n",
       "6386                        0  \n",
       "6387                        0  \n",
       "6388                        0  \n",
       "6389                        0  \n",
       "6390                        0  \n",
       "\n",
       "[9138 rows x 54 columns]"
      ]
     },
     "execution_count": 11,
     "metadata": {},
     "output_type": "execute_result"
    }
   ],
   "source": [
    "df"
   ]
  },
  {
   "cell_type": "code",
   "execution_count": 20,
   "metadata": {},
   "outputs": [],
   "source": []
  },
  {
   "cell_type": "code",
   "execution_count": 21,
   "metadata": {},
   "outputs": [],
   "source": [
    "follow = df[(df['Pipeline'] == 'SPSA') \n",
    "            & (df['Formulaire SPSA'] == 'C2 - Assistance niveau 2') \n",
    "            & (df['Associated Company'] == 'FOLLOW') \n",
    "            & (df['Source'] != 'Migration JIRA')]\n",
    "\n",
    "follow = follow[follow['Date de création'] > pd.to_datetime('2024-08-01')]"
   ]
  },
  {
   "cell_type": "code",
   "execution_count": 22,
   "metadata": {},
   "outputs": [
    {
     "data": {
      "text/plain": [
       "Formulaire SPSA\n",
       "C2 - Assistance niveau 2    391\n",
       "Name: count, dtype: int64"
      ]
     },
     "execution_count": 22,
     "metadata": {},
     "output_type": "execute_result"
    }
   ],
   "source": [
    "follow['Formulaire SPSA'].value_counts()"
   ]
  },
  {
   "cell_type": "code",
   "execution_count": 65,
   "metadata": {},
   "outputs": [
    {
     "name": "stdout",
     "output_type": "stream",
     "text": [
      "2024-08-01 10:43:00\n",
      "2025-03-17 15:10:00\n"
     ]
    }
   ],
   "source": [
    "print(follow['Date de création'].min())\n",
    "print(follow['Date de création'].max())"
   ]
  },
  {
   "cell_type": "code",
   "execution_count": null,
   "metadata": {},
   "outputs": [
    {
     "data": {
      "application/vnd.plotly.v1+json": {
       "config": {
        "plotlyServerURL": "https://plot.ly"
       },
       "data": [
        {
         "alignmentgroup": "True",
         "hovertemplate": "Semaine=%{x}<br>working_hours=%{y}<extra></extra>",
         "legendgroup": "",
         "marker": {
          "color": "#636efa",
          "pattern": {
           "shape": ""
          }
         },
         "name": "",
         "offsetgroup": "",
         "orientation": "v",
         "showlegend": false,
         "textposition": "auto",
         "type": "bar",
         "x": [
          "S2024-31",
          "S2024-32",
          "S2024-33",
          "S2024-34",
          "S2024-35",
          "S2024-36",
          "S2024-37",
          "S2024-38",
          "S2024-39",
          "S2024-40",
          "S2024-41",
          "S2024-42",
          "S2024-43",
          "S2024-44",
          "S2024-45",
          "S2024-46",
          "S2024-47",
          "S2024-48",
          "S2024-49",
          "S2024-50",
          "S2024-51",
          "S2024-52",
          "S2025-01",
          "S2025-02",
          "S2025-03",
          "S2025-04",
          "S2025-05",
          "S2025-06",
          "S2025-07",
          "S2025-08",
          "S2025-09",
          "S2025-10",
          "S2025-11",
          "S2025-12"
         ],
         "xaxis": "x",
         "y": [
          2.6833333333333336,
          0.5277777777777778,
          0.55625,
          1.612962962962963,
          2.1916666666666664,
          0.8577777777777779,
          1.1979166666666667,
          0.49607843137254903,
          1.997222222222222,
          0.7544444444444445,
          1.5487179487179488,
          1.3145833333333332,
          1.4491666666666667,
          8.201666666666666,
          0.8515151515151516,
          5.263636363636364,
          4.796296296296296,
          2.665277777777778,
          1.7647058823529411,
          3.7151515151515153,
          6.078888888888889,
          2.725,
          2.6566666666666667,
          3.397727272727273,
          10.35138888888889,
          12.042592592592591,
          8.761764705882353,
          1.9649999999999999,
          7.12051282051282,
          2.034920634920635,
          3.4250000000000003,
          11.348333333333333,
          2.070370370370371,
          3.0833333333333335
         ],
         "yaxis": "y"
        }
       ],
       "layout": {
        "annotations": [
         {
          "showarrow": false,
          "text": "Référence : 2h",
          "x": 1,
          "xanchor": "right",
          "xref": "x domain",
          "y": 2,
          "yanchor": "bottom",
          "yref": "y"
         }
        ],
        "barmode": "relative",
        "legend": {
         "tracegroupgap": 0
        },
        "shapes": [
         {
          "line": {
           "color": "red",
           "dash": "dot"
          },
          "type": "line",
          "x0": 0,
          "x1": 1,
          "xref": "x domain",
          "y0": 2,
          "y1": 2,
          "yref": "y"
         }
        ],
        "template": {
         "data": {
          "bar": [
           {
            "error_x": {
             "color": "#2a3f5f"
            },
            "error_y": {
             "color": "#2a3f5f"
            },
            "marker": {
             "line": {
              "color": "#E5ECF6",
              "width": 0.5
             },
             "pattern": {
              "fillmode": "overlay",
              "size": 10,
              "solidity": 0.2
             }
            },
            "type": "bar"
           }
          ],
          "barpolar": [
           {
            "marker": {
             "line": {
              "color": "#E5ECF6",
              "width": 0.5
             },
             "pattern": {
              "fillmode": "overlay",
              "size": 10,
              "solidity": 0.2
             }
            },
            "type": "barpolar"
           }
          ],
          "carpet": [
           {
            "aaxis": {
             "endlinecolor": "#2a3f5f",
             "gridcolor": "white",
             "linecolor": "white",
             "minorgridcolor": "white",
             "startlinecolor": "#2a3f5f"
            },
            "baxis": {
             "endlinecolor": "#2a3f5f",
             "gridcolor": "white",
             "linecolor": "white",
             "minorgridcolor": "white",
             "startlinecolor": "#2a3f5f"
            },
            "type": "carpet"
           }
          ],
          "choropleth": [
           {
            "colorbar": {
             "outlinewidth": 0,
             "ticks": ""
            },
            "type": "choropleth"
           }
          ],
          "contour": [
           {
            "colorbar": {
             "outlinewidth": 0,
             "ticks": ""
            },
            "colorscale": [
             [
              0,
              "#0d0887"
             ],
             [
              0.1111111111111111,
              "#46039f"
             ],
             [
              0.2222222222222222,
              "#7201a8"
             ],
             [
              0.3333333333333333,
              "#9c179e"
             ],
             [
              0.4444444444444444,
              "#bd3786"
             ],
             [
              0.5555555555555556,
              "#d8576b"
             ],
             [
              0.6666666666666666,
              "#ed7953"
             ],
             [
              0.7777777777777778,
              "#fb9f3a"
             ],
             [
              0.8888888888888888,
              "#fdca26"
             ],
             [
              1,
              "#f0f921"
             ]
            ],
            "type": "contour"
           }
          ],
          "contourcarpet": [
           {
            "colorbar": {
             "outlinewidth": 0,
             "ticks": ""
            },
            "type": "contourcarpet"
           }
          ],
          "heatmap": [
           {
            "colorbar": {
             "outlinewidth": 0,
             "ticks": ""
            },
            "colorscale": [
             [
              0,
              "#0d0887"
             ],
             [
              0.1111111111111111,
              "#46039f"
             ],
             [
              0.2222222222222222,
              "#7201a8"
             ],
             [
              0.3333333333333333,
              "#9c179e"
             ],
             [
              0.4444444444444444,
              "#bd3786"
             ],
             [
              0.5555555555555556,
              "#d8576b"
             ],
             [
              0.6666666666666666,
              "#ed7953"
             ],
             [
              0.7777777777777778,
              "#fb9f3a"
             ],
             [
              0.8888888888888888,
              "#fdca26"
             ],
             [
              1,
              "#f0f921"
             ]
            ],
            "type": "heatmap"
           }
          ],
          "heatmapgl": [
           {
            "colorbar": {
             "outlinewidth": 0,
             "ticks": ""
            },
            "colorscale": [
             [
              0,
              "#0d0887"
             ],
             [
              0.1111111111111111,
              "#46039f"
             ],
             [
              0.2222222222222222,
              "#7201a8"
             ],
             [
              0.3333333333333333,
              "#9c179e"
             ],
             [
              0.4444444444444444,
              "#bd3786"
             ],
             [
              0.5555555555555556,
              "#d8576b"
             ],
             [
              0.6666666666666666,
              "#ed7953"
             ],
             [
              0.7777777777777778,
              "#fb9f3a"
             ],
             [
              0.8888888888888888,
              "#fdca26"
             ],
             [
              1,
              "#f0f921"
             ]
            ],
            "type": "heatmapgl"
           }
          ],
          "histogram": [
           {
            "marker": {
             "pattern": {
              "fillmode": "overlay",
              "size": 10,
              "solidity": 0.2
             }
            },
            "type": "histogram"
           }
          ],
          "histogram2d": [
           {
            "colorbar": {
             "outlinewidth": 0,
             "ticks": ""
            },
            "colorscale": [
             [
              0,
              "#0d0887"
             ],
             [
              0.1111111111111111,
              "#46039f"
             ],
             [
              0.2222222222222222,
              "#7201a8"
             ],
             [
              0.3333333333333333,
              "#9c179e"
             ],
             [
              0.4444444444444444,
              "#bd3786"
             ],
             [
              0.5555555555555556,
              "#d8576b"
             ],
             [
              0.6666666666666666,
              "#ed7953"
             ],
             [
              0.7777777777777778,
              "#fb9f3a"
             ],
             [
              0.8888888888888888,
              "#fdca26"
             ],
             [
              1,
              "#f0f921"
             ]
            ],
            "type": "histogram2d"
           }
          ],
          "histogram2dcontour": [
           {
            "colorbar": {
             "outlinewidth": 0,
             "ticks": ""
            },
            "colorscale": [
             [
              0,
              "#0d0887"
             ],
             [
              0.1111111111111111,
              "#46039f"
             ],
             [
              0.2222222222222222,
              "#7201a8"
             ],
             [
              0.3333333333333333,
              "#9c179e"
             ],
             [
              0.4444444444444444,
              "#bd3786"
             ],
             [
              0.5555555555555556,
              "#d8576b"
             ],
             [
              0.6666666666666666,
              "#ed7953"
             ],
             [
              0.7777777777777778,
              "#fb9f3a"
             ],
             [
              0.8888888888888888,
              "#fdca26"
             ],
             [
              1,
              "#f0f921"
             ]
            ],
            "type": "histogram2dcontour"
           }
          ],
          "mesh3d": [
           {
            "colorbar": {
             "outlinewidth": 0,
             "ticks": ""
            },
            "type": "mesh3d"
           }
          ],
          "parcoords": [
           {
            "line": {
             "colorbar": {
              "outlinewidth": 0,
              "ticks": ""
             }
            },
            "type": "parcoords"
           }
          ],
          "pie": [
           {
            "automargin": true,
            "type": "pie"
           }
          ],
          "scatter": [
           {
            "fillpattern": {
             "fillmode": "overlay",
             "size": 10,
             "solidity": 0.2
            },
            "type": "scatter"
           }
          ],
          "scatter3d": [
           {
            "line": {
             "colorbar": {
              "outlinewidth": 0,
              "ticks": ""
             }
            },
            "marker": {
             "colorbar": {
              "outlinewidth": 0,
              "ticks": ""
             }
            },
            "type": "scatter3d"
           }
          ],
          "scattercarpet": [
           {
            "marker": {
             "colorbar": {
              "outlinewidth": 0,
              "ticks": ""
             }
            },
            "type": "scattercarpet"
           }
          ],
          "scattergeo": [
           {
            "marker": {
             "colorbar": {
              "outlinewidth": 0,
              "ticks": ""
             }
            },
            "type": "scattergeo"
           }
          ],
          "scattergl": [
           {
            "marker": {
             "colorbar": {
              "outlinewidth": 0,
              "ticks": ""
             }
            },
            "type": "scattergl"
           }
          ],
          "scattermapbox": [
           {
            "marker": {
             "colorbar": {
              "outlinewidth": 0,
              "ticks": ""
             }
            },
            "type": "scattermapbox"
           }
          ],
          "scatterpolar": [
           {
            "marker": {
             "colorbar": {
              "outlinewidth": 0,
              "ticks": ""
             }
            },
            "type": "scatterpolar"
           }
          ],
          "scatterpolargl": [
           {
            "marker": {
             "colorbar": {
              "outlinewidth": 0,
              "ticks": ""
             }
            },
            "type": "scatterpolargl"
           }
          ],
          "scatterternary": [
           {
            "marker": {
             "colorbar": {
              "outlinewidth": 0,
              "ticks": ""
             }
            },
            "type": "scatterternary"
           }
          ],
          "surface": [
           {
            "colorbar": {
             "outlinewidth": 0,
             "ticks": ""
            },
            "colorscale": [
             [
              0,
              "#0d0887"
             ],
             [
              0.1111111111111111,
              "#46039f"
             ],
             [
              0.2222222222222222,
              "#7201a8"
             ],
             [
              0.3333333333333333,
              "#9c179e"
             ],
             [
              0.4444444444444444,
              "#bd3786"
             ],
             [
              0.5555555555555556,
              "#d8576b"
             ],
             [
              0.6666666666666666,
              "#ed7953"
             ],
             [
              0.7777777777777778,
              "#fb9f3a"
             ],
             [
              0.8888888888888888,
              "#fdca26"
             ],
             [
              1,
              "#f0f921"
             ]
            ],
            "type": "surface"
           }
          ],
          "table": [
           {
            "cells": {
             "fill": {
              "color": "#EBF0F8"
             },
             "line": {
              "color": "white"
             }
            },
            "header": {
             "fill": {
              "color": "#C8D4E3"
             },
             "line": {
              "color": "white"
             }
            },
            "type": "table"
           }
          ]
         },
         "layout": {
          "annotationdefaults": {
           "arrowcolor": "#2a3f5f",
           "arrowhead": 0,
           "arrowwidth": 1
          },
          "autotypenumbers": "strict",
          "coloraxis": {
           "colorbar": {
            "outlinewidth": 0,
            "ticks": ""
           }
          },
          "colorscale": {
           "diverging": [
            [
             0,
             "#8e0152"
            ],
            [
             0.1,
             "#c51b7d"
            ],
            [
             0.2,
             "#de77ae"
            ],
            [
             0.3,
             "#f1b6da"
            ],
            [
             0.4,
             "#fde0ef"
            ],
            [
             0.5,
             "#f7f7f7"
            ],
            [
             0.6,
             "#e6f5d0"
            ],
            [
             0.7,
             "#b8e186"
            ],
            [
             0.8,
             "#7fbc41"
            ],
            [
             0.9,
             "#4d9221"
            ],
            [
             1,
             "#276419"
            ]
           ],
           "sequential": [
            [
             0,
             "#0d0887"
            ],
            [
             0.1111111111111111,
             "#46039f"
            ],
            [
             0.2222222222222222,
             "#7201a8"
            ],
            [
             0.3333333333333333,
             "#9c179e"
            ],
            [
             0.4444444444444444,
             "#bd3786"
            ],
            [
             0.5555555555555556,
             "#d8576b"
            ],
            [
             0.6666666666666666,
             "#ed7953"
            ],
            [
             0.7777777777777778,
             "#fb9f3a"
            ],
            [
             0.8888888888888888,
             "#fdca26"
            ],
            [
             1,
             "#f0f921"
            ]
           ],
           "sequentialminus": [
            [
             0,
             "#0d0887"
            ],
            [
             0.1111111111111111,
             "#46039f"
            ],
            [
             0.2222222222222222,
             "#7201a8"
            ],
            [
             0.3333333333333333,
             "#9c179e"
            ],
            [
             0.4444444444444444,
             "#bd3786"
            ],
            [
             0.5555555555555556,
             "#d8576b"
            ],
            [
             0.6666666666666666,
             "#ed7953"
            ],
            [
             0.7777777777777778,
             "#fb9f3a"
            ],
            [
             0.8888888888888888,
             "#fdca26"
            ],
            [
             1,
             "#f0f921"
            ]
           ]
          },
          "colorway": [
           "#636efa",
           "#EF553B",
           "#00cc96",
           "#ab63fa",
           "#FFA15A",
           "#19d3f3",
           "#FF6692",
           "#B6E880",
           "#FF97FF",
           "#FECB52"
          ],
          "font": {
           "color": "#2a3f5f"
          },
          "geo": {
           "bgcolor": "white",
           "lakecolor": "white",
           "landcolor": "#E5ECF6",
           "showlakes": true,
           "showland": true,
           "subunitcolor": "white"
          },
          "hoverlabel": {
           "align": "left"
          },
          "hovermode": "closest",
          "mapbox": {
           "style": "light"
          },
          "paper_bgcolor": "white",
          "plot_bgcolor": "#E5ECF6",
          "polar": {
           "angularaxis": {
            "gridcolor": "white",
            "linecolor": "white",
            "ticks": ""
           },
           "bgcolor": "#E5ECF6",
           "radialaxis": {
            "gridcolor": "white",
            "linecolor": "white",
            "ticks": ""
           }
          },
          "scene": {
           "xaxis": {
            "backgroundcolor": "#E5ECF6",
            "gridcolor": "white",
            "gridwidth": 2,
            "linecolor": "white",
            "showbackground": true,
            "ticks": "",
            "zerolinecolor": "white"
           },
           "yaxis": {
            "backgroundcolor": "#E5ECF6",
            "gridcolor": "white",
            "gridwidth": 2,
            "linecolor": "white",
            "showbackground": true,
            "ticks": "",
            "zerolinecolor": "white"
           },
           "zaxis": {
            "backgroundcolor": "#E5ECF6",
            "gridcolor": "white",
            "gridwidth": 2,
            "linecolor": "white",
            "showbackground": true,
            "ticks": "",
            "zerolinecolor": "white"
           }
          },
          "shapedefaults": {
           "line": {
            "color": "#2a3f5f"
           }
          },
          "ternary": {
           "aaxis": {
            "gridcolor": "white",
            "linecolor": "white",
            "ticks": ""
           },
           "baxis": {
            "gridcolor": "white",
            "linecolor": "white",
            "ticks": ""
           },
           "bgcolor": "#E5ECF6",
           "caxis": {
            "gridcolor": "white",
            "linecolor": "white",
            "ticks": ""
           }
          },
          "title": {
           "x": 0.05
          },
          "xaxis": {
           "automargin": true,
           "gridcolor": "white",
           "linecolor": "white",
           "ticks": "",
           "title": {
            "standoff": 15
           },
           "zerolinecolor": "white",
           "zerolinewidth": 2
          },
          "yaxis": {
           "automargin": true,
           "gridcolor": "white",
           "linecolor": "white",
           "ticks": "",
           "title": {
            "standoff": 15
           },
           "zerolinecolor": "white",
           "zerolinewidth": 2
          }
         }
        },
        "title": {
         "text": "Follow - Moyenne temps 1er réponse aux tickets"
        },
        "xaxis": {
         "anchor": "y",
         "domain": [
          0,
          1
         ],
         "title": {
          "text": "Semaine"
         }
        },
        "yaxis": {
         "anchor": "x",
         "domain": [
          0,
          1
         ],
         "range": [
          0,
          30
         ],
         "title": {
          "text": "working_hours"
         }
        }
       }
      }
     },
     "metadata": {},
     "output_type": "display_data"
    }
   ],
   "source": [
    "import pandas as pd\n",
    "import plotly.express as px\n",
    "\n",
    "# Regroupement par semaine et calcul de la moyenne des heures travaillées\n",
    "follow_groupe = follow.groupby('Semaine').agg({'working_hours': 'mean'}).reset_index()\n",
    "\n",
    "# Filtrer uniquement les semaines ayant des valeurs (exclure NaN et 0 si nécessaire)\n",
    "follow_groupe = follow_groupe[follow_groupe['working_hours'].notna()]\n",
    "\n",
    "# Supprimer la semaine \"S2024-01\"\n",
    "follow_groupe = follow_groupe[follow_groupe['Semaine'] != \"S2024-01\"]\n",
    "\n",
    "# Création du graphique à barres\n",
    "fig = px.bar(follow_groupe, x='Semaine', y='working_hours', title='Follow -Moyenne temps 1er réponse aux tickets')\n",
    "\n",
    "# Ajout d'une ligne horizontale de référence à 2\n",
    "fig.add_hline(y=2, line_dash=\"dot\", line_color=\"red\", annotation_text=\"Référence : 2h\")\n",
    "\n",
    "# Bornage de l'axe Y à 40\n",
    "fig.update_layout(yaxis=dict(range=[0, 30]))\n",
    "\n",
    "# Affichage du graphique\n",
    "fig.show()\n"
   ]
  },
  {
   "cell_type": "code",
   "execution_count": 47,
   "metadata": {},
   "outputs": [
    {
     "name": "stdout",
     "output_type": "stream",
     "text": [
      "Nombre de fois où le temps de réponse a un ticket C2 est supérieur à 2 : 145 / 391\n"
     ]
    }
   ],
   "source": [
    "count_sup_2 = (follow['working_hours'] > 2).sum()\n",
    "print(\"Nombre de fois où le temps de réponse a un ticket C2 est supérieur à 2 :\", count_sup_2, \"/\", len(follow))"
   ]
  },
  {
   "cell_type": "code",
   "execution_count": 53,
   "metadata": {},
   "outputs": [
    {
     "name": "stdout",
     "output_type": "stream",
     "text": [
      "Nombre de fois où le temps de réponse a un ticket C2 est supérieur à 2 : 34 / 193\n"
     ]
    },
    {
     "data": {
      "text/plain": [
       "0.17616580310880828"
      ]
     },
     "execution_count": 53,
     "metadata": {},
     "output_type": "execute_result"
    }
   ],
   "source": [
    "# Filtrer les semaines entre \"S2024-31\" et \"S2024-43\" incluses\n",
    "follow_1er_partie = follow[(follow['Semaine'] >= \"S2024-31\") & (follow['Semaine'] <= \"S2024-47\")]\n",
    "\n",
    "count_sup_2 = (follow_1er_partie['working_hours'] > 2).sum()\n",
    "print(\"Nombre de fois où le temps de réponse a un ticket C2 est supérieur à 2 :\", count_sup_2, \"/\", len(follow_1er_partie))\n",
    "\n",
    "proportion = count_sup_2 / len(follow_1er_partie)\n",
    "proportion\n"
   ]
  },
  {
   "cell_type": "code",
   "execution_count": 54,
   "metadata": {},
   "outputs": [
    {
     "name": "stdout",
     "output_type": "stream",
     "text": [
      "Nombre de fois où le temps de réponse a un ticket C2 est supérieur à 2 : 114 / 201\n"
     ]
    },
    {
     "data": {
      "text/plain": [
       "0.5671641791044776"
      ]
     },
     "execution_count": 54,
     "metadata": {},
     "output_type": "execute_result"
    }
   ],
   "source": [
    "# Filtrer les semaines entre \"S2024-31\" et \"S2024-43\" incluses\n",
    "follow_2eme_partie = follow[(follow['Semaine'] >= \"S2024-47\")]\n",
    "\n",
    "count_sup_2 = (follow_2eme_partie['working_hours'] > 2).sum()\n",
    "print(\"Nombre de fois où le temps de réponse a un ticket C2 est supérieur à 2 :\", count_sup_2, \"/\", len(follow_2eme_partie))\n",
    "\n",
    "proportion = count_sup_2 / len(follow_2eme_partie)\n",
    "proportion\n",
    "\n"
   ]
  },
  {
   "cell_type": "code",
   "execution_count": 55,
   "metadata": {},
   "outputs": [
    {
     "data": {
      "text/plain": [
       "count    391.000000\n",
       "mean       3.642455\n",
       "std        8.209832\n",
       "min        0.000000\n",
       "25%        0.466667\n",
       "50%        1.316667\n",
       "75%        3.266667\n",
       "max      101.533333\n",
       "Name: working_hours, dtype: float64"
      ]
     },
     "execution_count": 55,
     "metadata": {},
     "output_type": "execute_result"
    }
   ],
   "source": [
    "follow.working_hours.describe()"
   ]
  },
  {
   "cell_type": "code",
   "execution_count": 56,
   "metadata": {},
   "outputs": [
    {
     "data": {
      "text/plain": [
       "count    193.000000\n",
       "mean       1.945250\n",
       "std        5.588426\n",
       "min        0.000000\n",
       "25%        0.366667\n",
       "50%        0.783333\n",
       "75%        1.683333\n",
       "max       58.900000\n",
       "Name: working_hours, dtype: float64"
      ]
     },
     "execution_count": 56,
     "metadata": {},
     "output_type": "execute_result"
    }
   ],
   "source": [
    "follow_1er_partie.working_hours.describe()"
   ]
  },
  {
   "cell_type": "code",
   "execution_count": 57,
   "metadata": {},
   "outputs": [
    {
     "data": {
      "text/plain": [
       "count    201.000000\n",
       "mean       5.089221\n",
       "std        9.478601\n",
       "min        0.000000\n",
       "25%        0.683333\n",
       "50%        2.200000\n",
       "75%        5.650000\n",
       "max      101.533333\n",
       "Name: working_hours, dtype: float64"
      ]
     },
     "execution_count": 57,
     "metadata": {},
     "output_type": "execute_result"
    }
   ],
   "source": [
    "follow_2eme_partie.working_hours.describe()"
   ]
  },
  {
   "cell_type": "code",
   "execution_count": 67,
   "metadata": {},
   "outputs": [
    {
     "data": {
      "text/plain": [
       "Catégorie\n",
       "Facturation                                            68\n",
       "PbConnexion                                            41\n",
       "PC/SC                                                  30\n",
       "Information                                            30\n",
       "Remplacant / Collaborateur                             22\n",
       "Rejets                                                 18\n",
       "Recettes                                               16\n",
       "Authentification / sécurisation CPS                    15\n",
       "Appairage                                              13\n",
       "Stellair Connexion                                     13\n",
       "ADV (contrats, résiliation, commerce)                  12\n",
       "Téléservices                                            9\n",
       "Fonctionnalités                                         9\n",
       "Lecture CPS                                             8\n",
       "SCOR                                                    6\n",
       "Facturation C2S                                         6\n",
       "Facturation TP AMC                                      6\n",
       "Lecture CV                                              5\n",
       "CB                                                      4\n",
       "Activation / Désactivation                              4\n",
       "Lecteur                                                 4\n",
       "MAN                                                     4\n",
       "Amélioration                                            4\n",
       "Livraison                                               3\n",
       "TPAMC                                                   3\n",
       "Facturation ALD                                         2\n",
       "Connexion Wifi                                          2\n",
       "ApCv                                                    2\n",
       "PbConnexion; Echange                                    2\n",
       "Lecteur Ethernet                                        2\n",
       "Lecteur; PbConnexion                                    1\n",
       "AmeliPro                                                1\n",
       "Remplacement; ADV (contrats, résiliation, commerce)     1\n",
       "3G; Connexion 3G                                        1\n",
       "Lecteur; MAN                                            1\n",
       "Lecture CV; Echange                                     1\n",
       "Lecteur/Dechargement                                    1\n",
       "Connexion 3G                                            1\n",
       "Authentification / sécurisation ProSanteConnect         1\n",
       "AME                                                     1\n",
       "Remplacement                                            1\n",
       "Stellair Erreur                                         1\n",
       "Authentification / sécurisation CPS; Echange            1\n",
       "Lecteur CPS                                             1\n",
       "Authentification / sécurisation CPS; Rejets             1\n",
       "Télétransmission                                        1\n",
       "Impression                                              1\n",
       "MAJ                                                     1\n",
       "Name: count, dtype: int64"
      ]
     },
     "execution_count": 67,
     "metadata": {},
     "output_type": "execute_result"
    }
   ],
   "source": [
    "follow.Catégorie.value_counts()"
   ]
  },
  {
   "cell_type": "code",
   "execution_count": null,
   "metadata": {},
   "outputs": [],
   "source": []
  },
  {
   "cell_type": "code",
   "execution_count": null,
   "metadata": {},
   "outputs": [],
   "source": []
  },
  {
   "cell_type": "code",
   "execution_count": null,
   "metadata": {},
   "outputs": [],
   "source": []
  },
  {
   "cell_type": "code",
   "execution_count": null,
   "metadata": {},
   "outputs": [],
   "source": []
  },
  {
   "cell_type": "code",
   "execution_count": null,
   "metadata": {},
   "outputs": [],
   "source": []
  },
  {
   "cell_type": "code",
   "execution_count": 17,
   "metadata": {},
   "outputs": [],
   "source": [
    "follow.to_excel('follow.xlsx')"
   ]
  },
  {
   "cell_type": "code",
   "execution_count": 22,
   "metadata": {},
   "outputs": [
    {
     "data": {
      "text/plain": [
       "Source\n",
       "Chat              0.266295\n",
       "Téléphone         0.265497\n",
       "Formulaire        0.223640\n",
       "E-mail            0.154475\n",
       "Migration JIRA    0.090094\n",
       "Name: proportion, dtype: float64"
      ]
     },
     "execution_count": 22,
     "metadata": {},
     "output_type": "execute_result"
    }
   ],
   "source": [
    "df.Source.value_counts(normalize=True)"
   ]
  },
  {
   "cell_type": "code",
   "execution_count": 25,
   "metadata": {},
   "outputs": [
    {
     "data": {
      "text/html": [
       "<div>\n",
       "<style scoped>\n",
       "    .dataframe tbody tr th:only-of-type {\n",
       "        vertical-align: middle;\n",
       "    }\n",
       "\n",
       "    .dataframe tbody tr th {\n",
       "        vertical-align: top;\n",
       "    }\n",
       "\n",
       "    .dataframe thead th {\n",
       "        text-align: right;\n",
       "    }\n",
       "</style>\n",
       "<table border=\"1\" class=\"dataframe\">\n",
       "  <thead>\n",
       "    <tr style=\"text-align: right;\">\n",
       "      <th></th>\n",
       "      <th>Mois</th>\n",
       "      <th>Ticket ID</th>\n",
       "    </tr>\n",
       "  </thead>\n",
       "  <tbody>\n",
       "    <tr>\n",
       "      <th>0</th>\n",
       "      <td>S2024-05</td>\n",
       "      <td>1</td>\n",
       "    </tr>\n",
       "    <tr>\n",
       "      <th>1</th>\n",
       "      <td>S2024-06</td>\n",
       "      <td>122</td>\n",
       "    </tr>\n",
       "    <tr>\n",
       "      <th>2</th>\n",
       "      <td>S2024-07</td>\n",
       "      <td>135</td>\n",
       "    </tr>\n",
       "    <tr>\n",
       "      <th>3</th>\n",
       "      <td>S2024-08</td>\n",
       "      <td>97</td>\n",
       "    </tr>\n",
       "    <tr>\n",
       "      <th>4</th>\n",
       "      <td>S2024-09</td>\n",
       "      <td>155</td>\n",
       "    </tr>\n",
       "    <tr>\n",
       "      <th>5</th>\n",
       "      <td>S2024-10</td>\n",
       "      <td>210</td>\n",
       "    </tr>\n",
       "    <tr>\n",
       "      <th>6</th>\n",
       "      <td>S2024-11</td>\n",
       "      <td>169</td>\n",
       "    </tr>\n",
       "    <tr>\n",
       "      <th>7</th>\n",
       "      <td>S2024-12</td>\n",
       "      <td>271</td>\n",
       "    </tr>\n",
       "    <tr>\n",
       "      <th>8</th>\n",
       "      <td>S2025-01</td>\n",
       "      <td>238</td>\n",
       "    </tr>\n",
       "  </tbody>\n",
       "</table>\n",
       "</div>"
      ],
      "text/plain": [
       "       Mois  Ticket ID\n",
       "0  S2024-05          1\n",
       "1  S2024-06        122\n",
       "2  S2024-07        135\n",
       "3  S2024-08         97\n",
       "4  S2024-09        155\n",
       "5  S2024-10        210\n",
       "6  S2024-11        169\n",
       "7  S2024-12        271\n",
       "8  S2025-01        238"
      ]
     },
     "execution_count": 25,
     "metadata": {},
     "output_type": "execute_result"
    }
   ],
   "source": [
    "df[(df['Pipeline'] == 'SSIA') & ((df['Source'] == 'Chat') | (df['Source'] == 'E-mail'))].groupby('Mois')['Ticket ID'].nunique().reset_index()"
   ]
  },
  {
   "cell_type": "code",
   "execution_count": 9,
   "metadata": {},
   "outputs": [
    {
     "data": {
      "text/html": [
       "<div>\n",
       "<style scoped>\n",
       "    .dataframe tbody tr th:only-of-type {\n",
       "        vertical-align: middle;\n",
       "    }\n",
       "\n",
       "    .dataframe tbody tr th {\n",
       "        vertical-align: top;\n",
       "    }\n",
       "\n",
       "    .dataframe thead th {\n",
       "        text-align: right;\n",
       "    }\n",
       "</style>\n",
       "<table border=\"1\" class=\"dataframe\">\n",
       "  <thead>\n",
       "    <tr style=\"text-align: right;\">\n",
       "      <th></th>\n",
       "      <th>Semaine</th>\n",
       "      <th>Ticket ID</th>\n",
       "    </tr>\n",
       "  </thead>\n",
       "  <tbody>\n",
       "    <tr>\n",
       "      <th>0</th>\n",
       "      <td>S2022-45</td>\n",
       "      <td>1</td>\n",
       "    </tr>\n",
       "    <tr>\n",
       "      <th>1</th>\n",
       "      <td>S2023-43</td>\n",
       "      <td>1</td>\n",
       "    </tr>\n",
       "    <tr>\n",
       "      <th>2</th>\n",
       "      <td>S2023-47</td>\n",
       "      <td>1</td>\n",
       "    </tr>\n",
       "    <tr>\n",
       "      <th>3</th>\n",
       "      <td>S2024-01</td>\n",
       "      <td>3</td>\n",
       "    </tr>\n",
       "    <tr>\n",
       "      <th>4</th>\n",
       "      <td>S2024-06</td>\n",
       "      <td>1</td>\n",
       "    </tr>\n",
       "    <tr>\n",
       "      <th>5</th>\n",
       "      <td>S2024-11</td>\n",
       "      <td>1</td>\n",
       "    </tr>\n",
       "    <tr>\n",
       "      <th>6</th>\n",
       "      <td>S2024-13</td>\n",
       "      <td>1</td>\n",
       "    </tr>\n",
       "    <tr>\n",
       "      <th>7</th>\n",
       "      <td>S2024-14</td>\n",
       "      <td>1</td>\n",
       "    </tr>\n",
       "    <tr>\n",
       "      <th>8</th>\n",
       "      <td>S2024-16</td>\n",
       "      <td>1</td>\n",
       "    </tr>\n",
       "    <tr>\n",
       "      <th>9</th>\n",
       "      <td>S2024-17</td>\n",
       "      <td>3</td>\n",
       "    </tr>\n",
       "    <tr>\n",
       "      <th>10</th>\n",
       "      <td>S2024-18</td>\n",
       "      <td>1</td>\n",
       "    </tr>\n",
       "    <tr>\n",
       "      <th>11</th>\n",
       "      <td>S2024-19</td>\n",
       "      <td>2</td>\n",
       "    </tr>\n",
       "    <tr>\n",
       "      <th>12</th>\n",
       "      <td>S2024-20</td>\n",
       "      <td>2</td>\n",
       "    </tr>\n",
       "    <tr>\n",
       "      <th>13</th>\n",
       "      <td>S2024-21</td>\n",
       "      <td>5</td>\n",
       "    </tr>\n",
       "    <tr>\n",
       "      <th>14</th>\n",
       "      <td>S2024-22</td>\n",
       "      <td>6</td>\n",
       "    </tr>\n",
       "    <tr>\n",
       "      <th>15</th>\n",
       "      <td>S2024-23</td>\n",
       "      <td>10</td>\n",
       "    </tr>\n",
       "    <tr>\n",
       "      <th>16</th>\n",
       "      <td>S2024-24</td>\n",
       "      <td>8</td>\n",
       "    </tr>\n",
       "    <tr>\n",
       "      <th>17</th>\n",
       "      <td>S2024-25</td>\n",
       "      <td>9</td>\n",
       "    </tr>\n",
       "    <tr>\n",
       "      <th>18</th>\n",
       "      <td>S2024-26</td>\n",
       "      <td>12</td>\n",
       "    </tr>\n",
       "    <tr>\n",
       "      <th>19</th>\n",
       "      <td>S2024-27</td>\n",
       "      <td>8</td>\n",
       "    </tr>\n",
       "    <tr>\n",
       "      <th>20</th>\n",
       "      <td>S2024-28</td>\n",
       "      <td>8</td>\n",
       "    </tr>\n",
       "    <tr>\n",
       "      <th>21</th>\n",
       "      <td>S2024-29</td>\n",
       "      <td>16</td>\n",
       "    </tr>\n",
       "    <tr>\n",
       "      <th>22</th>\n",
       "      <td>S2024-30</td>\n",
       "      <td>9</td>\n",
       "    </tr>\n",
       "    <tr>\n",
       "      <th>23</th>\n",
       "      <td>S2024-31</td>\n",
       "      <td>5</td>\n",
       "    </tr>\n",
       "    <tr>\n",
       "      <th>24</th>\n",
       "      <td>S2024-32</td>\n",
       "      <td>3</td>\n",
       "    </tr>\n",
       "    <tr>\n",
       "      <th>25</th>\n",
       "      <td>S2024-33</td>\n",
       "      <td>3</td>\n",
       "    </tr>\n",
       "    <tr>\n",
       "      <th>26</th>\n",
       "      <td>S2024-34</td>\n",
       "      <td>11</td>\n",
       "    </tr>\n",
       "    <tr>\n",
       "      <th>27</th>\n",
       "      <td>S2024-35</td>\n",
       "      <td>7</td>\n",
       "    </tr>\n",
       "    <tr>\n",
       "      <th>28</th>\n",
       "      <td>S2024-36</td>\n",
       "      <td>12</td>\n",
       "    </tr>\n",
       "    <tr>\n",
       "      <th>29</th>\n",
       "      <td>S2024-37</td>\n",
       "      <td>5</td>\n",
       "    </tr>\n",
       "    <tr>\n",
       "      <th>30</th>\n",
       "      <td>S2024-38</td>\n",
       "      <td>6</td>\n",
       "    </tr>\n",
       "    <tr>\n",
       "      <th>31</th>\n",
       "      <td>S2024-39</td>\n",
       "      <td>12</td>\n",
       "    </tr>\n",
       "    <tr>\n",
       "      <th>32</th>\n",
       "      <td>S2024-40</td>\n",
       "      <td>6</td>\n",
       "    </tr>\n",
       "    <tr>\n",
       "      <th>33</th>\n",
       "      <td>S2024-41</td>\n",
       "      <td>9</td>\n",
       "    </tr>\n",
       "    <tr>\n",
       "      <th>34</th>\n",
       "      <td>S2024-42</td>\n",
       "      <td>7</td>\n",
       "    </tr>\n",
       "    <tr>\n",
       "      <th>35</th>\n",
       "      <td>S2024-43</td>\n",
       "      <td>10</td>\n",
       "    </tr>\n",
       "    <tr>\n",
       "      <th>36</th>\n",
       "      <td>S2024-44</td>\n",
       "      <td>13</td>\n",
       "    </tr>\n",
       "    <tr>\n",
       "      <th>37</th>\n",
       "      <td>S2024-45</td>\n",
       "      <td>4</td>\n",
       "    </tr>\n",
       "    <tr>\n",
       "      <th>38</th>\n",
       "      <td>S2024-46</td>\n",
       "      <td>8</td>\n",
       "    </tr>\n",
       "    <tr>\n",
       "      <th>39</th>\n",
       "      <td>S2024-47</td>\n",
       "      <td>15</td>\n",
       "    </tr>\n",
       "    <tr>\n",
       "      <th>40</th>\n",
       "      <td>S2024-48</td>\n",
       "      <td>11</td>\n",
       "    </tr>\n",
       "    <tr>\n",
       "      <th>41</th>\n",
       "      <td>S2024-49</td>\n",
       "      <td>12</td>\n",
       "    </tr>\n",
       "    <tr>\n",
       "      <th>42</th>\n",
       "      <td>S2024-50</td>\n",
       "      <td>15</td>\n",
       "    </tr>\n",
       "    <tr>\n",
       "      <th>43</th>\n",
       "      <td>S2024-51</td>\n",
       "      <td>18</td>\n",
       "    </tr>\n",
       "    <tr>\n",
       "      <th>44</th>\n",
       "      <td>S2024-52</td>\n",
       "      <td>5</td>\n",
       "    </tr>\n",
       "    <tr>\n",
       "      <th>45</th>\n",
       "      <td>S2025-01</td>\n",
       "      <td>4</td>\n",
       "    </tr>\n",
       "    <tr>\n",
       "      <th>46</th>\n",
       "      <td>S2025-02</td>\n",
       "      <td>10</td>\n",
       "    </tr>\n",
       "    <tr>\n",
       "      <th>47</th>\n",
       "      <td>S2025-03</td>\n",
       "      <td>9</td>\n",
       "    </tr>\n",
       "    <tr>\n",
       "      <th>48</th>\n",
       "      <td>S2025-04</td>\n",
       "      <td>1</td>\n",
       "    </tr>\n",
       "  </tbody>\n",
       "</table>\n",
       "</div>"
      ],
      "text/plain": [
       "     Semaine  Ticket ID\n",
       "0   S2022-45          1\n",
       "1   S2023-43          1\n",
       "2   S2023-47          1\n",
       "3   S2024-01          3\n",
       "4   S2024-06          1\n",
       "5   S2024-11          1\n",
       "6   S2024-13          1\n",
       "7   S2024-14          1\n",
       "8   S2024-16          1\n",
       "9   S2024-17          3\n",
       "10  S2024-18          1\n",
       "11  S2024-19          2\n",
       "12  S2024-20          2\n",
       "13  S2024-21          5\n",
       "14  S2024-22          6\n",
       "15  S2024-23         10\n",
       "16  S2024-24          8\n",
       "17  S2024-25          9\n",
       "18  S2024-26         12\n",
       "19  S2024-27          8\n",
       "20  S2024-28          8\n",
       "21  S2024-29         16\n",
       "22  S2024-30          9\n",
       "23  S2024-31          5\n",
       "24  S2024-32          3\n",
       "25  S2024-33          3\n",
       "26  S2024-34         11\n",
       "27  S2024-35          7\n",
       "28  S2024-36         12\n",
       "29  S2024-37          5\n",
       "30  S2024-38          6\n",
       "31  S2024-39         12\n",
       "32  S2024-40          6\n",
       "33  S2024-41          9\n",
       "34  S2024-42          7\n",
       "35  S2024-43         10\n",
       "36  S2024-44         13\n",
       "37  S2024-45          4\n",
       "38  S2024-46          8\n",
       "39  S2024-47         15\n",
       "40  S2024-48         11\n",
       "41  S2024-49         12\n",
       "42  S2024-50         15\n",
       "43  S2024-51         18\n",
       "44  S2024-52          5\n",
       "45  S2025-01          4\n",
       "46  S2025-02         10\n",
       "47  S2025-03          9\n",
       "48  S2025-04          1"
      ]
     },
     "execution_count": 9,
     "metadata": {},
     "output_type": "execute_result"
    }
   ],
   "source": [
    "df[df['Propriétaire du ticket'] == 'Pierre Goupillon'].groupby('Semaine')['Ticket ID'].nunique().reset_index()"
   ]
  },
  {
   "cell_type": "code",
   "execution_count": 107,
   "metadata": {},
   "outputs": [
    {
     "data": {
      "text/plain": [
       "Source\n",
       "Chat              1336\n",
       "Téléphone         1332\n",
       "Formulaire        1122\n",
       "E-mail             775\n",
       "Migration JIRA     452\n",
       "Name: count, dtype: int64"
      ]
     },
     "execution_count": 107,
     "metadata": {},
     "output_type": "execute_result"
    }
   ],
   "source": [
    "df.Source.value_counts()"
   ]
  },
  {
   "cell_type": "code",
   "execution_count": 108,
   "metadata": {},
   "outputs": [
    {
     "data": {
      "application/vnd.plotly.v1+json": {
       "config": {
        "plotlyServerURL": "https://plot.ly"
       },
       "data": [
        {
         "domain": {
          "x": [
           0,
           1
          ],
          "y": [
           0,
           1
          ]
         },
         "hovertemplate": "Propriétaire du ticket=%{label}<br>Nombre d'e-mails envoyés=%{value}<extra></extra>",
         "labels": [
          "Archimède KESSI",
          "Christophe Brichet",
          "FREDERIC SAUVAN",
          "HUMBLOT NASSUF",
          "Olivier Sainte-Rose",
          "Pierre Goupillon"
         ],
         "legendgroup": "",
         "name": "",
         "showlegend": true,
         "type": "pie",
         "values": [
          473,
          389,
          419,
          104,
          260,
          480
         ]
        }
       ],
       "layout": {
        "legend": {
         "tracegroupgap": 0
        },
        "template": {
         "data": {
          "bar": [
           {
            "error_x": {
             "color": "#2a3f5f"
            },
            "error_y": {
             "color": "#2a3f5f"
            },
            "marker": {
             "line": {
              "color": "#E5ECF6",
              "width": 0.5
             },
             "pattern": {
              "fillmode": "overlay",
              "size": 10,
              "solidity": 0.2
             }
            },
            "type": "bar"
           }
          ],
          "barpolar": [
           {
            "marker": {
             "line": {
              "color": "#E5ECF6",
              "width": 0.5
             },
             "pattern": {
              "fillmode": "overlay",
              "size": 10,
              "solidity": 0.2
             }
            },
            "type": "barpolar"
           }
          ],
          "carpet": [
           {
            "aaxis": {
             "endlinecolor": "#2a3f5f",
             "gridcolor": "white",
             "linecolor": "white",
             "minorgridcolor": "white",
             "startlinecolor": "#2a3f5f"
            },
            "baxis": {
             "endlinecolor": "#2a3f5f",
             "gridcolor": "white",
             "linecolor": "white",
             "minorgridcolor": "white",
             "startlinecolor": "#2a3f5f"
            },
            "type": "carpet"
           }
          ],
          "choropleth": [
           {
            "colorbar": {
             "outlinewidth": 0,
             "ticks": ""
            },
            "type": "choropleth"
           }
          ],
          "contour": [
           {
            "colorbar": {
             "outlinewidth": 0,
             "ticks": ""
            },
            "colorscale": [
             [
              0,
              "#0d0887"
             ],
             [
              0.1111111111111111,
              "#46039f"
             ],
             [
              0.2222222222222222,
              "#7201a8"
             ],
             [
              0.3333333333333333,
              "#9c179e"
             ],
             [
              0.4444444444444444,
              "#bd3786"
             ],
             [
              0.5555555555555556,
              "#d8576b"
             ],
             [
              0.6666666666666666,
              "#ed7953"
             ],
             [
              0.7777777777777778,
              "#fb9f3a"
             ],
             [
              0.8888888888888888,
              "#fdca26"
             ],
             [
              1,
              "#f0f921"
             ]
            ],
            "type": "contour"
           }
          ],
          "contourcarpet": [
           {
            "colorbar": {
             "outlinewidth": 0,
             "ticks": ""
            },
            "type": "contourcarpet"
           }
          ],
          "heatmap": [
           {
            "colorbar": {
             "outlinewidth": 0,
             "ticks": ""
            },
            "colorscale": [
             [
              0,
              "#0d0887"
             ],
             [
              0.1111111111111111,
              "#46039f"
             ],
             [
              0.2222222222222222,
              "#7201a8"
             ],
             [
              0.3333333333333333,
              "#9c179e"
             ],
             [
              0.4444444444444444,
              "#bd3786"
             ],
             [
              0.5555555555555556,
              "#d8576b"
             ],
             [
              0.6666666666666666,
              "#ed7953"
             ],
             [
              0.7777777777777778,
              "#fb9f3a"
             ],
             [
              0.8888888888888888,
              "#fdca26"
             ],
             [
              1,
              "#f0f921"
             ]
            ],
            "type": "heatmap"
           }
          ],
          "heatmapgl": [
           {
            "colorbar": {
             "outlinewidth": 0,
             "ticks": ""
            },
            "colorscale": [
             [
              0,
              "#0d0887"
             ],
             [
              0.1111111111111111,
              "#46039f"
             ],
             [
              0.2222222222222222,
              "#7201a8"
             ],
             [
              0.3333333333333333,
              "#9c179e"
             ],
             [
              0.4444444444444444,
              "#bd3786"
             ],
             [
              0.5555555555555556,
              "#d8576b"
             ],
             [
              0.6666666666666666,
              "#ed7953"
             ],
             [
              0.7777777777777778,
              "#fb9f3a"
             ],
             [
              0.8888888888888888,
              "#fdca26"
             ],
             [
              1,
              "#f0f921"
             ]
            ],
            "type": "heatmapgl"
           }
          ],
          "histogram": [
           {
            "marker": {
             "pattern": {
              "fillmode": "overlay",
              "size": 10,
              "solidity": 0.2
             }
            },
            "type": "histogram"
           }
          ],
          "histogram2d": [
           {
            "colorbar": {
             "outlinewidth": 0,
             "ticks": ""
            },
            "colorscale": [
             [
              0,
              "#0d0887"
             ],
             [
              0.1111111111111111,
              "#46039f"
             ],
             [
              0.2222222222222222,
              "#7201a8"
             ],
             [
              0.3333333333333333,
              "#9c179e"
             ],
             [
              0.4444444444444444,
              "#bd3786"
             ],
             [
              0.5555555555555556,
              "#d8576b"
             ],
             [
              0.6666666666666666,
              "#ed7953"
             ],
             [
              0.7777777777777778,
              "#fb9f3a"
             ],
             [
              0.8888888888888888,
              "#fdca26"
             ],
             [
              1,
              "#f0f921"
             ]
            ],
            "type": "histogram2d"
           }
          ],
          "histogram2dcontour": [
           {
            "colorbar": {
             "outlinewidth": 0,
             "ticks": ""
            },
            "colorscale": [
             [
              0,
              "#0d0887"
             ],
             [
              0.1111111111111111,
              "#46039f"
             ],
             [
              0.2222222222222222,
              "#7201a8"
             ],
             [
              0.3333333333333333,
              "#9c179e"
             ],
             [
              0.4444444444444444,
              "#bd3786"
             ],
             [
              0.5555555555555556,
              "#d8576b"
             ],
             [
              0.6666666666666666,
              "#ed7953"
             ],
             [
              0.7777777777777778,
              "#fb9f3a"
             ],
             [
              0.8888888888888888,
              "#fdca26"
             ],
             [
              1,
              "#f0f921"
             ]
            ],
            "type": "histogram2dcontour"
           }
          ],
          "mesh3d": [
           {
            "colorbar": {
             "outlinewidth": 0,
             "ticks": ""
            },
            "type": "mesh3d"
           }
          ],
          "parcoords": [
           {
            "line": {
             "colorbar": {
              "outlinewidth": 0,
              "ticks": ""
             }
            },
            "type": "parcoords"
           }
          ],
          "pie": [
           {
            "automargin": true,
            "type": "pie"
           }
          ],
          "scatter": [
           {
            "fillpattern": {
             "fillmode": "overlay",
             "size": 10,
             "solidity": 0.2
            },
            "type": "scatter"
           }
          ],
          "scatter3d": [
           {
            "line": {
             "colorbar": {
              "outlinewidth": 0,
              "ticks": ""
             }
            },
            "marker": {
             "colorbar": {
              "outlinewidth": 0,
              "ticks": ""
             }
            },
            "type": "scatter3d"
           }
          ],
          "scattercarpet": [
           {
            "marker": {
             "colorbar": {
              "outlinewidth": 0,
              "ticks": ""
             }
            },
            "type": "scattercarpet"
           }
          ],
          "scattergeo": [
           {
            "marker": {
             "colorbar": {
              "outlinewidth": 0,
              "ticks": ""
             }
            },
            "type": "scattergeo"
           }
          ],
          "scattergl": [
           {
            "marker": {
             "colorbar": {
              "outlinewidth": 0,
              "ticks": ""
             }
            },
            "type": "scattergl"
           }
          ],
          "scattermapbox": [
           {
            "marker": {
             "colorbar": {
              "outlinewidth": 0,
              "ticks": ""
             }
            },
            "type": "scattermapbox"
           }
          ],
          "scatterpolar": [
           {
            "marker": {
             "colorbar": {
              "outlinewidth": 0,
              "ticks": ""
             }
            },
            "type": "scatterpolar"
           }
          ],
          "scatterpolargl": [
           {
            "marker": {
             "colorbar": {
              "outlinewidth": 0,
              "ticks": ""
             }
            },
            "type": "scatterpolargl"
           }
          ],
          "scatterternary": [
           {
            "marker": {
             "colorbar": {
              "outlinewidth": 0,
              "ticks": ""
             }
            },
            "type": "scatterternary"
           }
          ],
          "surface": [
           {
            "colorbar": {
             "outlinewidth": 0,
             "ticks": ""
            },
            "colorscale": [
             [
              0,
              "#0d0887"
             ],
             [
              0.1111111111111111,
              "#46039f"
             ],
             [
              0.2222222222222222,
              "#7201a8"
             ],
             [
              0.3333333333333333,
              "#9c179e"
             ],
             [
              0.4444444444444444,
              "#bd3786"
             ],
             [
              0.5555555555555556,
              "#d8576b"
             ],
             [
              0.6666666666666666,
              "#ed7953"
             ],
             [
              0.7777777777777778,
              "#fb9f3a"
             ],
             [
              0.8888888888888888,
              "#fdca26"
             ],
             [
              1,
              "#f0f921"
             ]
            ],
            "type": "surface"
           }
          ],
          "table": [
           {
            "cells": {
             "fill": {
              "color": "#EBF0F8"
             },
             "line": {
              "color": "white"
             }
            },
            "header": {
             "fill": {
              "color": "#C8D4E3"
             },
             "line": {
              "color": "white"
             }
            },
            "type": "table"
           }
          ]
         },
         "layout": {
          "annotationdefaults": {
           "arrowcolor": "#2a3f5f",
           "arrowhead": 0,
           "arrowwidth": 1
          },
          "autotypenumbers": "strict",
          "coloraxis": {
           "colorbar": {
            "outlinewidth": 0,
            "ticks": ""
           }
          },
          "colorscale": {
           "diverging": [
            [
             0,
             "#8e0152"
            ],
            [
             0.1,
             "#c51b7d"
            ],
            [
             0.2,
             "#de77ae"
            ],
            [
             0.3,
             "#f1b6da"
            ],
            [
             0.4,
             "#fde0ef"
            ],
            [
             0.5,
             "#f7f7f7"
            ],
            [
             0.6,
             "#e6f5d0"
            ],
            [
             0.7,
             "#b8e186"
            ],
            [
             0.8,
             "#7fbc41"
            ],
            [
             0.9,
             "#4d9221"
            ],
            [
             1,
             "#276419"
            ]
           ],
           "sequential": [
            [
             0,
             "#0d0887"
            ],
            [
             0.1111111111111111,
             "#46039f"
            ],
            [
             0.2222222222222222,
             "#7201a8"
            ],
            [
             0.3333333333333333,
             "#9c179e"
            ],
            [
             0.4444444444444444,
             "#bd3786"
            ],
            [
             0.5555555555555556,
             "#d8576b"
            ],
            [
             0.6666666666666666,
             "#ed7953"
            ],
            [
             0.7777777777777778,
             "#fb9f3a"
            ],
            [
             0.8888888888888888,
             "#fdca26"
            ],
            [
             1,
             "#f0f921"
            ]
           ],
           "sequentialminus": [
            [
             0,
             "#0d0887"
            ],
            [
             0.1111111111111111,
             "#46039f"
            ],
            [
             0.2222222222222222,
             "#7201a8"
            ],
            [
             0.3333333333333333,
             "#9c179e"
            ],
            [
             0.4444444444444444,
             "#bd3786"
            ],
            [
             0.5555555555555556,
             "#d8576b"
            ],
            [
             0.6666666666666666,
             "#ed7953"
            ],
            [
             0.7777777777777778,
             "#fb9f3a"
            ],
            [
             0.8888888888888888,
             "#fdca26"
            ],
            [
             1,
             "#f0f921"
            ]
           ]
          },
          "colorway": [
           "#636efa",
           "#EF553B",
           "#00cc96",
           "#ab63fa",
           "#FFA15A",
           "#19d3f3",
           "#FF6692",
           "#B6E880",
           "#FF97FF",
           "#FECB52"
          ],
          "font": {
           "color": "#2a3f5f"
          },
          "geo": {
           "bgcolor": "white",
           "lakecolor": "white",
           "landcolor": "#E5ECF6",
           "showlakes": true,
           "showland": true,
           "subunitcolor": "white"
          },
          "hoverlabel": {
           "align": "left"
          },
          "hovermode": "closest",
          "mapbox": {
           "style": "light"
          },
          "paper_bgcolor": "white",
          "plot_bgcolor": "#E5ECF6",
          "polar": {
           "angularaxis": {
            "gridcolor": "white",
            "linecolor": "white",
            "ticks": ""
           },
           "bgcolor": "#E5ECF6",
           "radialaxis": {
            "gridcolor": "white",
            "linecolor": "white",
            "ticks": ""
           }
          },
          "scene": {
           "xaxis": {
            "backgroundcolor": "#E5ECF6",
            "gridcolor": "white",
            "gridwidth": 2,
            "linecolor": "white",
            "showbackground": true,
            "ticks": "",
            "zerolinecolor": "white"
           },
           "yaxis": {
            "backgroundcolor": "#E5ECF6",
            "gridcolor": "white",
            "gridwidth": 2,
            "linecolor": "white",
            "showbackground": true,
            "ticks": "",
            "zerolinecolor": "white"
           },
           "zaxis": {
            "backgroundcolor": "#E5ECF6",
            "gridcolor": "white",
            "gridwidth": 2,
            "linecolor": "white",
            "showbackground": true,
            "ticks": "",
            "zerolinecolor": "white"
           }
          },
          "shapedefaults": {
           "line": {
            "color": "#2a3f5f"
           }
          },
          "ternary": {
           "aaxis": {
            "gridcolor": "white",
            "linecolor": "white",
            "ticks": ""
           },
           "baxis": {
            "gridcolor": "white",
            "linecolor": "white",
            "ticks": ""
           },
           "bgcolor": "#E5ECF6",
           "caxis": {
            "gridcolor": "white",
            "linecolor": "white",
            "ticks": ""
           }
          },
          "title": {
           "x": 0.05
          },
          "xaxis": {
           "automargin": true,
           "gridcolor": "white",
           "linecolor": "white",
           "ticks": "",
           "title": {
            "standoff": 15
           },
           "zerolinecolor": "white",
           "zerolinewidth": 2
          },
          "yaxis": {
           "automargin": true,
           "gridcolor": "white",
           "linecolor": "white",
           "ticks": "",
           "title": {
            "standoff": 15
           },
           "zerolinecolor": "white",
           "zerolinewidth": 2
          }
         }
        },
        "title": {
         "text": "Répartition des e-mails envoyés par propriétaire de ticket"
        }
       }
      }
     },
     "metadata": {},
     "output_type": "display_data"
    }
   ],
   "source": [
    "repartition_activite_agent(data_affid_hubspot_agent)"
   ]
  },
  {
   "cell_type": "code",
   "execution_count": 109,
   "metadata": {},
   "outputs": [
    {
     "data": {
      "application/vnd.plotly.v1+json": {
       "config": {
        "plotlyServerURL": "https://plot.ly"
       },
       "data": [
        {
         "alignmentgroup": "True",
         "hovertemplate": "Propriétaire du ticket=Pierre Goupillon<br>Semaine=%{x}<br>Nombre_ticket_client=%{y}<extra></extra>",
         "legendgroup": "Pierre Goupillon",
         "marker": {
          "color": "#636efa",
          "pattern": {
           "shape": ""
          }
         },
         "name": "Pierre Goupillon",
         "offsetgroup": "Pierre Goupillon",
         "orientation": "v",
         "showlegend": true,
         "textposition": "auto",
         "type": "bar",
         "x": [
          "S2022-45",
          "S2023-43",
          "S2023-47",
          "S2024-01",
          "S2024-06",
          "S2024-11",
          "S2024-13",
          "S2024-14",
          "S2024-16",
          "S2024-17",
          "S2024-18",
          "S2024-19",
          "S2024-20",
          "S2024-21",
          "S2024-22",
          "S2024-23",
          "S2024-24",
          "S2024-25",
          "S2024-26",
          "S2024-27",
          "S2024-28",
          "S2024-29",
          "S2024-30",
          "S2024-31",
          "S2024-32",
          "S2024-33",
          "S2024-34",
          "S2024-35",
          "S2024-36",
          "S2024-37",
          "S2024-38",
          "S2024-39",
          "S2024-40",
          "S2024-41",
          "S2024-42",
          "S2024-43",
          "S2024-44",
          "S2024-45",
          "S2024-46",
          "S2024-47",
          "S2024-48",
          "S2024-49",
          "S2024-50",
          "S2024-51",
          "S2024-52",
          "S2025-01",
          "S2025-02",
          "S2025-03",
          "S2025-04"
         ],
         "xaxis": "x",
         "y": [
          0,
          0,
          0,
          2,
          0,
          0,
          0,
          0,
          0,
          0,
          0,
          0,
          0,
          0,
          0,
          4,
          4,
          6,
          10,
          8,
          6,
          10,
          7,
          4,
          3,
          2,
          8,
          5,
          9,
          2,
          4,
          10,
          2,
          3,
          2,
          7,
          11,
          4,
          3,
          7,
          7,
          8,
          5,
          11,
          1,
          3,
          8,
          4,
          1
         ],
         "yaxis": "y"
        },
        {
         "alignmentgroup": "True",
         "hovertemplate": "Propriétaire du ticket=FREDERIC SAUVAN<br>Semaine=%{x}<br>Nombre_ticket_client=%{y}<extra></extra>",
         "legendgroup": "FREDERIC SAUVAN",
         "marker": {
          "color": "#EF553B",
          "pattern": {
           "shape": ""
          }
         },
         "name": "FREDERIC SAUVAN",
         "offsetgroup": "FREDERIC SAUVAN",
         "orientation": "v",
         "showlegend": true,
         "textposition": "auto",
         "type": "bar",
         "x": [
          "S2023-37",
          "S2023-48",
          "S2023-49",
          "S2023-50",
          "S2024-01",
          "S2024-05",
          "S2024-07",
          "S2024-08",
          "S2024-09",
          "S2024-12",
          "S2024-13",
          "S2024-14",
          "S2024-15",
          "S2024-16",
          "S2024-17",
          "S2024-18",
          "S2024-19",
          "S2024-20",
          "S2024-21",
          "S2024-22",
          "S2024-23",
          "S2024-24",
          "S2024-25",
          "S2024-26",
          "S2024-27",
          "S2024-28",
          "S2024-29",
          "S2024-30",
          "S2024-31",
          "S2024-32",
          "S2024-34",
          "S2024-35",
          "S2024-36",
          "S2024-37",
          "S2024-38",
          "S2024-39",
          "S2024-40",
          "S2024-41",
          "S2024-42",
          "S2024-43",
          "S2024-44",
          "S2024-45",
          "S2024-46",
          "S2024-47",
          "S2024-48",
          "S2024-49",
          "S2024-50",
          "S2024-51",
          "S2024-52",
          "S2025-01",
          "S2025-02",
          "S2025-03",
          "S2025-04"
         ],
         "xaxis": "x",
         "y": [
          0,
          0,
          0,
          0,
          13,
          0,
          0,
          0,
          0,
          0,
          0,
          0,
          0,
          0,
          0,
          0,
          0,
          1,
          0,
          0,
          10,
          12,
          8,
          16,
          10,
          22,
          8,
          5,
          5,
          1,
          2,
          7,
          14,
          27,
          12,
          15,
          13,
          18,
          17,
          17,
          21,
          11,
          21,
          22,
          14,
          26,
          29,
          25,
          11,
          22,
          50,
          33,
          10
         ],
         "yaxis": "y"
        },
        {
         "alignmentgroup": "True",
         "hovertemplate": "Propriétaire du ticket=Christophe Brichet<br>Semaine=%{x}<br>Nombre_ticket_client=%{y}<extra></extra>",
         "legendgroup": "Christophe Brichet",
         "marker": {
          "color": "#00cc96",
          "pattern": {
           "shape": ""
          }
         },
         "name": "Christophe Brichet",
         "offsetgroup": "Christophe Brichet",
         "orientation": "v",
         "showlegend": true,
         "textposition": "auto",
         "type": "bar",
         "x": [
          "S2023-52",
          "S2024-01",
          "S2024-04",
          "S2024-07",
          "S2024-08",
          "S2024-09",
          "S2024-10",
          "S2024-11",
          "S2024-12",
          "S2024-13",
          "S2024-14",
          "S2024-15",
          "S2024-16",
          "S2024-17",
          "S2024-18",
          "S2024-19",
          "S2024-20",
          "S2024-21",
          "S2024-22",
          "S2024-23",
          "S2024-24",
          "S2024-25",
          "S2024-26",
          "S2024-27",
          "S2024-28",
          "S2024-29",
          "S2024-30",
          "S2024-31",
          "S2024-32",
          "S2024-34",
          "S2024-35",
          "S2024-36",
          "S2024-37",
          "S2024-38",
          "S2024-39",
          "S2024-40",
          "S2024-41",
          "S2024-42",
          "S2024-43",
          "S2024-44",
          "S2024-45",
          "S2024-46",
          "S2024-47",
          "S2024-48",
          "S2024-49",
          "S2024-50",
          "S2024-51",
          "S2024-52",
          "S2025-01",
          "S2025-02",
          "S2025-03",
          "S2025-04"
         ],
         "xaxis": "x",
         "y": [
          0,
          2,
          0,
          0,
          0,
          0,
          0,
          0,
          0,
          0,
          0,
          0,
          0,
          0,
          0,
          0,
          0,
          0,
          0,
          1,
          9,
          7,
          7,
          3,
          9,
          9,
          5,
          12,
          2,
          2,
          16,
          14,
          4,
          1,
          9,
          4,
          8,
          2,
          14,
          6,
          6,
          7,
          7,
          3,
          18,
          19,
          15,
          15,
          10,
          11,
          23,
          8
         ],
         "yaxis": "y"
        },
        {
         "alignmentgroup": "True",
         "hovertemplate": "Propriétaire du ticket=Archimède KESSI<br>Semaine=%{x}<br>Nombre_ticket_client=%{y}<extra></extra>",
         "legendgroup": "Archimède KESSI",
         "marker": {
          "color": "#ab63fa",
          "pattern": {
           "shape": ""
          }
         },
         "name": "Archimède KESSI",
         "offsetgroup": "Archimède KESSI",
         "orientation": "v",
         "showlegend": true,
         "textposition": "auto",
         "type": "bar",
         "x": [
          "S2024-01",
          "S2024-19",
          "S2024-21",
          "S2024-22",
          "S2024-23",
          "S2024-24",
          "S2024-25",
          "S2024-26",
          "S2024-27",
          "S2024-29",
          "S2024-30",
          "S2024-31",
          "S2024-32",
          "S2024-33",
          "S2024-34",
          "S2024-35",
          "S2024-36",
          "S2024-38",
          "S2024-39",
          "S2024-40",
          "S2024-41",
          "S2024-42",
          "S2024-43",
          "S2024-44",
          "S2024-45",
          "S2024-46",
          "S2024-47",
          "S2024-48",
          "S2024-49",
          "S2024-50",
          "S2024-51",
          "S2024-52",
          "S2025-01",
          "S2025-02",
          "S2025-03",
          "S2025-04"
         ],
         "xaxis": "x",
         "y": [
          6,
          0,
          0,
          0,
          1,
          7,
          14,
          13,
          7,
          14,
          12,
          10,
          14,
          7,
          14,
          4,
          1,
          14,
          16,
          13,
          13,
          33,
          16,
          2,
          16,
          9,
          19,
          20,
          24,
          19,
          14,
          17,
          3,
          28,
          38,
          2
         ],
         "yaxis": "y"
        },
        {
         "alignmentgroup": "True",
         "hovertemplate": "Propriétaire du ticket=HUMBLOT NASSUF<br>Semaine=%{x}<br>Nombre_ticket_client=%{y}<extra></extra>",
         "legendgroup": "HUMBLOT NASSUF",
         "marker": {
          "color": "#FFA15A",
          "pattern": {
           "shape": ""
          }
         },
         "name": "HUMBLOT NASSUF",
         "offsetgroup": "HUMBLOT NASSUF",
         "orientation": "v",
         "showlegend": true,
         "textposition": "auto",
         "type": "bar",
         "x": [
          "S2024-01",
          "S2024-12",
          "S2024-22",
          "S2024-23",
          "S2024-24",
          "S2024-25",
          "S2024-26",
          "S2024-27",
          "S2024-28",
          "S2024-30",
          "S2024-31",
          "S2024-32",
          "S2024-35",
          "S2024-36",
          "S2024-37",
          "S2024-39",
          "S2024-40",
          "S2024-41",
          "S2024-42",
          "S2024-43",
          "S2024-44",
          "S2024-45",
          "S2024-46",
          "S2024-47",
          "S2024-48",
          "S2024-49",
          "S2024-50",
          "S2024-51",
          "S2024-52",
          "S2025-01",
          "S2025-02",
          "S2025-03"
         ],
         "xaxis": "x",
         "y": [
          0,
          0,
          0,
          3,
          1,
          4,
          3,
          2,
          5,
          1,
          1,
          2,
          1,
          2,
          1,
          1,
          4,
          5,
          3,
          11,
          3,
          9,
          4,
          10,
          4,
          10,
          6,
          7,
          1,
          2,
          9,
          2
         ],
         "yaxis": "y"
        },
        {
         "alignmentgroup": "True",
         "hovertemplate": "Propriétaire du ticket=Olivier Sainte-Rose<br>Semaine=%{x}<br>Nombre_ticket_client=%{y}<extra></extra>",
         "legendgroup": "Olivier Sainte-Rose",
         "marker": {
          "color": "#19d3f3",
          "pattern": {
           "shape": ""
          }
         },
         "name": "Olivier Sainte-Rose",
         "offsetgroup": "Olivier Sainte-Rose",
         "orientation": "v",
         "showlegend": true,
         "textposition": "auto",
         "type": "bar",
         "x": [
          "S2024-01",
          "S2024-08",
          "S2024-11",
          "S2024-12",
          "S2024-13",
          "S2024-18",
          "S2024-21",
          "S2024-22",
          "S2024-23",
          "S2024-24",
          "S2024-25",
          "S2024-26",
          "S2024-27",
          "S2024-28",
          "S2024-29",
          "S2024-30",
          "S2024-31",
          "S2024-32",
          "S2024-33",
          "S2024-34",
          "S2024-35",
          "S2024-36",
          "S2024-37",
          "S2024-38",
          "S2024-39",
          "S2024-40",
          "S2024-41",
          "S2024-42",
          "S2024-43",
          "S2024-44",
          "S2024-45",
          "S2024-46",
          "S2024-47",
          "S2024-48",
          "S2024-49",
          "S2024-50",
          "S2024-51",
          "S2024-52",
          "S2025-01",
          "S2025-02",
          "S2025-03",
          "S2025-04"
         ],
         "xaxis": "x",
         "y": [
          2,
          0,
          0,
          0,
          0,
          0,
          0,
          0,
          0,
          3,
          1,
          4,
          8,
          3,
          4,
          6,
          6,
          5,
          2,
          3,
          3,
          4,
          1,
          4,
          5,
          2,
          1,
          3,
          11,
          1,
          1,
          2,
          3,
          5,
          9,
          6,
          11,
          11,
          4,
          10,
          10,
          2
         ],
         "yaxis": "y"
        }
       ],
       "layout": {
        "barmode": "relative",
        "legend": {
         "title": {
          "text": "Propriétaire du ticket"
         },
         "tracegroupgap": 0
        },
        "template": {
         "data": {
          "bar": [
           {
            "error_x": {
             "color": "#2a3f5f"
            },
            "error_y": {
             "color": "#2a3f5f"
            },
            "marker": {
             "line": {
              "color": "#E5ECF6",
              "width": 0.5
             },
             "pattern": {
              "fillmode": "overlay",
              "size": 10,
              "solidity": 0.2
             }
            },
            "type": "bar"
           }
          ],
          "barpolar": [
           {
            "marker": {
             "line": {
              "color": "#E5ECF6",
              "width": 0.5
             },
             "pattern": {
              "fillmode": "overlay",
              "size": 10,
              "solidity": 0.2
             }
            },
            "type": "barpolar"
           }
          ],
          "carpet": [
           {
            "aaxis": {
             "endlinecolor": "#2a3f5f",
             "gridcolor": "white",
             "linecolor": "white",
             "minorgridcolor": "white",
             "startlinecolor": "#2a3f5f"
            },
            "baxis": {
             "endlinecolor": "#2a3f5f",
             "gridcolor": "white",
             "linecolor": "white",
             "minorgridcolor": "white",
             "startlinecolor": "#2a3f5f"
            },
            "type": "carpet"
           }
          ],
          "choropleth": [
           {
            "colorbar": {
             "outlinewidth": 0,
             "ticks": ""
            },
            "type": "choropleth"
           }
          ],
          "contour": [
           {
            "colorbar": {
             "outlinewidth": 0,
             "ticks": ""
            },
            "colorscale": [
             [
              0,
              "#0d0887"
             ],
             [
              0.1111111111111111,
              "#46039f"
             ],
             [
              0.2222222222222222,
              "#7201a8"
             ],
             [
              0.3333333333333333,
              "#9c179e"
             ],
             [
              0.4444444444444444,
              "#bd3786"
             ],
             [
              0.5555555555555556,
              "#d8576b"
             ],
             [
              0.6666666666666666,
              "#ed7953"
             ],
             [
              0.7777777777777778,
              "#fb9f3a"
             ],
             [
              0.8888888888888888,
              "#fdca26"
             ],
             [
              1,
              "#f0f921"
             ]
            ],
            "type": "contour"
           }
          ],
          "contourcarpet": [
           {
            "colorbar": {
             "outlinewidth": 0,
             "ticks": ""
            },
            "type": "contourcarpet"
           }
          ],
          "heatmap": [
           {
            "colorbar": {
             "outlinewidth": 0,
             "ticks": ""
            },
            "colorscale": [
             [
              0,
              "#0d0887"
             ],
             [
              0.1111111111111111,
              "#46039f"
             ],
             [
              0.2222222222222222,
              "#7201a8"
             ],
             [
              0.3333333333333333,
              "#9c179e"
             ],
             [
              0.4444444444444444,
              "#bd3786"
             ],
             [
              0.5555555555555556,
              "#d8576b"
             ],
             [
              0.6666666666666666,
              "#ed7953"
             ],
             [
              0.7777777777777778,
              "#fb9f3a"
             ],
             [
              0.8888888888888888,
              "#fdca26"
             ],
             [
              1,
              "#f0f921"
             ]
            ],
            "type": "heatmap"
           }
          ],
          "heatmapgl": [
           {
            "colorbar": {
             "outlinewidth": 0,
             "ticks": ""
            },
            "colorscale": [
             [
              0,
              "#0d0887"
             ],
             [
              0.1111111111111111,
              "#46039f"
             ],
             [
              0.2222222222222222,
              "#7201a8"
             ],
             [
              0.3333333333333333,
              "#9c179e"
             ],
             [
              0.4444444444444444,
              "#bd3786"
             ],
             [
              0.5555555555555556,
              "#d8576b"
             ],
             [
              0.6666666666666666,
              "#ed7953"
             ],
             [
              0.7777777777777778,
              "#fb9f3a"
             ],
             [
              0.8888888888888888,
              "#fdca26"
             ],
             [
              1,
              "#f0f921"
             ]
            ],
            "type": "heatmapgl"
           }
          ],
          "histogram": [
           {
            "marker": {
             "pattern": {
              "fillmode": "overlay",
              "size": 10,
              "solidity": 0.2
             }
            },
            "type": "histogram"
           }
          ],
          "histogram2d": [
           {
            "colorbar": {
             "outlinewidth": 0,
             "ticks": ""
            },
            "colorscale": [
             [
              0,
              "#0d0887"
             ],
             [
              0.1111111111111111,
              "#46039f"
             ],
             [
              0.2222222222222222,
              "#7201a8"
             ],
             [
              0.3333333333333333,
              "#9c179e"
             ],
             [
              0.4444444444444444,
              "#bd3786"
             ],
             [
              0.5555555555555556,
              "#d8576b"
             ],
             [
              0.6666666666666666,
              "#ed7953"
             ],
             [
              0.7777777777777778,
              "#fb9f3a"
             ],
             [
              0.8888888888888888,
              "#fdca26"
             ],
             [
              1,
              "#f0f921"
             ]
            ],
            "type": "histogram2d"
           }
          ],
          "histogram2dcontour": [
           {
            "colorbar": {
             "outlinewidth": 0,
             "ticks": ""
            },
            "colorscale": [
             [
              0,
              "#0d0887"
             ],
             [
              0.1111111111111111,
              "#46039f"
             ],
             [
              0.2222222222222222,
              "#7201a8"
             ],
             [
              0.3333333333333333,
              "#9c179e"
             ],
             [
              0.4444444444444444,
              "#bd3786"
             ],
             [
              0.5555555555555556,
              "#d8576b"
             ],
             [
              0.6666666666666666,
              "#ed7953"
             ],
             [
              0.7777777777777778,
              "#fb9f3a"
             ],
             [
              0.8888888888888888,
              "#fdca26"
             ],
             [
              1,
              "#f0f921"
             ]
            ],
            "type": "histogram2dcontour"
           }
          ],
          "mesh3d": [
           {
            "colorbar": {
             "outlinewidth": 0,
             "ticks": ""
            },
            "type": "mesh3d"
           }
          ],
          "parcoords": [
           {
            "line": {
             "colorbar": {
              "outlinewidth": 0,
              "ticks": ""
             }
            },
            "type": "parcoords"
           }
          ],
          "pie": [
           {
            "automargin": true,
            "type": "pie"
           }
          ],
          "scatter": [
           {
            "fillpattern": {
             "fillmode": "overlay",
             "size": 10,
             "solidity": 0.2
            },
            "type": "scatter"
           }
          ],
          "scatter3d": [
           {
            "line": {
             "colorbar": {
              "outlinewidth": 0,
              "ticks": ""
             }
            },
            "marker": {
             "colorbar": {
              "outlinewidth": 0,
              "ticks": ""
             }
            },
            "type": "scatter3d"
           }
          ],
          "scattercarpet": [
           {
            "marker": {
             "colorbar": {
              "outlinewidth": 0,
              "ticks": ""
             }
            },
            "type": "scattercarpet"
           }
          ],
          "scattergeo": [
           {
            "marker": {
             "colorbar": {
              "outlinewidth": 0,
              "ticks": ""
             }
            },
            "type": "scattergeo"
           }
          ],
          "scattergl": [
           {
            "marker": {
             "colorbar": {
              "outlinewidth": 0,
              "ticks": ""
             }
            },
            "type": "scattergl"
           }
          ],
          "scattermapbox": [
           {
            "marker": {
             "colorbar": {
              "outlinewidth": 0,
              "ticks": ""
             }
            },
            "type": "scattermapbox"
           }
          ],
          "scatterpolar": [
           {
            "marker": {
             "colorbar": {
              "outlinewidth": 0,
              "ticks": ""
             }
            },
            "type": "scatterpolar"
           }
          ],
          "scatterpolargl": [
           {
            "marker": {
             "colorbar": {
              "outlinewidth": 0,
              "ticks": ""
             }
            },
            "type": "scatterpolargl"
           }
          ],
          "scatterternary": [
           {
            "marker": {
             "colorbar": {
              "outlinewidth": 0,
              "ticks": ""
             }
            },
            "type": "scatterternary"
           }
          ],
          "surface": [
           {
            "colorbar": {
             "outlinewidth": 0,
             "ticks": ""
            },
            "colorscale": [
             [
              0,
              "#0d0887"
             ],
             [
              0.1111111111111111,
              "#46039f"
             ],
             [
              0.2222222222222222,
              "#7201a8"
             ],
             [
              0.3333333333333333,
              "#9c179e"
             ],
             [
              0.4444444444444444,
              "#bd3786"
             ],
             [
              0.5555555555555556,
              "#d8576b"
             ],
             [
              0.6666666666666666,
              "#ed7953"
             ],
             [
              0.7777777777777778,
              "#fb9f3a"
             ],
             [
              0.8888888888888888,
              "#fdca26"
             ],
             [
              1,
              "#f0f921"
             ]
            ],
            "type": "surface"
           }
          ],
          "table": [
           {
            "cells": {
             "fill": {
              "color": "#EBF0F8"
             },
             "line": {
              "color": "white"
             }
            },
            "header": {
             "fill": {
              "color": "#C8D4E3"
             },
             "line": {
              "color": "white"
             }
            },
            "type": "table"
           }
          ]
         },
         "layout": {
          "annotationdefaults": {
           "arrowcolor": "#2a3f5f",
           "arrowhead": 0,
           "arrowwidth": 1
          },
          "autotypenumbers": "strict",
          "coloraxis": {
           "colorbar": {
            "outlinewidth": 0,
            "ticks": ""
           }
          },
          "colorscale": {
           "diverging": [
            [
             0,
             "#8e0152"
            ],
            [
             0.1,
             "#c51b7d"
            ],
            [
             0.2,
             "#de77ae"
            ],
            [
             0.3,
             "#f1b6da"
            ],
            [
             0.4,
             "#fde0ef"
            ],
            [
             0.5,
             "#f7f7f7"
            ],
            [
             0.6,
             "#e6f5d0"
            ],
            [
             0.7,
             "#b8e186"
            ],
            [
             0.8,
             "#7fbc41"
            ],
            [
             0.9,
             "#4d9221"
            ],
            [
             1,
             "#276419"
            ]
           ],
           "sequential": [
            [
             0,
             "#0d0887"
            ],
            [
             0.1111111111111111,
             "#46039f"
            ],
            [
             0.2222222222222222,
             "#7201a8"
            ],
            [
             0.3333333333333333,
             "#9c179e"
            ],
            [
             0.4444444444444444,
             "#bd3786"
            ],
            [
             0.5555555555555556,
             "#d8576b"
            ],
            [
             0.6666666666666666,
             "#ed7953"
            ],
            [
             0.7777777777777778,
             "#fb9f3a"
            ],
            [
             0.8888888888888888,
             "#fdca26"
            ],
            [
             1,
             "#f0f921"
            ]
           ],
           "sequentialminus": [
            [
             0,
             "#0d0887"
            ],
            [
             0.1111111111111111,
             "#46039f"
            ],
            [
             0.2222222222222222,
             "#7201a8"
            ],
            [
             0.3333333333333333,
             "#9c179e"
            ],
            [
             0.4444444444444444,
             "#bd3786"
            ],
            [
             0.5555555555555556,
             "#d8576b"
            ],
            [
             0.6666666666666666,
             "#ed7953"
            ],
            [
             0.7777777777777778,
             "#fb9f3a"
            ],
            [
             0.8888888888888888,
             "#fdca26"
            ],
            [
             1,
             "#f0f921"
            ]
           ]
          },
          "colorway": [
           "#636efa",
           "#EF553B",
           "#00cc96",
           "#ab63fa",
           "#FFA15A",
           "#19d3f3",
           "#FF6692",
           "#B6E880",
           "#FF97FF",
           "#FECB52"
          ],
          "font": {
           "color": "#2a3f5f"
          },
          "geo": {
           "bgcolor": "white",
           "lakecolor": "white",
           "landcolor": "#E5ECF6",
           "showlakes": true,
           "showland": true,
           "subunitcolor": "white"
          },
          "hoverlabel": {
           "align": "left"
          },
          "hovermode": "closest",
          "mapbox": {
           "style": "light"
          },
          "paper_bgcolor": "white",
          "plot_bgcolor": "#E5ECF6",
          "polar": {
           "angularaxis": {
            "gridcolor": "white",
            "linecolor": "white",
            "ticks": ""
           },
           "bgcolor": "#E5ECF6",
           "radialaxis": {
            "gridcolor": "white",
            "linecolor": "white",
            "ticks": ""
           }
          },
          "scene": {
           "xaxis": {
            "backgroundcolor": "#E5ECF6",
            "gridcolor": "white",
            "gridwidth": 2,
            "linecolor": "white",
            "showbackground": true,
            "ticks": "",
            "zerolinecolor": "white"
           },
           "yaxis": {
            "backgroundcolor": "#E5ECF6",
            "gridcolor": "white",
            "gridwidth": 2,
            "linecolor": "white",
            "showbackground": true,
            "ticks": "",
            "zerolinecolor": "white"
           },
           "zaxis": {
            "backgroundcolor": "#E5ECF6",
            "gridcolor": "white",
            "gridwidth": 2,
            "linecolor": "white",
            "showbackground": true,
            "ticks": "",
            "zerolinecolor": "white"
           }
          },
          "shapedefaults": {
           "line": {
            "color": "#2a3f5f"
           }
          },
          "ternary": {
           "aaxis": {
            "gridcolor": "white",
            "linecolor": "white",
            "ticks": ""
           },
           "baxis": {
            "gridcolor": "white",
            "linecolor": "white",
            "ticks": ""
           },
           "bgcolor": "#E5ECF6",
           "caxis": {
            "gridcolor": "white",
            "linecolor": "white",
            "ticks": ""
           }
          },
          "title": {
           "x": 0.05
          },
          "xaxis": {
           "automargin": true,
           "gridcolor": "white",
           "linecolor": "white",
           "ticks": "",
           "title": {
            "standoff": 15
           },
           "zerolinecolor": "white",
           "zerolinewidth": 2
          },
          "yaxis": {
           "automargin": true,
           "gridcolor": "white",
           "linecolor": "white",
           "ticks": "",
           "title": {
            "standoff": 15
           },
           "zerolinecolor": "white",
           "zerolinewidth": 2
          }
         }
        },
        "title": {
         "text": "Heures de travail par pipeline et par semaine"
        },
        "xaxis": {
         "anchor": "y",
         "categoryarray": [
          "S2022-45",
          "S2023-37",
          "S2023-43",
          "S2023-47",
          "S2023-48",
          "S2023-49",
          "S2023-50",
          "S2023-52",
          "S2024-01",
          "S2024-04",
          "S2024-05",
          "S2024-06",
          "S2024-07",
          "S2024-08",
          "S2024-09",
          "S2024-10",
          "S2024-11",
          "S2024-12",
          "S2024-13",
          "S2024-14",
          "S2024-15",
          "S2024-16",
          "S2024-17",
          "S2024-18",
          "S2024-19",
          "S2024-20",
          "S2024-21",
          "S2024-22",
          "S2024-23",
          "S2024-24",
          "S2024-25",
          "S2024-26",
          "S2024-27",
          "S2024-28",
          "S2024-29",
          "S2024-30",
          "S2024-31",
          "S2024-32",
          "S2024-33",
          "S2024-34",
          "S2024-35",
          "S2024-36",
          "S2024-37",
          "S2024-38",
          "S2024-39",
          "S2024-40",
          "S2024-41",
          "S2024-42",
          "S2024-43",
          "S2024-44",
          "S2024-45",
          "S2024-46",
          "S2024-47",
          "S2024-48",
          "S2024-49",
          "S2024-50",
          "S2024-51",
          "S2024-52",
          "S2025-01",
          "S2025-02",
          "S2025-03",
          "S2025-04"
         ],
         "categoryorder": "array",
         "domain": [
          0,
          1
         ],
         "title": {
          "text": "Semaine"
         }
        },
        "yaxis": {
         "anchor": "x",
         "domain": [
          0,
          1
         ],
         "title": {
          "text": "Appels"
         }
        }
       }
      }
     },
     "metadata": {},
     "output_type": "display_data"
    }
   ],
   "source": [
    "repartition_tickets_agent_semaine(df)"
   ]
  },
  {
   "cell_type": "code",
   "execution_count": 110,
   "metadata": {},
   "outputs": [
    {
     "data": {
      "text/html": [
       "<div>\n",
       "<style scoped>\n",
       "    .dataframe tbody tr th:only-of-type {\n",
       "        vertical-align: middle;\n",
       "    }\n",
       "\n",
       "    .dataframe tbody tr th {\n",
       "        vertical-align: top;\n",
       "    }\n",
       "\n",
       "    .dataframe thead th {\n",
       "        text-align: right;\n",
       "    }\n",
       "</style>\n",
       "<table border=\"1\" class=\"dataframe\">\n",
       "  <thead>\n",
       "    <tr style=\"text-align: right;\">\n",
       "      <th></th>\n",
       "      <th>Catégorie</th>\n",
       "      <th>Nombre_ticket_client</th>\n",
       "    </tr>\n",
       "  </thead>\n",
       "  <tbody>\n",
       "    <tr>\n",
       "      <th>29</th>\n",
       "      <td>Facturation</td>\n",
       "      <td>240</td>\n",
       "    </tr>\n",
       "    <tr>\n",
       "      <th>72</th>\n",
       "      <td>Lecteur</td>\n",
       "      <td>169</td>\n",
       "    </tr>\n",
       "    <tr>\n",
       "      <th>63</th>\n",
       "      <td>Information</td>\n",
       "      <td>111</td>\n",
       "    </tr>\n",
       "    <tr>\n",
       "      <th>52</th>\n",
       "      <td>Fonctionnalités</td>\n",
       "      <td>79</td>\n",
       "    </tr>\n",
       "    <tr>\n",
       "      <th>2</th>\n",
       "      <td>ADV (contrats, résiliation, commerce)</td>\n",
       "      <td>79</td>\n",
       "    </tr>\n",
       "    <tr>\n",
       "      <th>100</th>\n",
       "      <td>PC/SC</td>\n",
       "      <td>56</td>\n",
       "    </tr>\n",
       "    <tr>\n",
       "      <th>102</th>\n",
       "      <td>PbConnexion</td>\n",
       "      <td>54</td>\n",
       "    </tr>\n",
       "    <tr>\n",
       "      <th>68</th>\n",
       "      <td>Installation</td>\n",
       "      <td>53</td>\n",
       "    </tr>\n",
       "    <tr>\n",
       "      <th>106</th>\n",
       "      <td>Recettes</td>\n",
       "      <td>42</td>\n",
       "    </tr>\n",
       "    <tr>\n",
       "      <th>110</th>\n",
       "      <td>Remplacant / Collaborateur</td>\n",
       "      <td>41</td>\n",
       "    </tr>\n",
       "    <tr>\n",
       "      <th>95</th>\n",
       "      <td>MAN</td>\n",
       "      <td>32</td>\n",
       "    </tr>\n",
       "    <tr>\n",
       "      <th>116</th>\n",
       "      <td>Stellair Connexion</td>\n",
       "      <td>25</td>\n",
       "    </tr>\n",
       "    <tr>\n",
       "      <th>108</th>\n",
       "      <td>Rejets</td>\n",
       "      <td>24</td>\n",
       "    </tr>\n",
       "    <tr>\n",
       "      <th>9</th>\n",
       "      <td>Activation / Désactivation</td>\n",
       "      <td>22</td>\n",
       "    </tr>\n",
       "    <tr>\n",
       "      <th>18</th>\n",
       "      <td>Authentification / sécurisation CPS</td>\n",
       "      <td>22</td>\n",
       "    </tr>\n",
       "    <tr>\n",
       "      <th>87</th>\n",
       "      <td>Lecture CPS</td>\n",
       "      <td>21</td>\n",
       "    </tr>\n",
       "    <tr>\n",
       "      <th>113</th>\n",
       "      <td>SCOR</td>\n",
       "      <td>21</td>\n",
       "    </tr>\n",
       "    <tr>\n",
       "      <th>115</th>\n",
       "      <td>Stellair</td>\n",
       "      <td>18</td>\n",
       "    </tr>\n",
       "    <tr>\n",
       "      <th>16</th>\n",
       "      <td>Appairage</td>\n",
       "      <td>15</td>\n",
       "    </tr>\n",
       "    <tr>\n",
       "      <th>124</th>\n",
       "      <td>TPAMC</td>\n",
       "      <td>14</td>\n",
       "    </tr>\n",
       "  </tbody>\n",
       "</table>\n",
       "</div>"
      ],
      "text/plain": [
       "                                 Catégorie  Nombre_ticket_client\n",
       "29                             Facturation                   240\n",
       "72                                 Lecteur                   169\n",
       "63                             Information                   111\n",
       "52                         Fonctionnalités                    79\n",
       "2    ADV (contrats, résiliation, commerce)                    79\n",
       "100                                  PC/SC                    56\n",
       "102                            PbConnexion                    54\n",
       "68                            Installation                    53\n",
       "106                               Recettes                    42\n",
       "110             Remplacant / Collaborateur                    41\n",
       "95                                     MAN                    32\n",
       "116                     Stellair Connexion                    25\n",
       "108                                 Rejets                    24\n",
       "9               Activation / Désactivation                    22\n",
       "18     Authentification / sécurisation CPS                    22\n",
       "87                             Lecture CPS                    21\n",
       "113                                   SCOR                    21\n",
       "115                               Stellair                    18\n",
       "16                               Appairage                    15\n",
       "124                                  TPAMC                    14"
      ]
     },
     "execution_count": 110,
     "metadata": {},
     "output_type": "execute_result"
    }
   ],
   "source": [
    "# Nombre de ticket / Semaine par Catégorie\n",
    "def metrics_nombre_ticket_categorie(df, pipeline):\n",
    "    df = df[df['Pipeline'] == pipeline].groupby('Catégorie')['Nombre_ticket_client'].sum().reset_index().sort_values(by='Nombre_ticket_client', ascending=False).head(20)\n",
    "    return df\n",
    "\n",
    "metrics_nombre_ticket_categorie(df, 'SSIA')"
   ]
  },
  {
   "cell_type": "code",
   "execution_count": 111,
   "metadata": {},
   "outputs": [
    {
     "data": {
      "application/vnd.plotly.v1+json": {
       "config": {
        "plotlyServerURL": "https://plot.ly"
       },
       "data": [
        {
         "alignmentgroup": "True",
         "hovertemplate": "Pipeline=ADV<br>Semaine=%{x}<br>Ticket ID=%{y}<extra></extra>",
         "legendgroup": "ADV",
         "marker": {
          "color": "#636efa",
          "pattern": {
           "shape": ""
          }
         },
         "name": "ADV",
         "offsetgroup": "ADV",
         "orientation": "v",
         "showlegend": true,
         "textposition": "auto",
         "type": "bar",
         "x": [
          "S2024-01",
          "S2024-23",
          "S2024-24",
          "S2024-25",
          "S2024-26",
          "S2024-27",
          "S2024-28",
          "S2024-29",
          "S2024-31",
          "S2024-34",
          "S2024-36",
          "S2024-37",
          "S2024-38",
          "S2024-43",
          "S2024-46",
          "S2024-47",
          "S2024-48",
          "S2024-49",
          "S2024-50",
          "S2024-51",
          "S2024-52",
          "S2025-01",
          "S2025-02",
          "S2025-03",
          "S2025-04"
         ],
         "xaxis": "x",
         "y": [
          2,
          1,
          3,
          12,
          4,
          1,
          1,
          1,
          2,
          1,
          2,
          2,
          1,
          1,
          2,
          1,
          2,
          3,
          8,
          5,
          3,
          1,
          2,
          5,
          1
         ],
         "yaxis": "y"
        },
        {
         "alignmentgroup": "True",
         "hovertemplate": "Pipeline=Affid Nxt<br>Semaine=%{x}<br>Ticket ID=%{y}<extra></extra>",
         "legendgroup": "Affid Nxt",
         "marker": {
          "color": "#EF553B",
          "pattern": {
           "shape": ""
          }
         },
         "name": "Affid Nxt",
         "offsetgroup": "Affid Nxt",
         "orientation": "v",
         "showlegend": true,
         "textposition": "auto",
         "type": "bar",
         "x": [
          "S2024-01",
          "S2024-26",
          "S2024-42",
          "S2024-45",
          "S2024-46",
          "S2024-47",
          "S2024-48",
          "S2024-49",
          "S2024-50",
          "S2024-51",
          "S2024-52",
          "S2025-01",
          "S2025-02",
          "S2025-03",
          "S2025-04"
         ],
         "xaxis": "x",
         "y": [
          3,
          1,
          1,
          3,
          2,
          8,
          5,
          7,
          8,
          11,
          7,
          6,
          24,
          8,
          1
         ],
         "yaxis": "y"
        },
        {
         "alignmentgroup": "True",
         "hovertemplate": "Pipeline=SPSA<br>Semaine=%{x}<br>Ticket ID=%{y}<extra></extra>",
         "legendgroup": "SPSA",
         "marker": {
          "color": "#00cc96",
          "pattern": {
           "shape": ""
          }
         },
         "name": "SPSA",
         "offsetgroup": "SPSA",
         "orientation": "v",
         "showlegend": true,
         "textposition": "auto",
         "type": "bar",
         "x": [
          "S2024-01",
          "S2024-23",
          "S2024-24",
          "S2024-25",
          "S2024-26",
          "S2024-27",
          "S2024-28",
          "S2024-29",
          "S2024-30",
          "S2024-31",
          "S2024-32",
          "S2024-33",
          "S2024-34",
          "S2024-35",
          "S2024-36",
          "S2024-37",
          "S2024-38",
          "S2024-39",
          "S2024-40",
          "S2024-41",
          "S2024-42",
          "S2024-43",
          "S2024-44",
          "S2024-45",
          "S2024-46",
          "S2024-47",
          "S2024-48",
          "S2024-49",
          "S2024-50",
          "S2024-51",
          "S2024-52",
          "S2025-01",
          "S2025-02",
          "S2025-03",
          "S2025-04"
         ],
         "xaxis": "x",
         "y": [
          12,
          13,
          21,
          25,
          33,
          34,
          43,
          27,
          34,
          36,
          22,
          14,
          24,
          39,
          39,
          37,
          33,
          23,
          41,
          40,
          30,
          51,
          30,
          35,
          34,
          32,
          40,
          56,
          48,
          48,
          19,
          13,
          57,
          37,
          7
         ],
         "yaxis": "y"
        },
        {
         "alignmentgroup": "True",
         "hovertemplate": "Pipeline=SSI<br>Semaine=%{x}<br>Ticket ID=%{y}<extra></extra>",
         "legendgroup": "SSI",
         "marker": {
          "color": "#ab63fa",
          "pattern": {
           "shape": ""
          }
         },
         "name": "SSI",
         "offsetgroup": "SSI",
         "orientation": "v",
         "showlegend": true,
         "textposition": "auto",
         "type": "bar",
         "x": [
          "S2024-01",
          "S2024-23",
          "S2024-24",
          "S2024-25",
          "S2024-26",
          "S2024-27",
          "S2024-28",
          "S2024-29",
          "S2024-30",
          "S2024-31",
          "S2024-32",
          "S2024-33",
          "S2024-34",
          "S2024-35",
          "S2024-36",
          "S2024-37",
          "S2024-38",
          "S2024-39",
          "S2024-40",
          "S2024-41",
          "S2024-42",
          "S2024-43",
          "S2024-44",
          "S2024-45",
          "S2024-46",
          "S2024-47",
          "S2024-48",
          "S2024-49",
          "S2024-50",
          "S2024-51",
          "S2024-52",
          "S2025-01",
          "S2025-02",
          "S2025-03",
          "S2025-04"
         ],
         "xaxis": "x",
         "y": [
          7,
          4,
          13,
          18,
          17,
          17,
          12,
          20,
          11,
          15,
          10,
          7,
          12,
          15,
          15,
          10,
          13,
          9,
          17,
          14,
          23,
          23,
          15,
          17,
          19,
          23,
          10,
          14,
          14,
          22,
          22,
          12,
          29,
          27,
          6
         ],
         "yaxis": "y"
        },
        {
         "alignmentgroup": "True",
         "hovertemplate": "Pipeline=SSIA<br>Semaine=%{x}<br>Ticket ID=%{y}<extra></extra>",
         "legendgroup": "SSIA",
         "marker": {
          "color": "#FFA15A",
          "pattern": {
           "shape": ""
          }
         },
         "name": "SSIA",
         "offsetgroup": "SSIA",
         "orientation": "v",
         "showlegend": true,
         "textposition": "auto",
         "type": "bar",
         "x": [
          "S2024-01",
          "S2024-20",
          "S2024-23",
          "S2024-24",
          "S2024-25",
          "S2024-26",
          "S2024-27",
          "S2024-28",
          "S2024-29",
          "S2024-30",
          "S2024-31",
          "S2024-32",
          "S2024-33",
          "S2024-34",
          "S2024-35",
          "S2024-36",
          "S2024-37",
          "S2024-38",
          "S2024-39",
          "S2024-40",
          "S2024-41",
          "S2024-42",
          "S2024-43",
          "S2024-44",
          "S2024-45",
          "S2024-46",
          "S2024-47",
          "S2024-48",
          "S2024-49",
          "S2024-50",
          "S2024-51",
          "S2024-52",
          "S2025-01",
          "S2025-02",
          "S2025-03",
          "S2025-04"
         ],
         "xaxis": "x",
         "y": [
          20,
          1,
          15,
          30,
          30,
          47,
          31,
          38,
          28,
          28,
          21,
          24,
          9,
          23,
          33,
          34,
          33,
          35,
          44,
          33,
          39,
          54,
          56,
          41,
          34,
          34,
          61,
          39,
          77,
          70,
          61,
          44,
          39,
          85,
          95,
          25
         ],
         "yaxis": "y"
        }
       ],
       "layout": {
        "barmode": "relative",
        "legend": {
         "title": {
          "text": "Pipeline"
         },
         "tracegroupgap": 0
        },
        "template": {
         "data": {
          "bar": [
           {
            "error_x": {
             "color": "#2a3f5f"
            },
            "error_y": {
             "color": "#2a3f5f"
            },
            "marker": {
             "line": {
              "color": "#E5ECF6",
              "width": 0.5
             },
             "pattern": {
              "fillmode": "overlay",
              "size": 10,
              "solidity": 0.2
             }
            },
            "type": "bar"
           }
          ],
          "barpolar": [
           {
            "marker": {
             "line": {
              "color": "#E5ECF6",
              "width": 0.5
             },
             "pattern": {
              "fillmode": "overlay",
              "size": 10,
              "solidity": 0.2
             }
            },
            "type": "barpolar"
           }
          ],
          "carpet": [
           {
            "aaxis": {
             "endlinecolor": "#2a3f5f",
             "gridcolor": "white",
             "linecolor": "white",
             "minorgridcolor": "white",
             "startlinecolor": "#2a3f5f"
            },
            "baxis": {
             "endlinecolor": "#2a3f5f",
             "gridcolor": "white",
             "linecolor": "white",
             "minorgridcolor": "white",
             "startlinecolor": "#2a3f5f"
            },
            "type": "carpet"
           }
          ],
          "choropleth": [
           {
            "colorbar": {
             "outlinewidth": 0,
             "ticks": ""
            },
            "type": "choropleth"
           }
          ],
          "contour": [
           {
            "colorbar": {
             "outlinewidth": 0,
             "ticks": ""
            },
            "colorscale": [
             [
              0,
              "#0d0887"
             ],
             [
              0.1111111111111111,
              "#46039f"
             ],
             [
              0.2222222222222222,
              "#7201a8"
             ],
             [
              0.3333333333333333,
              "#9c179e"
             ],
             [
              0.4444444444444444,
              "#bd3786"
             ],
             [
              0.5555555555555556,
              "#d8576b"
             ],
             [
              0.6666666666666666,
              "#ed7953"
             ],
             [
              0.7777777777777778,
              "#fb9f3a"
             ],
             [
              0.8888888888888888,
              "#fdca26"
             ],
             [
              1,
              "#f0f921"
             ]
            ],
            "type": "contour"
           }
          ],
          "contourcarpet": [
           {
            "colorbar": {
             "outlinewidth": 0,
             "ticks": ""
            },
            "type": "contourcarpet"
           }
          ],
          "heatmap": [
           {
            "colorbar": {
             "outlinewidth": 0,
             "ticks": ""
            },
            "colorscale": [
             [
              0,
              "#0d0887"
             ],
             [
              0.1111111111111111,
              "#46039f"
             ],
             [
              0.2222222222222222,
              "#7201a8"
             ],
             [
              0.3333333333333333,
              "#9c179e"
             ],
             [
              0.4444444444444444,
              "#bd3786"
             ],
             [
              0.5555555555555556,
              "#d8576b"
             ],
             [
              0.6666666666666666,
              "#ed7953"
             ],
             [
              0.7777777777777778,
              "#fb9f3a"
             ],
             [
              0.8888888888888888,
              "#fdca26"
             ],
             [
              1,
              "#f0f921"
             ]
            ],
            "type": "heatmap"
           }
          ],
          "heatmapgl": [
           {
            "colorbar": {
             "outlinewidth": 0,
             "ticks": ""
            },
            "colorscale": [
             [
              0,
              "#0d0887"
             ],
             [
              0.1111111111111111,
              "#46039f"
             ],
             [
              0.2222222222222222,
              "#7201a8"
             ],
             [
              0.3333333333333333,
              "#9c179e"
             ],
             [
              0.4444444444444444,
              "#bd3786"
             ],
             [
              0.5555555555555556,
              "#d8576b"
             ],
             [
              0.6666666666666666,
              "#ed7953"
             ],
             [
              0.7777777777777778,
              "#fb9f3a"
             ],
             [
              0.8888888888888888,
              "#fdca26"
             ],
             [
              1,
              "#f0f921"
             ]
            ],
            "type": "heatmapgl"
           }
          ],
          "histogram": [
           {
            "marker": {
             "pattern": {
              "fillmode": "overlay",
              "size": 10,
              "solidity": 0.2
             }
            },
            "type": "histogram"
           }
          ],
          "histogram2d": [
           {
            "colorbar": {
             "outlinewidth": 0,
             "ticks": ""
            },
            "colorscale": [
             [
              0,
              "#0d0887"
             ],
             [
              0.1111111111111111,
              "#46039f"
             ],
             [
              0.2222222222222222,
              "#7201a8"
             ],
             [
              0.3333333333333333,
              "#9c179e"
             ],
             [
              0.4444444444444444,
              "#bd3786"
             ],
             [
              0.5555555555555556,
              "#d8576b"
             ],
             [
              0.6666666666666666,
              "#ed7953"
             ],
             [
              0.7777777777777778,
              "#fb9f3a"
             ],
             [
              0.8888888888888888,
              "#fdca26"
             ],
             [
              1,
              "#f0f921"
             ]
            ],
            "type": "histogram2d"
           }
          ],
          "histogram2dcontour": [
           {
            "colorbar": {
             "outlinewidth": 0,
             "ticks": ""
            },
            "colorscale": [
             [
              0,
              "#0d0887"
             ],
             [
              0.1111111111111111,
              "#46039f"
             ],
             [
              0.2222222222222222,
              "#7201a8"
             ],
             [
              0.3333333333333333,
              "#9c179e"
             ],
             [
              0.4444444444444444,
              "#bd3786"
             ],
             [
              0.5555555555555556,
              "#d8576b"
             ],
             [
              0.6666666666666666,
              "#ed7953"
             ],
             [
              0.7777777777777778,
              "#fb9f3a"
             ],
             [
              0.8888888888888888,
              "#fdca26"
             ],
             [
              1,
              "#f0f921"
             ]
            ],
            "type": "histogram2dcontour"
           }
          ],
          "mesh3d": [
           {
            "colorbar": {
             "outlinewidth": 0,
             "ticks": ""
            },
            "type": "mesh3d"
           }
          ],
          "parcoords": [
           {
            "line": {
             "colorbar": {
              "outlinewidth": 0,
              "ticks": ""
             }
            },
            "type": "parcoords"
           }
          ],
          "pie": [
           {
            "automargin": true,
            "type": "pie"
           }
          ],
          "scatter": [
           {
            "fillpattern": {
             "fillmode": "overlay",
             "size": 10,
             "solidity": 0.2
            },
            "type": "scatter"
           }
          ],
          "scatter3d": [
           {
            "line": {
             "colorbar": {
              "outlinewidth": 0,
              "ticks": ""
             }
            },
            "marker": {
             "colorbar": {
              "outlinewidth": 0,
              "ticks": ""
             }
            },
            "type": "scatter3d"
           }
          ],
          "scattercarpet": [
           {
            "marker": {
             "colorbar": {
              "outlinewidth": 0,
              "ticks": ""
             }
            },
            "type": "scattercarpet"
           }
          ],
          "scattergeo": [
           {
            "marker": {
             "colorbar": {
              "outlinewidth": 0,
              "ticks": ""
             }
            },
            "type": "scattergeo"
           }
          ],
          "scattergl": [
           {
            "marker": {
             "colorbar": {
              "outlinewidth": 0,
              "ticks": ""
             }
            },
            "type": "scattergl"
           }
          ],
          "scattermapbox": [
           {
            "marker": {
             "colorbar": {
              "outlinewidth": 0,
              "ticks": ""
             }
            },
            "type": "scattermapbox"
           }
          ],
          "scatterpolar": [
           {
            "marker": {
             "colorbar": {
              "outlinewidth": 0,
              "ticks": ""
             }
            },
            "type": "scatterpolar"
           }
          ],
          "scatterpolargl": [
           {
            "marker": {
             "colorbar": {
              "outlinewidth": 0,
              "ticks": ""
             }
            },
            "type": "scatterpolargl"
           }
          ],
          "scatterternary": [
           {
            "marker": {
             "colorbar": {
              "outlinewidth": 0,
              "ticks": ""
             }
            },
            "type": "scatterternary"
           }
          ],
          "surface": [
           {
            "colorbar": {
             "outlinewidth": 0,
             "ticks": ""
            },
            "colorscale": [
             [
              0,
              "#0d0887"
             ],
             [
              0.1111111111111111,
              "#46039f"
             ],
             [
              0.2222222222222222,
              "#7201a8"
             ],
             [
              0.3333333333333333,
              "#9c179e"
             ],
             [
              0.4444444444444444,
              "#bd3786"
             ],
             [
              0.5555555555555556,
              "#d8576b"
             ],
             [
              0.6666666666666666,
              "#ed7953"
             ],
             [
              0.7777777777777778,
              "#fb9f3a"
             ],
             [
              0.8888888888888888,
              "#fdca26"
             ],
             [
              1,
              "#f0f921"
             ]
            ],
            "type": "surface"
           }
          ],
          "table": [
           {
            "cells": {
             "fill": {
              "color": "#EBF0F8"
             },
             "line": {
              "color": "white"
             }
            },
            "header": {
             "fill": {
              "color": "#C8D4E3"
             },
             "line": {
              "color": "white"
             }
            },
            "type": "table"
           }
          ]
         },
         "layout": {
          "annotationdefaults": {
           "arrowcolor": "#2a3f5f",
           "arrowhead": 0,
           "arrowwidth": 1
          },
          "autotypenumbers": "strict",
          "coloraxis": {
           "colorbar": {
            "outlinewidth": 0,
            "ticks": ""
           }
          },
          "colorscale": {
           "diverging": [
            [
             0,
             "#8e0152"
            ],
            [
             0.1,
             "#c51b7d"
            ],
            [
             0.2,
             "#de77ae"
            ],
            [
             0.3,
             "#f1b6da"
            ],
            [
             0.4,
             "#fde0ef"
            ],
            [
             0.5,
             "#f7f7f7"
            ],
            [
             0.6,
             "#e6f5d0"
            ],
            [
             0.7,
             "#b8e186"
            ],
            [
             0.8,
             "#7fbc41"
            ],
            [
             0.9,
             "#4d9221"
            ],
            [
             1,
             "#276419"
            ]
           ],
           "sequential": [
            [
             0,
             "#0d0887"
            ],
            [
             0.1111111111111111,
             "#46039f"
            ],
            [
             0.2222222222222222,
             "#7201a8"
            ],
            [
             0.3333333333333333,
             "#9c179e"
            ],
            [
             0.4444444444444444,
             "#bd3786"
            ],
            [
             0.5555555555555556,
             "#d8576b"
            ],
            [
             0.6666666666666666,
             "#ed7953"
            ],
            [
             0.7777777777777778,
             "#fb9f3a"
            ],
            [
             0.8888888888888888,
             "#fdca26"
            ],
            [
             1,
             "#f0f921"
            ]
           ],
           "sequentialminus": [
            [
             0,
             "#0d0887"
            ],
            [
             0.1111111111111111,
             "#46039f"
            ],
            [
             0.2222222222222222,
             "#7201a8"
            ],
            [
             0.3333333333333333,
             "#9c179e"
            ],
            [
             0.4444444444444444,
             "#bd3786"
            ],
            [
             0.5555555555555556,
             "#d8576b"
            ],
            [
             0.6666666666666666,
             "#ed7953"
            ],
            [
             0.7777777777777778,
             "#fb9f3a"
            ],
            [
             0.8888888888888888,
             "#fdca26"
            ],
            [
             1,
             "#f0f921"
            ]
           ]
          },
          "colorway": [
           "#636efa",
           "#EF553B",
           "#00cc96",
           "#ab63fa",
           "#FFA15A",
           "#19d3f3",
           "#FF6692",
           "#B6E880",
           "#FF97FF",
           "#FECB52"
          ],
          "font": {
           "color": "#2a3f5f"
          },
          "geo": {
           "bgcolor": "white",
           "lakecolor": "white",
           "landcolor": "#E5ECF6",
           "showlakes": true,
           "showland": true,
           "subunitcolor": "white"
          },
          "hoverlabel": {
           "align": "left"
          },
          "hovermode": "closest",
          "mapbox": {
           "style": "light"
          },
          "paper_bgcolor": "white",
          "plot_bgcolor": "#E5ECF6",
          "polar": {
           "angularaxis": {
            "gridcolor": "white",
            "linecolor": "white",
            "ticks": ""
           },
           "bgcolor": "#E5ECF6",
           "radialaxis": {
            "gridcolor": "white",
            "linecolor": "white",
            "ticks": ""
           }
          },
          "scene": {
           "xaxis": {
            "backgroundcolor": "#E5ECF6",
            "gridcolor": "white",
            "gridwidth": 2,
            "linecolor": "white",
            "showbackground": true,
            "ticks": "",
            "zerolinecolor": "white"
           },
           "yaxis": {
            "backgroundcolor": "#E5ECF6",
            "gridcolor": "white",
            "gridwidth": 2,
            "linecolor": "white",
            "showbackground": true,
            "ticks": "",
            "zerolinecolor": "white"
           },
           "zaxis": {
            "backgroundcolor": "#E5ECF6",
            "gridcolor": "white",
            "gridwidth": 2,
            "linecolor": "white",
            "showbackground": true,
            "ticks": "",
            "zerolinecolor": "white"
           }
          },
          "shapedefaults": {
           "line": {
            "color": "#2a3f5f"
           }
          },
          "ternary": {
           "aaxis": {
            "gridcolor": "white",
            "linecolor": "white",
            "ticks": ""
           },
           "baxis": {
            "gridcolor": "white",
            "linecolor": "white",
            "ticks": ""
           },
           "bgcolor": "#E5ECF6",
           "caxis": {
            "gridcolor": "white",
            "linecolor": "white",
            "ticks": ""
           }
          },
          "title": {
           "x": 0.05
          },
          "xaxis": {
           "automargin": true,
           "gridcolor": "white",
           "linecolor": "white",
           "ticks": "",
           "title": {
            "standoff": 15
           },
           "zerolinecolor": "white",
           "zerolinewidth": 2
          },
          "yaxis": {
           "automargin": true,
           "gridcolor": "white",
           "linecolor": "white",
           "ticks": "",
           "title": {
            "standoff": 15
           },
           "zerolinecolor": "white",
           "zerolinewidth": 2
          }
         }
        },
        "title": {
         "text": "Heures de travail par pipeline et par semaine"
        },
        "xaxis": {
         "anchor": "y",
         "categoryarray": [
          "S2024-01",
          "S2024-20",
          "S2024-23",
          "S2024-24",
          "S2024-25",
          "S2024-26",
          "S2024-27",
          "S2024-28",
          "S2024-29",
          "S2024-30",
          "S2024-31",
          "S2024-32",
          "S2024-33",
          "S2024-34",
          "S2024-35",
          "S2024-36",
          "S2024-37",
          "S2024-38",
          "S2024-39",
          "S2024-40",
          "S2024-41",
          "S2024-42",
          "S2024-43",
          "S2024-44",
          "S2024-45",
          "S2024-46",
          "S2024-47",
          "S2024-48",
          "S2024-49",
          "S2024-50",
          "S2024-51",
          "S2024-52",
          "S2025-01",
          "S2025-02",
          "S2025-03",
          "S2025-04"
         ],
         "categoryorder": "array",
         "domain": [
          0,
          1
         ],
         "title": {
          "text": "Semaine"
         }
        },
        "yaxis": {
         "anchor": "x",
         "domain": [
          0,
          1
         ],
         "title": {
          "text": "Ticket ID"
         }
        }
       }
      }
     },
     "metadata": {},
     "output_type": "display_data"
    }
   ],
   "source": [
    "activite_ticket_source_client(df)"
   ]
  },
  {
   "cell_type": "code",
   "execution_count": 112,
   "metadata": {},
   "outputs": [
    {
     "data": {
      "text/plain": [
       "Formulaire SPSA\n",
       "C2 - Assistance niveau 2                                      46.488947\n",
       "B2 - Mise à niveau partenaire avec support                     9.232770\n",
       "A4 - Expédition PRIUM-4 achat                                  7.672302\n",
       "C4 - Maintenance lecteur                                       6.762029\n",
       "A1 - Expédition NEO achat                                      6.241873\n",
       "B4 - Appairage multi-utilisateurs                              4.746424\n",
       "B3 - Mise à niveau Olaqin                                      4.551365\n",
       "A3 - Expédition NEO location Olaqin                            3.641092\n",
       "B1 - Mise à niveau partenaire sans support                     2.730819\n",
       "D2 - Désactivation/réactivation d'un compte utilisateur        2.535761\n",
       "A5 - Expédition PRIUM-4 location Olaqin                        1.560468\n",
       "A2 - Expédition NEO location partenaire                        1.495449\n",
       "D1 - Résiliation location lecteur partenaire                   0.845254\n",
       "A6 - Expédition iWL350 location Olaqin                         0.585176\n",
       "A7 - Expédition iWL350 location partenaire                     0.585176\n",
       "C5 - Autorisation URL (niveau 3)                               0.260078\n",
       "D4 - Migration (détachement du lecteur mis à disposition)      0.065020\n",
       "Name: proportion, dtype: float64"
      ]
     },
     "execution_count": 112,
     "metadata": {},
     "output_type": "execute_result"
    }
   ],
   "source": [
    "df['Formulaire SPSA'].value_counts(normalize=True) * 100"
   ]
  },
  {
   "cell_type": "code",
   "execution_count": 113,
   "metadata": {},
   "outputs": [
    {
     "data": {
      "application/vnd.plotly.v1+json": {
       "config": {
        "plotlyServerURL": "https://plot.ly"
       },
       "data": [
        {
         "domain": {
          "x": [
           0,
           1
          ],
          "y": [
           0,
           1
          ]
         },
         "hovertemplate": "Pipeline=%{label}<br>Ticket ID=%{value}<extra></extra>",
         "labels": [
          "ADV",
          "Affid Nxt",
          "SPSA",
          "SSI",
          "SSIA"
         ],
         "legendgroup": "",
         "name": "",
         "showlegend": true,
         "type": "pie",
         "values": [
          67,
          95,
          1128,
          532,
          1411
         ]
        }
       ],
       "layout": {
        "legend": {
         "tracegroupgap": 0
        },
        "template": {
         "data": {
          "bar": [
           {
            "error_x": {
             "color": "#2a3f5f"
            },
            "error_y": {
             "color": "#2a3f5f"
            },
            "marker": {
             "line": {
              "color": "#E5ECF6",
              "width": 0.5
             },
             "pattern": {
              "fillmode": "overlay",
              "size": 10,
              "solidity": 0.2
             }
            },
            "type": "bar"
           }
          ],
          "barpolar": [
           {
            "marker": {
             "line": {
              "color": "#E5ECF6",
              "width": 0.5
             },
             "pattern": {
              "fillmode": "overlay",
              "size": 10,
              "solidity": 0.2
             }
            },
            "type": "barpolar"
           }
          ],
          "carpet": [
           {
            "aaxis": {
             "endlinecolor": "#2a3f5f",
             "gridcolor": "white",
             "linecolor": "white",
             "minorgridcolor": "white",
             "startlinecolor": "#2a3f5f"
            },
            "baxis": {
             "endlinecolor": "#2a3f5f",
             "gridcolor": "white",
             "linecolor": "white",
             "minorgridcolor": "white",
             "startlinecolor": "#2a3f5f"
            },
            "type": "carpet"
           }
          ],
          "choropleth": [
           {
            "colorbar": {
             "outlinewidth": 0,
             "ticks": ""
            },
            "type": "choropleth"
           }
          ],
          "contour": [
           {
            "colorbar": {
             "outlinewidth": 0,
             "ticks": ""
            },
            "colorscale": [
             [
              0,
              "#0d0887"
             ],
             [
              0.1111111111111111,
              "#46039f"
             ],
             [
              0.2222222222222222,
              "#7201a8"
             ],
             [
              0.3333333333333333,
              "#9c179e"
             ],
             [
              0.4444444444444444,
              "#bd3786"
             ],
             [
              0.5555555555555556,
              "#d8576b"
             ],
             [
              0.6666666666666666,
              "#ed7953"
             ],
             [
              0.7777777777777778,
              "#fb9f3a"
             ],
             [
              0.8888888888888888,
              "#fdca26"
             ],
             [
              1,
              "#f0f921"
             ]
            ],
            "type": "contour"
           }
          ],
          "contourcarpet": [
           {
            "colorbar": {
             "outlinewidth": 0,
             "ticks": ""
            },
            "type": "contourcarpet"
           }
          ],
          "heatmap": [
           {
            "colorbar": {
             "outlinewidth": 0,
             "ticks": ""
            },
            "colorscale": [
             [
              0,
              "#0d0887"
             ],
             [
              0.1111111111111111,
              "#46039f"
             ],
             [
              0.2222222222222222,
              "#7201a8"
             ],
             [
              0.3333333333333333,
              "#9c179e"
             ],
             [
              0.4444444444444444,
              "#bd3786"
             ],
             [
              0.5555555555555556,
              "#d8576b"
             ],
             [
              0.6666666666666666,
              "#ed7953"
             ],
             [
              0.7777777777777778,
              "#fb9f3a"
             ],
             [
              0.8888888888888888,
              "#fdca26"
             ],
             [
              1,
              "#f0f921"
             ]
            ],
            "type": "heatmap"
           }
          ],
          "heatmapgl": [
           {
            "colorbar": {
             "outlinewidth": 0,
             "ticks": ""
            },
            "colorscale": [
             [
              0,
              "#0d0887"
             ],
             [
              0.1111111111111111,
              "#46039f"
             ],
             [
              0.2222222222222222,
              "#7201a8"
             ],
             [
              0.3333333333333333,
              "#9c179e"
             ],
             [
              0.4444444444444444,
              "#bd3786"
             ],
             [
              0.5555555555555556,
              "#d8576b"
             ],
             [
              0.6666666666666666,
              "#ed7953"
             ],
             [
              0.7777777777777778,
              "#fb9f3a"
             ],
             [
              0.8888888888888888,
              "#fdca26"
             ],
             [
              1,
              "#f0f921"
             ]
            ],
            "type": "heatmapgl"
           }
          ],
          "histogram": [
           {
            "marker": {
             "pattern": {
              "fillmode": "overlay",
              "size": 10,
              "solidity": 0.2
             }
            },
            "type": "histogram"
           }
          ],
          "histogram2d": [
           {
            "colorbar": {
             "outlinewidth": 0,
             "ticks": ""
            },
            "colorscale": [
             [
              0,
              "#0d0887"
             ],
             [
              0.1111111111111111,
              "#46039f"
             ],
             [
              0.2222222222222222,
              "#7201a8"
             ],
             [
              0.3333333333333333,
              "#9c179e"
             ],
             [
              0.4444444444444444,
              "#bd3786"
             ],
             [
              0.5555555555555556,
              "#d8576b"
             ],
             [
              0.6666666666666666,
              "#ed7953"
             ],
             [
              0.7777777777777778,
              "#fb9f3a"
             ],
             [
              0.8888888888888888,
              "#fdca26"
             ],
             [
              1,
              "#f0f921"
             ]
            ],
            "type": "histogram2d"
           }
          ],
          "histogram2dcontour": [
           {
            "colorbar": {
             "outlinewidth": 0,
             "ticks": ""
            },
            "colorscale": [
             [
              0,
              "#0d0887"
             ],
             [
              0.1111111111111111,
              "#46039f"
             ],
             [
              0.2222222222222222,
              "#7201a8"
             ],
             [
              0.3333333333333333,
              "#9c179e"
             ],
             [
              0.4444444444444444,
              "#bd3786"
             ],
             [
              0.5555555555555556,
              "#d8576b"
             ],
             [
              0.6666666666666666,
              "#ed7953"
             ],
             [
              0.7777777777777778,
              "#fb9f3a"
             ],
             [
              0.8888888888888888,
              "#fdca26"
             ],
             [
              1,
              "#f0f921"
             ]
            ],
            "type": "histogram2dcontour"
           }
          ],
          "mesh3d": [
           {
            "colorbar": {
             "outlinewidth": 0,
             "ticks": ""
            },
            "type": "mesh3d"
           }
          ],
          "parcoords": [
           {
            "line": {
             "colorbar": {
              "outlinewidth": 0,
              "ticks": ""
             }
            },
            "type": "parcoords"
           }
          ],
          "pie": [
           {
            "automargin": true,
            "type": "pie"
           }
          ],
          "scatter": [
           {
            "fillpattern": {
             "fillmode": "overlay",
             "size": 10,
             "solidity": 0.2
            },
            "type": "scatter"
           }
          ],
          "scatter3d": [
           {
            "line": {
             "colorbar": {
              "outlinewidth": 0,
              "ticks": ""
             }
            },
            "marker": {
             "colorbar": {
              "outlinewidth": 0,
              "ticks": ""
             }
            },
            "type": "scatter3d"
           }
          ],
          "scattercarpet": [
           {
            "marker": {
             "colorbar": {
              "outlinewidth": 0,
              "ticks": ""
             }
            },
            "type": "scattercarpet"
           }
          ],
          "scattergeo": [
           {
            "marker": {
             "colorbar": {
              "outlinewidth": 0,
              "ticks": ""
             }
            },
            "type": "scattergeo"
           }
          ],
          "scattergl": [
           {
            "marker": {
             "colorbar": {
              "outlinewidth": 0,
              "ticks": ""
             }
            },
            "type": "scattergl"
           }
          ],
          "scattermapbox": [
           {
            "marker": {
             "colorbar": {
              "outlinewidth": 0,
              "ticks": ""
             }
            },
            "type": "scattermapbox"
           }
          ],
          "scatterpolar": [
           {
            "marker": {
             "colorbar": {
              "outlinewidth": 0,
              "ticks": ""
             }
            },
            "type": "scatterpolar"
           }
          ],
          "scatterpolargl": [
           {
            "marker": {
             "colorbar": {
              "outlinewidth": 0,
              "ticks": ""
             }
            },
            "type": "scatterpolargl"
           }
          ],
          "scatterternary": [
           {
            "marker": {
             "colorbar": {
              "outlinewidth": 0,
              "ticks": ""
             }
            },
            "type": "scatterternary"
           }
          ],
          "surface": [
           {
            "colorbar": {
             "outlinewidth": 0,
             "ticks": ""
            },
            "colorscale": [
             [
              0,
              "#0d0887"
             ],
             [
              0.1111111111111111,
              "#46039f"
             ],
             [
              0.2222222222222222,
              "#7201a8"
             ],
             [
              0.3333333333333333,
              "#9c179e"
             ],
             [
              0.4444444444444444,
              "#bd3786"
             ],
             [
              0.5555555555555556,
              "#d8576b"
             ],
             [
              0.6666666666666666,
              "#ed7953"
             ],
             [
              0.7777777777777778,
              "#fb9f3a"
             ],
             [
              0.8888888888888888,
              "#fdca26"
             ],
             [
              1,
              "#f0f921"
             ]
            ],
            "type": "surface"
           }
          ],
          "table": [
           {
            "cells": {
             "fill": {
              "color": "#EBF0F8"
             },
             "line": {
              "color": "white"
             }
            },
            "header": {
             "fill": {
              "color": "#C8D4E3"
             },
             "line": {
              "color": "white"
             }
            },
            "type": "table"
           }
          ]
         },
         "layout": {
          "annotationdefaults": {
           "arrowcolor": "#2a3f5f",
           "arrowhead": 0,
           "arrowwidth": 1
          },
          "autotypenumbers": "strict",
          "coloraxis": {
           "colorbar": {
            "outlinewidth": 0,
            "ticks": ""
           }
          },
          "colorscale": {
           "diverging": [
            [
             0,
             "#8e0152"
            ],
            [
             0.1,
             "#c51b7d"
            ],
            [
             0.2,
             "#de77ae"
            ],
            [
             0.3,
             "#f1b6da"
            ],
            [
             0.4,
             "#fde0ef"
            ],
            [
             0.5,
             "#f7f7f7"
            ],
            [
             0.6,
             "#e6f5d0"
            ],
            [
             0.7,
             "#b8e186"
            ],
            [
             0.8,
             "#7fbc41"
            ],
            [
             0.9,
             "#4d9221"
            ],
            [
             1,
             "#276419"
            ]
           ],
           "sequential": [
            [
             0,
             "#0d0887"
            ],
            [
             0.1111111111111111,
             "#46039f"
            ],
            [
             0.2222222222222222,
             "#7201a8"
            ],
            [
             0.3333333333333333,
             "#9c179e"
            ],
            [
             0.4444444444444444,
             "#bd3786"
            ],
            [
             0.5555555555555556,
             "#d8576b"
            ],
            [
             0.6666666666666666,
             "#ed7953"
            ],
            [
             0.7777777777777778,
             "#fb9f3a"
            ],
            [
             0.8888888888888888,
             "#fdca26"
            ],
            [
             1,
             "#f0f921"
            ]
           ],
           "sequentialminus": [
            [
             0,
             "#0d0887"
            ],
            [
             0.1111111111111111,
             "#46039f"
            ],
            [
             0.2222222222222222,
             "#7201a8"
            ],
            [
             0.3333333333333333,
             "#9c179e"
            ],
            [
             0.4444444444444444,
             "#bd3786"
            ],
            [
             0.5555555555555556,
             "#d8576b"
            ],
            [
             0.6666666666666666,
             "#ed7953"
            ],
            [
             0.7777777777777778,
             "#fb9f3a"
            ],
            [
             0.8888888888888888,
             "#fdca26"
            ],
            [
             1,
             "#f0f921"
            ]
           ]
          },
          "colorway": [
           "#636efa",
           "#EF553B",
           "#00cc96",
           "#ab63fa",
           "#FFA15A",
           "#19d3f3",
           "#FF6692",
           "#B6E880",
           "#FF97FF",
           "#FECB52"
          ],
          "font": {
           "color": "#2a3f5f"
          },
          "geo": {
           "bgcolor": "white",
           "lakecolor": "white",
           "landcolor": "#E5ECF6",
           "showlakes": true,
           "showland": true,
           "subunitcolor": "white"
          },
          "hoverlabel": {
           "align": "left"
          },
          "hovermode": "closest",
          "mapbox": {
           "style": "light"
          },
          "paper_bgcolor": "white",
          "plot_bgcolor": "#E5ECF6",
          "polar": {
           "angularaxis": {
            "gridcolor": "white",
            "linecolor": "white",
            "ticks": ""
           },
           "bgcolor": "#E5ECF6",
           "radialaxis": {
            "gridcolor": "white",
            "linecolor": "white",
            "ticks": ""
           }
          },
          "scene": {
           "xaxis": {
            "backgroundcolor": "#E5ECF6",
            "gridcolor": "white",
            "gridwidth": 2,
            "linecolor": "white",
            "showbackground": true,
            "ticks": "",
            "zerolinecolor": "white"
           },
           "yaxis": {
            "backgroundcolor": "#E5ECF6",
            "gridcolor": "white",
            "gridwidth": 2,
            "linecolor": "white",
            "showbackground": true,
            "ticks": "",
            "zerolinecolor": "white"
           },
           "zaxis": {
            "backgroundcolor": "#E5ECF6",
            "gridcolor": "white",
            "gridwidth": 2,
            "linecolor": "white",
            "showbackground": true,
            "ticks": "",
            "zerolinecolor": "white"
           }
          },
          "shapedefaults": {
           "line": {
            "color": "#2a3f5f"
           }
          },
          "ternary": {
           "aaxis": {
            "gridcolor": "white",
            "linecolor": "white",
            "ticks": ""
           },
           "baxis": {
            "gridcolor": "white",
            "linecolor": "white",
            "ticks": ""
           },
           "bgcolor": "#E5ECF6",
           "caxis": {
            "gridcolor": "white",
            "linecolor": "white",
            "ticks": ""
           }
          },
          "title": {
           "x": 0.05
          },
          "xaxis": {
           "automargin": true,
           "gridcolor": "white",
           "linecolor": "white",
           "ticks": "",
           "title": {
            "standoff": 15
           },
           "zerolinecolor": "white",
           "zerolinewidth": 2
          },
          "yaxis": {
           "automargin": true,
           "gridcolor": "white",
           "linecolor": "white",
           "ticks": "",
           "title": {
            "standoff": 15
           },
           "zerolinecolor": "white",
           "zerolinewidth": 2
          }
         }
        },
        "title": {
         "text": "Répartition des e-mails envoyés par propriétaire de ticket"
        }
       }
      }
     },
     "metadata": {},
     "output_type": "display_data"
    }
   ],
   "source": [
    "activite_ticket_source_pipeline(df)"
   ]
  },
  {
   "cell_type": "code",
   "execution_count": 114,
   "metadata": {},
   "outputs": [
    {
     "data": {
      "text/html": [
       "<div>\n",
       "<style scoped>\n",
       "    .dataframe tbody tr th:only-of-type {\n",
       "        vertical-align: middle;\n",
       "    }\n",
       "\n",
       "    .dataframe tbody tr th {\n",
       "        vertical-align: top;\n",
       "    }\n",
       "\n",
       "    .dataframe thead th {\n",
       "        text-align: right;\n",
       "    }\n",
       "</style>\n",
       "<table border=\"1\" class=\"dataframe\">\n",
       "  <thead>\n",
       "    <tr style=\"text-align: right;\">\n",
       "      <th></th>\n",
       "      <th>Propriétaire du ticket</th>\n",
       "      <th>Ticket ID</th>\n",
       "    </tr>\n",
       "  </thead>\n",
       "  <tbody>\n",
       "    <tr>\n",
       "      <th>5</th>\n",
       "      <td>FREDERIC SAUVAN</td>\n",
       "      <td>482</td>\n",
       "    </tr>\n",
       "    <tr>\n",
       "      <th>0</th>\n",
       "      <td>Archimède KESSI</td>\n",
       "      <td>344</td>\n",
       "    </tr>\n",
       "    <tr>\n",
       "      <th>2</th>\n",
       "      <td>Christophe Brichet</td>\n",
       "      <td>201</td>\n",
       "    </tr>\n",
       "    <tr>\n",
       "      <th>6</th>\n",
       "      <td>HUMBLOT NASSUF</td>\n",
       "      <td>94</td>\n",
       "    </tr>\n",
       "    <tr>\n",
       "      <th>11</th>\n",
       "      <td>Olivier Sainte-Rose</td>\n",
       "      <td>93</td>\n",
       "    </tr>\n",
       "    <tr>\n",
       "      <th>12</th>\n",
       "      <td>Pierre Goupillon</td>\n",
       "      <td>52</td>\n",
       "    </tr>\n",
       "    <tr>\n",
       "      <th>13</th>\n",
       "      <td>Sandrine Sauvage</td>\n",
       "      <td>35</td>\n",
       "    </tr>\n",
       "    <tr>\n",
       "      <th>7</th>\n",
       "      <td>Melinda Marmin</td>\n",
       "      <td>25</td>\n",
       "    </tr>\n",
       "    <tr>\n",
       "      <th>3</th>\n",
       "      <td>Emilie Gest</td>\n",
       "      <td>14</td>\n",
       "    </tr>\n",
       "    <tr>\n",
       "      <th>17</th>\n",
       "      <td>Vincent LE QUENNEC</td>\n",
       "      <td>14</td>\n",
       "    </tr>\n",
       "    <tr>\n",
       "      <th>15</th>\n",
       "      <td>Sébastien HUREL</td>\n",
       "      <td>7</td>\n",
       "    </tr>\n",
       "    <tr>\n",
       "      <th>4</th>\n",
       "      <td>Eveline BISCARA</td>\n",
       "      <td>7</td>\n",
       "    </tr>\n",
       "    <tr>\n",
       "      <th>8</th>\n",
       "      <td>Morgane VANDENBUSSCHE</td>\n",
       "      <td>4</td>\n",
       "    </tr>\n",
       "    <tr>\n",
       "      <th>16</th>\n",
       "      <td>Vincent Gourvat</td>\n",
       "      <td>4</td>\n",
       "    </tr>\n",
       "    <tr>\n",
       "      <th>9</th>\n",
       "      <td>Nicolas Razafindramena</td>\n",
       "      <td>2</td>\n",
       "    </tr>\n",
       "    <tr>\n",
       "      <th>14</th>\n",
       "      <td>Soufiane Ghanim</td>\n",
       "      <td>2</td>\n",
       "    </tr>\n",
       "    <tr>\n",
       "      <th>10</th>\n",
       "      <td>Olga EKIMTCEVA</td>\n",
       "      <td>2</td>\n",
       "    </tr>\n",
       "    <tr>\n",
       "      <th>18</th>\n",
       "      <td>nathalie pottiez</td>\n",
       "      <td>2</td>\n",
       "    </tr>\n",
       "    <tr>\n",
       "      <th>1</th>\n",
       "      <td>Armatis Agent</td>\n",
       "      <td>1</td>\n",
       "    </tr>\n",
       "  </tbody>\n",
       "</table>\n",
       "</div>"
      ],
      "text/plain": [
       "    Propriétaire du ticket  Ticket ID\n",
       "5          FREDERIC SAUVAN        482\n",
       "0          Archimède KESSI        344\n",
       "2       Christophe Brichet        201\n",
       "6           HUMBLOT NASSUF         94\n",
       "11     Olivier Sainte-Rose         93\n",
       "12        Pierre Goupillon         52\n",
       "13        Sandrine Sauvage         35\n",
       "7           Melinda Marmin         25\n",
       "3              Emilie Gest         14\n",
       "17      Vincent LE QUENNEC         14\n",
       "15         Sébastien HUREL          7\n",
       "4          Eveline BISCARA          7\n",
       "8    Morgane VANDENBUSSCHE          4\n",
       "16         Vincent Gourvat          4\n",
       "9   Nicolas Razafindramena          2\n",
       "14         Soufiane Ghanim          2\n",
       "10          Olga EKIMTCEVA          2\n",
       "18        nathalie pottiez          2\n",
       "1            Armatis Agent          1"
      ]
     },
     "execution_count": 114,
     "metadata": {},
     "output_type": "execute_result"
    }
   ],
   "source": [
    "# Nombre de ticket / Semaine par Pipeline\n",
    "def metrics_nombre_ticket_pipeline(df, pipeline):\n",
    "    df = df[df['Source'].isin(['Chat', 'E-mail'])]\n",
    "    df = df[df['Pipeline'] == pipeline].groupby(['Propriétaire du ticket'])['Ticket ID'].nunique().reset_index().sort_values(by='Ticket ID', ascending=False)\n",
    "    return df\n",
    "\n",
    "metrics_nombre_ticket_pipeline(df, 'SSIA')"
   ]
  },
  {
   "cell_type": "code",
   "execution_count": null,
   "metadata": {},
   "outputs": [],
   "source": []
  },
  {
   "cell_type": "code",
   "execution_count": null,
   "metadata": {},
   "outputs": [],
   "source": [
    "def sla_2h_spsa (df): \n",
    "\n",
    "    df_sla_2h = df[(df['working_hours'] < 2) \n",
    "                   & (df['working_hours'] > 0.1)].groupby(['Semaine'])['working_hours'].count().reset_index().rename(columns={'working_hours': 'SLA < 2h'})\n",
    "\n",
    "    df_tickets = df.groupby(['Semaine'])['working_hours'].count().reset_index().rename(columns={'working_hours': 'Nb tickets'})\n",
    "    \n",
    "\n",
    "    df_tickets_std = df['working_hours'].describe().to_frame()\n",
    "\n",
    "\n",
    "    df_tickets_sla = pd.merge(df_tickets, df_sla_2h, how='left', on='Semaine')\n",
    "\n",
    "    pourcentage_sla = (df_tickets_sla['SLA < 2h'].mean() / df_tickets_sla['Nb tickets'].mean()) * 100\n",
    "    pourcentage_sla = (f\"{pourcentage_sla:.2f}%\")\n",
    "    return pourcentage_sla, df_tickets_std"
   ]
  },
  {
   "cell_type": "code",
   "execution_count": 55,
   "metadata": {},
   "outputs": [],
   "source": [
    "df_filtre_partenaire = df[(df['Pipeline'] == 'SPSA')\n",
    "                            & (df['Formulaire SPSA'] == 'C2 - Assistance niveau 2')\n",
    "                            & (df['Associated Company'] == 'FOLLOW') \n",
    "                            & (~df['Source'].isin(['Migration JIRA']))]"
   ]
  },
  {
   "cell_type": "code",
   "execution_count": null,
   "metadata": {},
   "outputs": [],
   "source": []
  },
  {
   "cell_type": "code",
   "execution_count": 56,
   "metadata": {},
   "outputs": [],
   "source": [
    "sla_partenaire, describe_partenaire = sla_2h_spsa(df_filtre_partenaire)"
   ]
  },
  {
   "cell_type": "code",
   "execution_count": 57,
   "metadata": {},
   "outputs": [
    {
     "data": {
      "text/plain": [
       "'64.51%'"
      ]
     },
     "execution_count": 57,
     "metadata": {},
     "output_type": "execute_result"
    }
   ],
   "source": [
    "sla_partenaire"
   ]
  },
  {
   "cell_type": "code",
   "execution_count": 58,
   "metadata": {},
   "outputs": [
    {
     "data": {
      "text/html": [
       "<div>\n",
       "<style scoped>\n",
       "    .dataframe tbody tr th:only-of-type {\n",
       "        vertical-align: middle;\n",
       "    }\n",
       "\n",
       "    .dataframe tbody tr th {\n",
       "        vertical-align: top;\n",
       "    }\n",
       "\n",
       "    .dataframe thead th {\n",
       "        text-align: right;\n",
       "    }\n",
       "</style>\n",
       "<table border=\"1\" class=\"dataframe\">\n",
       "  <thead>\n",
       "    <tr style=\"text-align: right;\">\n",
       "      <th></th>\n",
       "      <th>working_hours</th>\n",
       "    </tr>\n",
       "  </thead>\n",
       "  <tbody>\n",
       "    <tr>\n",
       "      <th>count</th>\n",
       "      <td>392.000000</td>\n",
       "    </tr>\n",
       "    <tr>\n",
       "      <th>mean</th>\n",
       "      <td>3.459991</td>\n",
       "    </tr>\n",
       "    <tr>\n",
       "      <th>std</th>\n",
       "      <td>7.402725</td>\n",
       "    </tr>\n",
       "    <tr>\n",
       "      <th>min</th>\n",
       "      <td>0.000000</td>\n",
       "    </tr>\n",
       "    <tr>\n",
       "      <th>25%</th>\n",
       "      <td>0.379167</td>\n",
       "    </tr>\n",
       "    <tr>\n",
       "      <th>50%</th>\n",
       "      <td>1.000000</td>\n",
       "    </tr>\n",
       "    <tr>\n",
       "      <th>75%</th>\n",
       "      <td>2.466667</td>\n",
       "    </tr>\n",
       "    <tr>\n",
       "      <th>max</th>\n",
       "      <td>58.900000</td>\n",
       "    </tr>\n",
       "  </tbody>\n",
       "</table>\n",
       "</div>"
      ],
      "text/plain": [
       "       working_hours\n",
       "count     392.000000\n",
       "mean        3.459991\n",
       "std         7.402725\n",
       "min         0.000000\n",
       "25%         0.379167\n",
       "50%         1.000000\n",
       "75%         2.466667\n",
       "max        58.900000"
      ]
     },
     "execution_count": 58,
     "metadata": {},
     "output_type": "execute_result"
    }
   ],
   "source": [
    "describe_partenaire"
   ]
  },
  {
   "cell_type": "code",
   "execution_count": 45,
   "metadata": {},
   "outputs": [
    {
     "data": {
      "text/plain": [
       "count    392.000000\n",
       "mean       3.459991\n",
       "std        7.402725\n",
       "min        0.000000\n",
       "25%        0.379167\n",
       "50%        1.000000\n",
       "75%        2.466667\n",
       "max       58.900000\n",
       "Name: working_hours, dtype: float64"
      ]
     },
     "execution_count": 45,
     "metadata": {},
     "output_type": "execute_result"
    }
   ],
   "source": [
    "df[(df['Pipeline'] == 'SPSA')\n",
    "                & (df['Formulaire SPSA'] == 'C2 - Assistance niveau 2')\n",
    "                & (df['Associated Company'] == 'FOLLOW') \n",
    "                & (~df['Source'].isin(['Migration JIRA']))]['working_hours'].describe()"
   ]
  },
  {
   "cell_type": "code",
   "execution_count": 116,
   "metadata": {},
   "outputs": [],
   "source": [
    "# Temps moyen de fermeture des tickets\n",
    "df_temps_fermeture = df[df['Statut du ticket'].isin(['Résolu', 'Clos'])]\n",
    "df_temps_fermeture = df_temps_fermeture[~df_temps_fermeture['Source'].isin(['Migration JIRA'])]\n",
    "#df_temps_fermeture['Délai de traitement (HH:mm:ss)'].mean()"
   ]
  },
  {
   "cell_type": "code",
   "execution_count": null,
   "metadata": {},
   "outputs": [],
   "source": []
  },
  {
   "cell_type": "code",
   "execution_count": 117,
   "metadata": {},
   "outputs": [],
   "source": [
    "import pandas as pd\n",
    "# Nombre de tickets ouvert\n",
    "def metrics_nombre_ticket_ouvert(df, pipeline): \n",
    "    \n",
    "    df = df[df['Pipeline'] == pipeline]\n",
    "    # Conversion des colonnes en format datetime\n",
    "    df['Date de création'] = pd.to_datetime(df['Date de création'], errors='coerce')\n",
    "    df['Date de fermeture'] = pd.to_datetime(df['Date de fermeture'], errors='coerce')\n",
    "\n",
    "    # Gérer les valeurs manquantes\n",
    "    df = df[df['Date de création'].notna()]  # Exclure les tickets sans date de création\n",
    "    df['Date de fermeture'] = df['Date de fermeture'].fillna(datetime.now())\n",
    "\n",
    "    # Étendre les semaines ouvertes pour chaque ticket\n",
    "    def generate_week_range(row):\n",
    "        start_date = row['Date de création']\n",
    "        end_date = row['Date de fermeture']\n",
    "        return pd.date_range(start=start_date, end=end_date, freq='W-MON').strftime('S%Y-%U').tolist()\n",
    "\n",
    "    df['Semaines ouvertes'] = df.apply(generate_week_range, axis=1)\n",
    "\n",
    "    # Étendre le DataFrame pour avoir une ligne par semaine\n",
    "    df_expanded = df.explode('Semaines ouvertes')\n",
    "\n",
    "    # Ajouter une colonne pour indiquer qu'un ticket est ouvert\n",
    "    df_expanded['Ticket_ouvert'] = 1\n",
    "\n",
    "    # Conserver l'ID du ticket sur toutes les lignes\n",
    "    df_expanded = df_expanded[['Ticket ID', 'Semaines ouvertes', 'Ticket_ouvert']]\n",
    "\n",
    "    # Compter les tickets ouverts par semaine avec la liste des IDs\n",
    "    tickets_par_semaine = df_expanded.groupby('Semaines ouvertes').agg({\n",
    "        'Ticket ID': 'nunique',\n",
    "    }).reset_index()\n",
    "\n",
    "    # Renommer les colonnes pour plus de clarté\n",
    "    #tickets_par_semaine.rename(columns={\n",
    "    #    'Semaines ouvertes': 'Semaine',\n",
    "    ##    'Ticket_ouvert': 'Nombre de tickets',\n",
    "    #}, inplace=True)\n",
    "\n",
    "\n",
    "    return tickets_par_semaine\n"
   ]
  },
  {
   "cell_type": "code",
   "execution_count": 118,
   "metadata": {},
   "outputs": [
    {
     "data": {
      "text/html": [
       "<div>\n",
       "<style scoped>\n",
       "    .dataframe tbody tr th:only-of-type {\n",
       "        vertical-align: middle;\n",
       "    }\n",
       "\n",
       "    .dataframe tbody tr th {\n",
       "        vertical-align: top;\n",
       "    }\n",
       "\n",
       "    .dataframe thead th {\n",
       "        text-align: right;\n",
       "    }\n",
       "</style>\n",
       "<table border=\"1\" class=\"dataframe\">\n",
       "  <thead>\n",
       "    <tr style=\"text-align: right;\">\n",
       "      <th></th>\n",
       "      <th>Semaines ouvertes</th>\n",
       "      <th>Ticket ID</th>\n",
       "    </tr>\n",
       "  </thead>\n",
       "  <tbody>\n",
       "    <tr>\n",
       "      <th>0</th>\n",
       "      <td>S2022-46</td>\n",
       "      <td>1</td>\n",
       "    </tr>\n",
       "    <tr>\n",
       "      <th>1</th>\n",
       "      <td>S2022-47</td>\n",
       "      <td>1</td>\n",
       "    </tr>\n",
       "    <tr>\n",
       "      <th>2</th>\n",
       "      <td>S2022-48</td>\n",
       "      <td>1</td>\n",
       "    </tr>\n",
       "    <tr>\n",
       "      <th>3</th>\n",
       "      <td>S2022-49</td>\n",
       "      <td>1</td>\n",
       "    </tr>\n",
       "    <tr>\n",
       "      <th>4</th>\n",
       "      <td>S2022-50</td>\n",
       "      <td>1</td>\n",
       "    </tr>\n",
       "    <tr>\n",
       "      <th>...</th>\n",
       "      <td>...</td>\n",
       "      <td>...</td>\n",
       "    </tr>\n",
       "    <tr>\n",
       "      <th>111</th>\n",
       "      <td>S2024-52</td>\n",
       "      <td>76</td>\n",
       "    </tr>\n",
       "    <tr>\n",
       "      <th>112</th>\n",
       "      <td>S2025-01</td>\n",
       "      <td>70</td>\n",
       "    </tr>\n",
       "    <tr>\n",
       "      <th>113</th>\n",
       "      <td>S2025-02</td>\n",
       "      <td>64</td>\n",
       "    </tr>\n",
       "    <tr>\n",
       "      <th>114</th>\n",
       "      <td>S2025-03</td>\n",
       "      <td>57</td>\n",
       "    </tr>\n",
       "    <tr>\n",
       "      <th>115</th>\n",
       "      <td>S2025-04</td>\n",
       "      <td>44</td>\n",
       "    </tr>\n",
       "  </tbody>\n",
       "</table>\n",
       "<p>116 rows × 2 columns</p>\n",
       "</div>"
      ],
      "text/plain": [
       "    Semaines ouvertes  Ticket ID\n",
       "0            S2022-46          1\n",
       "1            S2022-47          1\n",
       "2            S2022-48          1\n",
       "3            S2022-49          1\n",
       "4            S2022-50          1\n",
       "..                ...        ...\n",
       "111          S2024-52         76\n",
       "112          S2025-01         70\n",
       "113          S2025-02         64\n",
       "114          S2025-03         57\n",
       "115          S2025-04         44\n",
       "\n",
       "[116 rows x 2 columns]"
      ]
     },
     "execution_count": 118,
     "metadata": {},
     "output_type": "execute_result"
    }
   ],
   "source": [
    "metrics_nombre_ticket_ouvert(df, 'SSI')"
   ]
  },
  {
   "cell_type": "code",
   "execution_count": 119,
   "metadata": {},
   "outputs": [
    {
     "data": {
      "text/plain": [
       "Source\n",
       "E-mail            87\n",
       "Formulaire        87\n",
       "Chat              80\n",
       "Téléphone         68\n",
       "Migration JIRA     7\n",
       "Name: count, dtype: int64"
      ]
     },
     "execution_count": 119,
     "metadata": {},
     "output_type": "execute_result"
    }
   ],
   "source": [
    "df[~df['Statut du ticket'].isin(['Clos', 'Résolu'])].Source.value_counts()"
   ]
  },
  {
   "cell_type": "code",
   "execution_count": 120,
   "metadata": {},
   "outputs": [
    {
     "data": {
      "text/plain": [
       "Ticket ID                                                                            int64\n",
       "Nom du ticket                                                                       object\n",
       "Associated Contact                                                                  object\n",
       "Pipeline                                                                            object\n",
       "Statut du ticket                                                                    object\n",
       "Date de création                                                            datetime64[ns]\n",
       "Date de fermeture                                                           datetime64[ns]\n",
       "Propriétaire du ticket                                                              object\n",
       "Source                                                                              object\n",
       "Date de la dernière activité                                                datetime64[ns]\n",
       "Délai de traitement (HH:mm:ss)                                                      object\n",
       "Durée de la première réponse par e-mail de l'agent (HH:mm:ss)                       object\n",
       "Formulaire SPSA                                                                     object\n",
       "Nom du PS                                                                           object\n",
       "Passé par le support N2                                                             object\n",
       "Commentaire de la dernière enquête CES                                             float64\n",
       "Date de la première réponse par e-mail de l'agent                           datetime64[ns]\n",
       "Évaluation de le dernière enquête CES                                              float64\n",
       "Catégorie                                                                           object\n",
       "Lecteur                                                                             object\n",
       "Statut de l'accord de niveau de service sur le temps de première réponse            object\n",
       "Sujet de la demande                                                                 object\n",
       "Type du canal d'origine                                                             object\n",
       "Associated Conversation                                                             object\n",
       "Description du ticket                                                               object\n",
       "Détail source de la fiche d'informations 1                                          object\n",
       "Détail source de la fiche d'informations 2                                         float64\n",
       "Détail source de la fiche d'informations 3                                         float64\n",
       "Libellés de tickets                                                                 object\n",
       "Résolution                                                                         float64\n",
       "Résumé                                                                             float64\n",
       "Associated Company                                                                  object\n",
       "Date de la dernière réponse du client                                       datetime64[ns]\n",
       "Temps de fermeture (HH:mm:ss)                                                       object\n",
       "Associated Contact IDs                                                              object\n",
       "Associated Conversation IDs                                                         object\n",
       "Associated Company IDs                                                              object\n",
       "working_hours                                                                      float64\n",
       "working_hours_hms                                                                   object\n",
       "Semaine                                                                             object\n",
       "Nombre_ticket_client                                                                 int64\n",
       "Nombre_ticket_telephone                                                              int64\n",
       "dtype: object"
      ]
     },
     "execution_count": 120,
     "metadata": {},
     "output_type": "execute_result"
    }
   ],
   "source": [
    "df.dtypes"
   ]
  },
  {
   "cell_type": "code",
   "execution_count": 121,
   "metadata": {},
   "outputs": [
    {
     "data": {
      "text/plain": [
       "'c:\\\\Users\\\\ChristopheBRICHET\\\\OneDrive - OLAQIN\\\\Python\\\\depot'"
      ]
     },
     "execution_count": 121,
     "metadata": {},
     "output_type": "execute_result"
    }
   ],
   "source": [
    "%pwd"
   ]
  },
  {
   "cell_type": "code",
   "execution_count": 66,
   "metadata": {},
   "outputs": [],
   "source": [
    "import joblib\n",
    "import pandas as pd\n",
    "#pd.options.plotting.backend = 'hvplot'\n",
    "import numpy as np\n",
    "import warnings\n",
    "warnings.filterwarnings('ignore')\n",
    "import nltk\n",
    "import re\n",
    "import pandas as pd\n",
    "from sklearn.feature_extraction.text import TfidfVectorizer\n",
    "from sklearn.model_selection import train_test_split\n",
    "from sklearn.ensemble import RandomForestClassifier\n",
    "from sklearn.metrics import classification_report, accuracy_score\n",
    "from nltk.tokenize import word_tokenize\n",
    "from nltk.corpus import stopwords\n",
    "from collections import Counter\n",
    "\n",
    "clf = joblib.load('Entrainement_modele\\\\random_forest_model.pkl')\n",
    "tfidf = joblib.load('Entrainement_modele\\\\tfidf_vectorizer.pkl')\n",
    "\n",
    "clf_v2 = joblib.load('Entrainement_modele\\\\random_forest_model_v2.pkl')\n",
    "tfidf_v2 = joblib.load('Entrainement_modele\\\\tfidf_vectorizer_v2.pkl')\n",
    "\n",
    "stop_words = stopwords.words('french')\n",
    "\n",
    "def nombre_de_mots(description):\n",
    "    if pd.isna(description):  # Vérifier si la description est NaN\n",
    "        return 0  # Retourner 0 mots pour les NaN\n",
    "    return len(description.split())\n",
    "\n",
    "#Filtrer le DataFrame\n",
    "df_filtre_chat = df[\n",
    "    (df['Pipeline'].isin(['SSIA', 'SSI'])) &  # Filtrer sur Pipeline\n",
    "    (df['Catégorie'].notna()) &              # Garder les lignes où Catégorie est non nulle\n",
    "    (df['Description du ticket'].apply(nombre_de_mots) > 3) &\n",
    "    ( df['Source'] == 'Chat') # Vérifier que la description a plus de 3 mots\n",
    "    ]\n",
    "\n",
    "df_filtre_formulaire = df[\n",
    "    (df['Pipeline'].isin(['SPSA'])) &  # Filtrer sur Pipeline\n",
    "    (df['Catégorie'].notna()) &              # Garder les lignes où Catégorie est non nulle\n",
    "    (df['Description du ticket'].apply(nombre_de_mots) > 3) &\n",
    "    ( df['Formulaire SPSA'] == 'C2 - Assistance niveau 2') # Vérifier que la description a plus de 3 mots\n",
    "    ]\n",
    "\n",
    "df_filtre = pd.concat([df_filtre_chat, df_filtre_formulaire])\n",
    "\n",
    "def nettoyer_texte(texte):\n",
    "    texte = texte.lower()  # Mettre en minuscule\n",
    "    texte = re.sub(r'\\W+', ' ', texte)  # Enlever la ponctuation\n",
    "    mots = word_tokenize(texte)  # Tokenizer le texte\n",
    "    mots = [mot for mot in mots if mot not in stop_words]  # Retirer les stopwords\n",
    "    return mots\n",
    "\n",
    "df_filtre['Description du ticket'] = df_filtre['Description du ticket'].fillna(\"\")\n",
    "df_filtre['Description du ticket'] = df_filtre['Description du ticket'].str.replace('_x000d_,', ' ', regex=True)\n",
    "\n",
    "# Ajouter une colonne \"Mots\" avec les mots tokenisés\n",
    "df_filtre['Mots'] = df_filtre['Description du ticket'].apply(nettoyer_texte)\n",
    "\n"
   ]
  },
  {
   "cell_type": "code",
   "execution_count": 67,
   "metadata": {},
   "outputs": [
    {
     "name": "stdout",
     "output_type": "stream",
     "text": [
      "                                  Description du ticket  \\\n",
      "50    En tant que collaboratrice, comment faire avec...   \n",
      "51    le lecteur ne fonctionne plus. Il a perdu un c...   \n",
      "65    Je n'arrive pas à faire passer les mutuelles e...   \n",
      "102   Bonjour depuis début septembre je n'arrive pas...   \n",
      "103   J'ai 2 collaboratrice, je peux voir le profil ...   \n",
      "...                                                 ...   \n",
      "6373  Bonjour, _x000D_\\n_x000D_\\nVoici un retour du ...   \n",
      "6376  Bonjour_x000D_\\n_x000D_\\nJe rencontre toujours...   \n",
      "6380  Bonjour,_x000D_\\n_x000D_\\nLors de la connexion...   \n",
      "6383  Bonjour_x000D_\\n_x000D_\\nje suis sous windows ...   \n",
      "6385  Bonjour,_x000D_\\n_x000D_\\nPouvez vous renuméro...   \n",
      "\n",
      "               Catégorie prédite  \n",
      "50    Remplacant / Collaborateur  \n",
      "51                       Lecteur  \n",
      "65               Fonctionnalités  \n",
      "102              Fonctionnalités  \n",
      "103   Remplacant / Collaborateur  \n",
      "...                          ...  \n",
      "6373                          NC  \n",
      "6376                          NC  \n",
      "6380  Remplacant / Collaborateur  \n",
      "6383                          NC  \n",
      "6385                          NC  \n",
      "\n",
      "[1847 rows x 2 columns]\n"
     ]
    }
   ],
   "source": [
    "# Transformer les nouvelles descriptions en vecteurs TF-IDF\n",
    "X_nouveau = tfidf.transform(df_filtre['Description du ticket'])\n",
    "\n",
    "# Définir un seuil minimal de confiance pour accepter la prédiction\n",
    "seuil_confiance = 0.30  # Seuil de 30%\n",
    "\n",
    "# Obtenir les probabilités de chaque classe\n",
    "probas = clf.predict_proba(X_nouveau)\n",
    "\n",
    "# Obtenir les classes associées au modèle\n",
    "classes = clf.classes_\n",
    "\n",
    "# Trouver la classe prédite et sa probabilité\n",
    "predictions = []\n",
    "for i, prob in enumerate(probas):\n",
    "    max_proba = np.max(prob)  # Probabilité maximale prédite pour cet échantillon\n",
    "    predicted_class = classes[np.argmax(prob)]  # Classe associée à la probabilité max\n",
    "    \n",
    "    # Si la probabilité est inférieure au seuil, on classe en \"NC\"\n",
    "    if max_proba < seuil_confiance:\n",
    "        predictions.append(\"NC\")\n",
    "    else:\n",
    "        predictions.append(predicted_class)\n",
    "\n",
    "# Ajouter les prédictions corrigées au DataFrame\n",
    "df_filtre['Catégorie prédite'] = predictions\n",
    "\n",
    "# Afficher les résultats\n",
    "print(df_filtre[['Description du ticket', 'Catégorie prédite']])"
   ]
  },
  {
   "cell_type": "code",
   "execution_count": 69,
   "metadata": {},
   "outputs": [
    {
     "name": "stdout",
     "output_type": "stream",
     "text": [
      "                                  Description du ticket  \\\n",
      "50    En tant que collaboratrice, comment faire avec...   \n",
      "51    le lecteur ne fonctionne plus. Il a perdu un c...   \n",
      "65    Je n'arrive pas à faire passer les mutuelles e...   \n",
      "102   Bonjour depuis début septembre je n'arrive pas...   \n",
      "103   J'ai 2 collaboratrice, je peux voir le profil ...   \n",
      "...                                                 ...   \n",
      "6373  Bonjour, _x000D_\\n_x000D_\\nVoici un retour du ...   \n",
      "6376  Bonjour_x000D_\\n_x000D_\\nJe rencontre toujours...   \n",
      "6380  Bonjour,_x000D_\\n_x000D_\\nLors de la connexion...   \n",
      "6383  Bonjour_x000D_\\n_x000D_\\nje suis sous windows ...   \n",
      "6385  Bonjour,_x000D_\\n_x000D_\\nPouvez vous renuméro...   \n",
      "\n",
      "            Catégorie prédite n2  \n",
      "50    Remplacant / Collaborateur  \n",
      "51                       Lecteur  \n",
      "65               Fonctionnalités  \n",
      "102              Fonctionnalités  \n",
      "103   Remplacant / Collaborateur  \n",
      "...                          ...  \n",
      "6373                          NC  \n",
      "6376                          NC  \n",
      "6380                   Carte CPS  \n",
      "6383                          NC  \n",
      "6385                          CB  \n",
      "\n",
      "[1847 rows x 2 columns]\n"
     ]
    }
   ],
   "source": [
    "# Transformer les nouvelles descriptions en vecteurs TF-IDF\n",
    "X_nouveau_v2 = tfidf_v2.transform(df_filtre['Description du ticket'])\n",
    "\n",
    "# Définir un seuil minimal de confiance pour accepter la prédiction\n",
    "seuil_confiance = 0.30  # Seuil de 30%\n",
    "\n",
    "# Obtenir les probabilités de chaque classe\n",
    "probas = clf_v2.predict_proba(X_nouveau_v2)\n",
    "\n",
    "# Obtenir les classes associées au modèle\n",
    "classes = clf_v2.classes_\n",
    "\n",
    "# Trouver la classe prédite et sa probabilité\n",
    "predictions = []\n",
    "for i, prob in enumerate(probas):\n",
    "    max_proba = np.max(prob)  # Probabilité maximale prédite pour cet échantillon\n",
    "    predicted_class = classes[np.argmax(prob)]  # Classe associée à la probabilité max\n",
    "    \n",
    "    # Si la probabilité est inférieure au seuil, on classe en \"NC\"\n",
    "    if max_proba < seuil_confiance:\n",
    "        predictions.append(\"NC\")\n",
    "    else:\n",
    "        predictions.append(predicted_class)\n",
    "\n",
    "# Ajouter les prédictions corrigées au DataFrame\n",
    "df_filtre['Catégorie prédite n2'] = predictions\n",
    "\n",
    "# Afficher les résultats\n",
    "print(df_filtre[['Description du ticket', 'Catégorie prédite n2']])"
   ]
  },
  {
   "cell_type": "code",
   "execution_count": 72,
   "metadata": {},
   "outputs": [],
   "source": [
    "df_filtre.groupby(['Catégorie prédite', 'Catégorie prédite n2'])['Ticket ID'].count().to_excel('df_filtre.xlsx')"
   ]
  },
  {
   "cell_type": "code",
   "execution_count": 139,
   "metadata": {},
   "outputs": [],
   "source": [
    "df_filtre[['Ticket ID', 'Description du ticket', 'Catégorie', 'Formulaire SPSA', 'Catégorie prédite']].to_excel('test.xlsx')"
   ]
  },
  {
   "cell_type": "code",
   "execution_count": null,
   "metadata": {},
   "outputs": [],
   "source": []
  },
  {
   "cell_type": "code",
   "execution_count": null,
   "metadata": {},
   "outputs": [],
   "source": []
  },
  {
   "cell_type": "code",
   "execution_count": null,
   "metadata": {},
   "outputs": [],
   "source": []
  },
  {
   "cell_type": "code",
   "execution_count": null,
   "metadata": {},
   "outputs": [],
   "source": []
  },
  {
   "cell_type": "code",
   "execution_count": null,
   "metadata": {},
   "outputs": [],
   "source": []
  },
  {
   "cell_type": "code",
   "execution_count": null,
   "metadata": {},
   "outputs": [],
   "source": []
  },
  {
   "cell_type": "code",
   "execution_count": null,
   "metadata": {},
   "outputs": [],
   "source": []
  },
  {
   "cell_type": "code",
   "execution_count": 96,
   "metadata": {},
   "outputs": [],
   "source": [
    "def nombre_de_mots(description):\n",
    "    if pd.isna(description):  # Vérifier si la description est NaN\n",
    "        return 0  # Retourner 0 mots pour les NaN\n",
    "    return len(description.split())\n",
    "\n",
    "# Filtrer le DataFrame\n",
    "df_filtre = df[\n",
    "    (df['Pipeline'].isin(['SSIA', 'SSI'])) &  # Filtrer sur Pipeline\n",
    "    (df['Catégorie'].notna()) &              # Garder les lignes où Catégorie est non nulle\n",
    "    (df['Description du ticket'].apply(nombre_de_mots) > 3) &\n",
    "    ( df['Source'] == 'Chat') # Vérifier que la description a plus de 3 mots\n",
    "    ]\n",
    "\n",
    "df_filtre = df_filtre[['Ticket ID' ,'Catégorie', 'Description du ticket']]"
   ]
  },
  {
   "cell_type": "code",
   "execution_count": null,
   "metadata": {},
   "outputs": [],
   "source": [
    "\n"
   ]
  },
  {
   "cell_type": "code",
   "execution_count": 98,
   "metadata": {},
   "outputs": [],
   "source": [
    "import nltk\n",
    "import re\n",
    "import pandas as pd\n",
    "from sklearn.feature_extraction.text import TfidfVectorizer\n",
    "from sklearn.model_selection import train_test_split\n",
    "from sklearn.ensemble import RandomForestClassifier\n",
    "from sklearn.metrics import classification_report, accuracy_score\n",
    "from nltk.tokenize import word_tokenize\n",
    "from nltk.corpus import stopwords\n",
    "from collections import Counter\n",
    "\n"
   ]
  },
  {
   "cell_type": "code",
   "execution_count": null,
   "metadata": {},
   "outputs": [],
   "source": []
  },
  {
   "cell_type": "code",
   "execution_count": null,
   "metadata": {},
   "outputs": [],
   "source": [
    "### Régression logistique\n",
    "\n",
    "# Télécharger les ressources nécessaires de nltk\n",
    "nltk.download('all')\n",
    "nltk.download('punkt', download_dir='C:\\\\Users\\\\ChristopheBRICHET\\\\anaconda3\\envs\\\\streamlitenv\\\\Lib\\\\site-packages\\\\nltk')\n",
    "nltk.download('stopwords', download_dir='C:\\\\Users\\\\ChristopheBRICHET\\\\anaconda3\\envs\\\\streamlitenv\\\\Lib\\\\site-packages\\\\nltk')\n",
    "nltk.data.path.append('C:\\\\Users\\\\ChristopheBRICHET\\\\anaconda3\\envs\\\\streamlitenv\\\\Lib\\\\site-packages\\\\nltk')\n"
   ]
  },
  {
   "cell_type": "code",
   "execution_count": null,
   "metadata": {},
   "outputs": [
    {
     "name": "stderr",
     "output_type": "stream",
     "text": [
      "[nltk_data] Downloading collection 'all'\n",
      "[nltk_data]    | \n",
      "[nltk_data]    | Downloading package abc to C:\\Users\\ChristopheBRICHET\n",
      "[nltk_data]    |     \\AppData\\Roaming\\nltk_data...\n",
      "[nltk_data]    |   Package abc is already up-to-date!\n",
      "[nltk_data]    | Downloading package alpino to C:\\Users\\ChristopheBRIC\n",
      "[nltk_data]    |     HET\\AppData\\Roaming\\nltk_data...\n",
      "[nltk_data]    |   Package alpino is already up-to-date!\n",
      "[nltk_data]    | Downloading package averaged_perceptron_tagger to C:\\\n",
      "[nltk_data]    |     Users\\ChristopheBRICHET\\AppData\\Roaming\\nltk_data\n",
      "[nltk_data]    |     ...\n",
      "[nltk_data]    |   Package averaged_perceptron_tagger is already up-\n",
      "[nltk_data]    |       to-date!\n",
      "[nltk_data]    | Downloading package averaged_perceptron_tagger_eng to\n",
      "[nltk_data]    |     C:\\Users\\ChristopheBRICHET\\AppData\\Roaming\\nltk_d\n",
      "[nltk_data]    |     ata...\n",
      "[nltk_data]    |   Package averaged_perceptron_tagger_eng is already\n",
      "[nltk_data]    |       up-to-date!\n",
      "[nltk_data]    | Downloading package averaged_perceptron_tagger_ru to \n",
      "[nltk_data]    |     C:\\Users\\ChristopheBRICHET\\AppData\\Roaming\\nltk_d\n",
      "[nltk_data]    |     ata...\n",
      "[nltk_data]    |   Package averaged_perceptron_tagger_ru is already\n",
      "[nltk_data]    |       up-to-date!\n",
      "[nltk_data]    | Downloading package averaged_perceptron_tagger_rus to\n",
      "[nltk_data]    |     C:\\Users\\ChristopheBRICHET\\AppData\\Roaming\\nltk_d\n",
      "[nltk_data]    |     ata...\n",
      "[nltk_data]    |   Package averaged_perceptron_tagger_rus is already\n",
      "[nltk_data]    |       up-to-date!\n",
      "[nltk_data]    | Downloading package basque_grammars to C:\\Users\\Chris\n",
      "[nltk_data]    |     topheBRICHET\\AppData\\Roaming\\nltk_data...\n",
      "[nltk_data]    |   Package basque_grammars is already up-to-date!\n",
      "[nltk_data]    | Downloading package bcp47 to C:\\Users\\ChristopheBRICH\n",
      "[nltk_data]    |     ET\\AppData\\Roaming\\nltk_data...\n",
      "[nltk_data]    |   Package bcp47 is already up-to-date!\n",
      "[nltk_data]    | Downloading package biocreative_ppi to C:\\Users\\Chris\n",
      "[nltk_data]    |     topheBRICHET\\AppData\\Roaming\\nltk_data...\n",
      "[nltk_data]    |   Package biocreative_ppi is already up-to-date!\n",
      "[nltk_data]    | Downloading package bllip_wsj_no_aux to C:\\Users\\Chri\n",
      "[nltk_data]    |     stopheBRICHET\\AppData\\Roaming\\nltk_data...\n",
      "[nltk_data]    |   Package bllip_wsj_no_aux is already up-to-date!\n",
      "[nltk_data]    | Downloading package book_grammars to C:\\Users\\Christo\n",
      "[nltk_data]    |     pheBRICHET\\AppData\\Roaming\\nltk_data...\n",
      "[nltk_data]    |   Package book_grammars is already up-to-date!\n",
      "[nltk_data]    | Downloading package brown to C:\\Users\\ChristopheBRICH\n",
      "[nltk_data]    |     ET\\AppData\\Roaming\\nltk_data...\n",
      "[nltk_data]    |   Package brown is already up-to-date!\n",
      "[nltk_data]    | Downloading package brown_tei to C:\\Users\\ChristopheB\n",
      "[nltk_data]    |     RICHET\\AppData\\Roaming\\nltk_data...\n",
      "[nltk_data]    |   Package brown_tei is already up-to-date!\n",
      "[nltk_data]    | Downloading package cess_cat to C:\\Users\\ChristopheBR\n",
      "[nltk_data]    |     ICHET\\AppData\\Roaming\\nltk_data...\n",
      "[nltk_data]    |   Package cess_cat is already up-to-date!\n",
      "[nltk_data]    | Downloading package cess_esp to C:\\Users\\ChristopheBR\n",
      "[nltk_data]    |     ICHET\\AppData\\Roaming\\nltk_data...\n",
      "[nltk_data]    |   Package cess_esp is already up-to-date!\n",
      "[nltk_data]    | Downloading package chat80 to C:\\Users\\ChristopheBRIC\n",
      "[nltk_data]    |     HET\\AppData\\Roaming\\nltk_data...\n",
      "[nltk_data]    |   Package chat80 is already up-to-date!\n",
      "[nltk_data]    | Downloading package city_database to C:\\Users\\Christo\n",
      "[nltk_data]    |     pheBRICHET\\AppData\\Roaming\\nltk_data...\n",
      "[nltk_data]    |   Package city_database is already up-to-date!\n",
      "[nltk_data]    | Downloading package cmudict to C:\\Users\\ChristopheBRI\n",
      "[nltk_data]    |     CHET\\AppData\\Roaming\\nltk_data...\n",
      "[nltk_data]    |   Package cmudict is already up-to-date!\n",
      "[nltk_data]    | Downloading package comparative_sentences to C:\\Users\n",
      "[nltk_data]    |     \\ChristopheBRICHET\\AppData\\Roaming\\nltk_data...\n",
      "[nltk_data]    |   Package comparative_sentences is already up-to-\n",
      "[nltk_data]    |       date!\n",
      "[nltk_data]    | Downloading package comtrans to C:\\Users\\ChristopheBR\n",
      "[nltk_data]    |     ICHET\\AppData\\Roaming\\nltk_data...\n",
      "[nltk_data]    |   Package comtrans is already up-to-date!\n",
      "[nltk_data]    | Downloading package conll2000 to C:\\Users\\ChristopheB\n",
      "[nltk_data]    |     RICHET\\AppData\\Roaming\\nltk_data...\n",
      "[nltk_data]    |   Package conll2000 is already up-to-date!\n",
      "[nltk_data]    | Downloading package conll2002 to C:\\Users\\ChristopheB\n",
      "[nltk_data]    |     RICHET\\AppData\\Roaming\\nltk_data...\n",
      "[nltk_data]    |   Package conll2002 is already up-to-date!\n",
      "[nltk_data]    | Downloading package conll2007 to C:\\Users\\ChristopheB\n",
      "[nltk_data]    |     RICHET\\AppData\\Roaming\\nltk_data...\n",
      "[nltk_data]    |   Package conll2007 is already up-to-date!\n",
      "[nltk_data]    | Downloading package crubadan to C:\\Users\\ChristopheBR\n",
      "[nltk_data]    |     ICHET\\AppData\\Roaming\\nltk_data...\n",
      "[nltk_data]    |   Package crubadan is already up-to-date!\n",
      "[nltk_data]    | Downloading package dependency_treebank to C:\\Users\\C\n",
      "[nltk_data]    |     hristopheBRICHET\\AppData\\Roaming\\nltk_data...\n",
      "[nltk_data]    |   Package dependency_treebank is already up-to-date!\n",
      "[nltk_data]    | Downloading package dolch to C:\\Users\\ChristopheBRICH\n",
      "[nltk_data]    |     ET\\AppData\\Roaming\\nltk_data...\n",
      "[nltk_data]    |   Package dolch is already up-to-date!\n",
      "[nltk_data]    | Downloading package europarl_raw to C:\\Users\\Christop\n",
      "[nltk_data]    |     heBRICHET\\AppData\\Roaming\\nltk_data...\n",
      "[nltk_data]    |   Package europarl_raw is already up-to-date!\n",
      "[nltk_data]    | Downloading package extended_omw to C:\\Users\\Christop\n",
      "[nltk_data]    |     heBRICHET\\AppData\\Roaming\\nltk_data...\n",
      "[nltk_data]    |   Package extended_omw is already up-to-date!\n",
      "[nltk_data]    | Downloading package floresta to C:\\Users\\ChristopheBR\n",
      "[nltk_data]    |     ICHET\\AppData\\Roaming\\nltk_data...\n",
      "[nltk_data]    |   Package floresta is already up-to-date!\n",
      "[nltk_data]    | Downloading package framenet_v15 to C:\\Users\\Christop\n",
      "[nltk_data]    |     heBRICHET\\AppData\\Roaming\\nltk_data...\n",
      "[nltk_data]    |   Package framenet_v15 is already up-to-date!\n",
      "[nltk_data]    | Downloading package framenet_v17 to C:\\Users\\Christop\n",
      "[nltk_data]    |     heBRICHET\\AppData\\Roaming\\nltk_data...\n",
      "[nltk_data]    |   Package framenet_v17 is already up-to-date!\n",
      "[nltk_data]    | Downloading package gazetteers to C:\\Users\\Christophe\n",
      "[nltk_data]    |     BRICHET\\AppData\\Roaming\\nltk_data...\n",
      "[nltk_data]    |   Package gazetteers is already up-to-date!\n",
      "[nltk_data]    | Downloading package genesis to C:\\Users\\ChristopheBRI\n",
      "[nltk_data]    |     CHET\\AppData\\Roaming\\nltk_data...\n",
      "[nltk_data]    |   Package genesis is already up-to-date!\n",
      "[nltk_data]    | Downloading package gutenberg to C:\\Users\\ChristopheB\n",
      "[nltk_data]    |     RICHET\\AppData\\Roaming\\nltk_data...\n",
      "[nltk_data]    |   Package gutenberg is already up-to-date!\n",
      "[nltk_data]    | Downloading package ieer to C:\\Users\\ChristopheBRICHE\n",
      "[nltk_data]    |     T\\AppData\\Roaming\\nltk_data...\n",
      "[nltk_data]    |   Package ieer is already up-to-date!\n",
      "[nltk_data]    | Downloading package inaugural to C:\\Users\\ChristopheB\n",
      "[nltk_data]    |     RICHET\\AppData\\Roaming\\nltk_data...\n",
      "[nltk_data]    |   Package inaugural is already up-to-date!\n",
      "[nltk_data]    | Downloading package indian to C:\\Users\\ChristopheBRIC\n",
      "[nltk_data]    |     HET\\AppData\\Roaming\\nltk_data...\n",
      "[nltk_data]    |   Package indian is already up-to-date!\n",
      "[nltk_data]    | Downloading package jeita to C:\\Users\\ChristopheBRICH\n",
      "[nltk_data]    |     ET\\AppData\\Roaming\\nltk_data...\n",
      "[nltk_data]    |   Package jeita is already up-to-date!\n",
      "[nltk_data]    | Downloading package kimmo to C:\\Users\\ChristopheBRICH\n",
      "[nltk_data]    |     ET\\AppData\\Roaming\\nltk_data...\n",
      "[nltk_data]    |   Package kimmo is already up-to-date!\n",
      "[nltk_data]    | Downloading package knbc to C:\\Users\\ChristopheBRICHE\n",
      "[nltk_data]    |     T\\AppData\\Roaming\\nltk_data...\n",
      "[nltk_data]    |   Package knbc is already up-to-date!\n",
      "[nltk_data]    | Downloading package large_grammars to C:\\Users\\Christ\n",
      "[nltk_data]    |     opheBRICHET\\AppData\\Roaming\\nltk_data...\n",
      "[nltk_data]    |   Package large_grammars is already up-to-date!\n",
      "[nltk_data]    | Downloading package lin_thesaurus to C:\\Users\\Christo\n",
      "[nltk_data]    |     pheBRICHET\\AppData\\Roaming\\nltk_data...\n",
      "[nltk_data]    |   Package lin_thesaurus is already up-to-date!\n",
      "[nltk_data]    | Downloading package mac_morpho to C:\\Users\\Christophe\n",
      "[nltk_data]    |     BRICHET\\AppData\\Roaming\\nltk_data...\n",
      "[nltk_data]    |   Package mac_morpho is already up-to-date!\n",
      "[nltk_data]    | Downloading package machado to C:\\Users\\ChristopheBRI\n",
      "[nltk_data]    |     CHET\\AppData\\Roaming\\nltk_data...\n",
      "[nltk_data]    |   Package machado is already up-to-date!\n",
      "[nltk_data]    | Downloading package masc_tagged to C:\\Users\\Christoph\n",
      "[nltk_data]    |     eBRICHET\\AppData\\Roaming\\nltk_data...\n",
      "[nltk_data]    |   Package masc_tagged is already up-to-date!\n",
      "[nltk_data]    | Downloading package maxent_ne_chunker to C:\\Users\\Chr\n",
      "[nltk_data]    |     istopheBRICHET\\AppData\\Roaming\\nltk_data...\n",
      "[nltk_data]    |   Package maxent_ne_chunker is already up-to-date!\n",
      "[nltk_data]    | Downloading package maxent_ne_chunker_tab to C:\\Users\n",
      "[nltk_data]    |     \\ChristopheBRICHET\\AppData\\Roaming\\nltk_data...\n",
      "[nltk_data]    |   Package maxent_ne_chunker_tab is already up-to-\n",
      "[nltk_data]    |       date!\n",
      "[nltk_data]    | Downloading package maxent_treebank_pos_tagger to C:\\\n",
      "[nltk_data]    |     Users\\ChristopheBRICHET\\AppData\\Roaming\\nltk_data\n",
      "[nltk_data]    |     ...\n",
      "[nltk_data]    |   Package maxent_treebank_pos_tagger is already up-\n",
      "[nltk_data]    |       to-date!\n",
      "[nltk_data]    | Downloading package maxent_treebank_pos_tagger_tab to\n",
      "[nltk_data]    |     C:\\Users\\ChristopheBRICHET\\AppData\\Roaming\\nltk_d\n",
      "[nltk_data]    |     ata...\n",
      "[nltk_data]    |   Package maxent_treebank_pos_tagger_tab is already\n",
      "[nltk_data]    |       up-to-date!\n",
      "[nltk_data]    | Downloading package moses_sample to C:\\Users\\Christop\n",
      "[nltk_data]    |     heBRICHET\\AppData\\Roaming\\nltk_data...\n",
      "[nltk_data]    |   Package moses_sample is already up-to-date!\n",
      "[nltk_data]    | Downloading package movie_reviews to C:\\Users\\Christo\n",
      "[nltk_data]    |     pheBRICHET\\AppData\\Roaming\\nltk_data...\n",
      "[nltk_data]    |   Package movie_reviews is already up-to-date!\n",
      "[nltk_data]    | Downloading package mte_teip5 to C:\\Users\\ChristopheB\n",
      "[nltk_data]    |     RICHET\\AppData\\Roaming\\nltk_data...\n",
      "[nltk_data]    |   Package mte_teip5 is already up-to-date!\n",
      "[nltk_data]    | Downloading package mwa_ppdb to C:\\Users\\ChristopheBR\n",
      "[nltk_data]    |     ICHET\\AppData\\Roaming\\nltk_data...\n",
      "[nltk_data]    |   Package mwa_ppdb is already up-to-date!\n",
      "[nltk_data]    | Downloading package names to C:\\Users\\ChristopheBRICH\n",
      "[nltk_data]    |     ET\\AppData\\Roaming\\nltk_data...\n",
      "[nltk_data]    |   Package names is already up-to-date!\n",
      "[nltk_data]    | Downloading package nombank.1.0 to C:\\Users\\Christoph\n",
      "[nltk_data]    |     eBRICHET\\AppData\\Roaming\\nltk_data...\n",
      "[nltk_data]    |   Package nombank.1.0 is already up-to-date!\n",
      "[nltk_data]    | Downloading package nonbreaking_prefixes to C:\\Users\\\n",
      "[nltk_data]    |     ChristopheBRICHET\\AppData\\Roaming\\nltk_data...\n",
      "[nltk_data]    |   Package nonbreaking_prefixes is already up-to-date!\n",
      "[nltk_data]    | Downloading package nps_chat to C:\\Users\\ChristopheBR\n",
      "[nltk_data]    |     ICHET\\AppData\\Roaming\\nltk_data...\n",
      "[nltk_data]    |   Package nps_chat is already up-to-date!\n",
      "[nltk_data]    | Downloading package omw to C:\\Users\\ChristopheBRICHET\n",
      "[nltk_data]    |     \\AppData\\Roaming\\nltk_data...\n",
      "[nltk_data]    |   Package omw is already up-to-date!\n",
      "[nltk_data]    | Downloading package omw-1.4 to C:\\Users\\ChristopheBRI\n",
      "[nltk_data]    |     CHET\\AppData\\Roaming\\nltk_data...\n",
      "[nltk_data]    |   Package omw-1.4 is already up-to-date!\n",
      "[nltk_data]    | Downloading package opinion_lexicon to C:\\Users\\Chris\n",
      "[nltk_data]    |     topheBRICHET\\AppData\\Roaming\\nltk_data...\n",
      "[nltk_data]    |   Package opinion_lexicon is already up-to-date!\n",
      "[nltk_data]    | Downloading package panlex_swadesh to C:\\Users\\Christ\n",
      "[nltk_data]    |     opheBRICHET\\AppData\\Roaming\\nltk_data...\n",
      "[nltk_data]    |   Package panlex_swadesh is already up-to-date!\n",
      "[nltk_data]    | Downloading package paradigms to C:\\Users\\ChristopheB\n",
      "[nltk_data]    |     RICHET\\AppData\\Roaming\\nltk_data...\n",
      "[nltk_data]    |   Package paradigms is already up-to-date!\n",
      "[nltk_data]    | Downloading package pe08 to C:\\Users\\ChristopheBRICHE\n",
      "[nltk_data]    |     T\\AppData\\Roaming\\nltk_data...\n",
      "[nltk_data]    |   Package pe08 is already up-to-date!\n",
      "[nltk_data]    | Downloading package perluniprops to C:\\Users\\Christop\n",
      "[nltk_data]    |     heBRICHET\\AppData\\Roaming\\nltk_data...\n",
      "[nltk_data]    |   Package perluniprops is already up-to-date!\n",
      "[nltk_data]    | Downloading package pil to C:\\Users\\ChristopheBRICHET\n",
      "[nltk_data]    |     \\AppData\\Roaming\\nltk_data...\n",
      "[nltk_data]    |   Package pil is already up-to-date!\n",
      "[nltk_data]    | Downloading package pl196x to C:\\Users\\ChristopheBRIC\n",
      "[nltk_data]    |     HET\\AppData\\Roaming\\nltk_data...\n",
      "[nltk_data]    |   Package pl196x is already up-to-date!\n",
      "[nltk_data]    | Downloading package porter_test to C:\\Users\\Christoph\n",
      "[nltk_data]    |     eBRICHET\\AppData\\Roaming\\nltk_data...\n",
      "[nltk_data]    |   Package porter_test is already up-to-date!\n",
      "[nltk_data]    | Downloading package ppattach to C:\\Users\\ChristopheBR\n",
      "[nltk_data]    |     ICHET\\AppData\\Roaming\\nltk_data...\n",
      "[nltk_data]    |   Package ppattach is already up-to-date!\n",
      "[nltk_data]    | Downloading package problem_reports to C:\\Users\\Chris\n",
      "[nltk_data]    |     topheBRICHET\\AppData\\Roaming\\nltk_data...\n",
      "[nltk_data]    |   Package problem_reports is already up-to-date!\n",
      "[nltk_data]    | Downloading package product_reviews_1 to C:\\Users\\Chr\n",
      "[nltk_data]    |     istopheBRICHET\\AppData\\Roaming\\nltk_data...\n",
      "[nltk_data]    |   Package product_reviews_1 is already up-to-date!\n",
      "[nltk_data]    | Downloading package product_reviews_2 to C:\\Users\\Chr\n",
      "[nltk_data]    |     istopheBRICHET\\AppData\\Roaming\\nltk_data...\n",
      "[nltk_data]    |   Package product_reviews_2 is already up-to-date!\n",
      "[nltk_data]    | Downloading package propbank to C:\\Users\\ChristopheBR\n",
      "[nltk_data]    |     ICHET\\AppData\\Roaming\\nltk_data...\n",
      "[nltk_data]    |   Package propbank is already up-to-date!\n",
      "[nltk_data]    | Downloading package pros_cons to C:\\Users\\ChristopheB\n",
      "[nltk_data]    |     RICHET\\AppData\\Roaming\\nltk_data...\n",
      "[nltk_data]    |   Package pros_cons is already up-to-date!\n",
      "[nltk_data]    | Downloading package ptb to C:\\Users\\ChristopheBRICHET\n",
      "[nltk_data]    |     \\AppData\\Roaming\\nltk_data...\n",
      "[nltk_data]    |   Package ptb is already up-to-date!\n",
      "[nltk_data]    | Downloading package punkt to C:\\Users\\ChristopheBRICH\n",
      "[nltk_data]    |     ET\\AppData\\Roaming\\nltk_data...\n",
      "[nltk_data]    |   Package punkt is already up-to-date!\n",
      "[nltk_data]    | Downloading package punkt_tab to C:\\Users\\ChristopheB\n",
      "[nltk_data]    |     RICHET\\AppData\\Roaming\\nltk_data...\n",
      "[nltk_data]    |   Package punkt_tab is already up-to-date!\n",
      "[nltk_data]    | Downloading package qc to C:\\Users\\ChristopheBRICHET\\\n",
      "[nltk_data]    |     AppData\\Roaming\\nltk_data...\n",
      "[nltk_data]    |   Package qc is already up-to-date!\n",
      "[nltk_data]    | Downloading package reuters to C:\\Users\\ChristopheBRI\n",
      "[nltk_data]    |     CHET\\AppData\\Roaming\\nltk_data...\n",
      "[nltk_data]    |   Package reuters is already up-to-date!\n",
      "[nltk_data]    | Downloading package rslp to C:\\Users\\ChristopheBRICHE\n",
      "[nltk_data]    |     T\\AppData\\Roaming\\nltk_data...\n",
      "[nltk_data]    |   Package rslp is already up-to-date!\n",
      "[nltk_data]    | Downloading package rte to C:\\Users\\ChristopheBRICHET\n",
      "[nltk_data]    |     \\AppData\\Roaming\\nltk_data...\n",
      "[nltk_data]    |   Package rte is already up-to-date!\n",
      "[nltk_data]    | Downloading package sample_grammars to C:\\Users\\Chris\n",
      "[nltk_data]    |     topheBRICHET\\AppData\\Roaming\\nltk_data...\n",
      "[nltk_data]    |   Package sample_grammars is already up-to-date!\n",
      "[nltk_data]    | Downloading package semcor to C:\\Users\\ChristopheBRIC\n",
      "[nltk_data]    |     HET\\AppData\\Roaming\\nltk_data...\n",
      "[nltk_data]    |   Package semcor is already up-to-date!\n",
      "[nltk_data]    | Downloading package senseval to C:\\Users\\ChristopheBR\n",
      "[nltk_data]    |     ICHET\\AppData\\Roaming\\nltk_data...\n",
      "[nltk_data]    |   Package senseval is already up-to-date!\n",
      "[nltk_data]    | Downloading package sentence_polarity to C:\\Users\\Chr\n",
      "[nltk_data]    |     istopheBRICHET\\AppData\\Roaming\\nltk_data...\n",
      "[nltk_data]    |   Package sentence_polarity is already up-to-date!\n",
      "[nltk_data]    | Downloading package sentiwordnet to C:\\Users\\Christop\n",
      "[nltk_data]    |     heBRICHET\\AppData\\Roaming\\nltk_data...\n",
      "[nltk_data]    |   Package sentiwordnet is already up-to-date!\n",
      "[nltk_data]    | Downloading package shakespeare to C:\\Users\\Christoph\n",
      "[nltk_data]    |     eBRICHET\\AppData\\Roaming\\nltk_data...\n",
      "[nltk_data]    |   Package shakespeare is already up-to-date!\n",
      "[nltk_data]    | Downloading package sinica_treebank to C:\\Users\\Chris\n",
      "[nltk_data]    |     topheBRICHET\\AppData\\Roaming\\nltk_data...\n",
      "[nltk_data]    |   Package sinica_treebank is already up-to-date!\n",
      "[nltk_data]    | Downloading package smultron to C:\\Users\\ChristopheBR\n",
      "[nltk_data]    |     ICHET\\AppData\\Roaming\\nltk_data...\n",
      "[nltk_data]    |   Package smultron is already up-to-date!\n",
      "[nltk_data]    | Downloading package snowball_data to C:\\Users\\Christo\n",
      "[nltk_data]    |     pheBRICHET\\AppData\\Roaming\\nltk_data...\n",
      "[nltk_data]    |   Package snowball_data is already up-to-date!\n",
      "[nltk_data]    | Downloading package spanish_grammars to C:\\Users\\Chri\n",
      "[nltk_data]    |     stopheBRICHET\\AppData\\Roaming\\nltk_data...\n",
      "[nltk_data]    |   Package spanish_grammars is already up-to-date!\n",
      "[nltk_data]    | Downloading package state_union to C:\\Users\\Christoph\n",
      "[nltk_data]    |     eBRICHET\\AppData\\Roaming\\nltk_data...\n",
      "[nltk_data]    |   Package state_union is already up-to-date!\n",
      "[nltk_data]    | Downloading package stopwords to C:\\Users\\ChristopheB\n",
      "[nltk_data]    |     RICHET\\AppData\\Roaming\\nltk_data...\n",
      "[nltk_data]    |   Package stopwords is already up-to-date!\n",
      "[nltk_data]    | Downloading package subjectivity to C:\\Users\\Christop\n",
      "[nltk_data]    |     heBRICHET\\AppData\\Roaming\\nltk_data...\n",
      "[nltk_data]    |   Package subjectivity is already up-to-date!\n",
      "[nltk_data]    | Downloading package swadesh to C:\\Users\\ChristopheBRI\n",
      "[nltk_data]    |     CHET\\AppData\\Roaming\\nltk_data...\n",
      "[nltk_data]    |   Package swadesh is already up-to-date!\n",
      "[nltk_data]    | Downloading package switchboard to C:\\Users\\Christoph\n",
      "[nltk_data]    |     eBRICHET\\AppData\\Roaming\\nltk_data...\n",
      "[nltk_data]    |   Package switchboard is already up-to-date!\n",
      "[nltk_data]    | Downloading package tagsets to C:\\Users\\ChristopheBRI\n",
      "[nltk_data]    |     CHET\\AppData\\Roaming\\nltk_data...\n",
      "[nltk_data]    |   Package tagsets is already up-to-date!\n",
      "[nltk_data]    | Downloading package tagsets_json to C:\\Users\\Christop\n",
      "[nltk_data]    |     heBRICHET\\AppData\\Roaming\\nltk_data...\n",
      "[nltk_data]    |   Package tagsets_json is already up-to-date!\n",
      "[nltk_data]    | Downloading package timit to C:\\Users\\ChristopheBRICH\n",
      "[nltk_data]    |     ET\\AppData\\Roaming\\nltk_data...\n",
      "[nltk_data]    |   Package timit is already up-to-date!\n",
      "[nltk_data]    | Downloading package toolbox to C:\\Users\\ChristopheBRI\n",
      "[nltk_data]    |     CHET\\AppData\\Roaming\\nltk_data...\n",
      "[nltk_data]    |   Package toolbox is already up-to-date!\n",
      "[nltk_data]    | Downloading package treebank to C:\\Users\\ChristopheBR\n",
      "[nltk_data]    |     ICHET\\AppData\\Roaming\\nltk_data...\n",
      "[nltk_data]    |   Package treebank is already up-to-date!\n",
      "[nltk_data]    | Downloading package twitter_samples to C:\\Users\\Chris\n",
      "[nltk_data]    |     topheBRICHET\\AppData\\Roaming\\nltk_data...\n",
      "[nltk_data]    |   Package twitter_samples is already up-to-date!\n",
      "[nltk_data]    | Downloading package udhr to C:\\Users\\ChristopheBRICHE\n",
      "[nltk_data]    |     T\\AppData\\Roaming\\nltk_data...\n",
      "[nltk_data]    |   Package udhr is already up-to-date!\n",
      "[nltk_data]    | Downloading package udhr2 to C:\\Users\\ChristopheBRICH\n",
      "[nltk_data]    |     ET\\AppData\\Roaming\\nltk_data...\n",
      "[nltk_data]    |   Package udhr2 is already up-to-date!\n",
      "[nltk_data]    | Downloading package unicode_samples to C:\\Users\\Chris\n",
      "[nltk_data]    |     topheBRICHET\\AppData\\Roaming\\nltk_data...\n",
      "[nltk_data]    |   Package unicode_samples is already up-to-date!\n",
      "[nltk_data]    | Downloading package universal_tagset to C:\\Users\\Chri\n",
      "[nltk_data]    |     stopheBRICHET\\AppData\\Roaming\\nltk_data...\n",
      "[nltk_data]    |   Package universal_tagset is already up-to-date!\n",
      "[nltk_data]    | Downloading package universal_treebanks_v20 to C:\\Use\n",
      "[nltk_data]    |     rs\\ChristopheBRICHET\\AppData\\Roaming\\nltk_data...\n",
      "[nltk_data]    |   Package universal_treebanks_v20 is already up-to-\n",
      "[nltk_data]    |       date!\n",
      "[nltk_data]    | Downloading package vader_lexicon to C:\\Users\\Christo\n",
      "[nltk_data]    |     pheBRICHET\\AppData\\Roaming\\nltk_data...\n",
      "[nltk_data]    |   Package vader_lexicon is already up-to-date!\n",
      "[nltk_data]    | Downloading package verbnet to C:\\Users\\ChristopheBRI\n",
      "[nltk_data]    |     CHET\\AppData\\Roaming\\nltk_data...\n",
      "[nltk_data]    |   Package verbnet is already up-to-date!\n",
      "[nltk_data]    | Downloading package verbnet3 to C:\\Users\\ChristopheBR\n",
      "[nltk_data]    |     ICHET\\AppData\\Roaming\\nltk_data...\n",
      "[nltk_data]    |   Package verbnet3 is already up-to-date!\n",
      "[nltk_data]    | Downloading package webtext to C:\\Users\\ChristopheBRI\n",
      "[nltk_data]    |     CHET\\AppData\\Roaming\\nltk_data...\n",
      "[nltk_data]    |   Package webtext is already up-to-date!\n",
      "[nltk_data]    | Downloading package wmt15_eval to C:\\Users\\Christophe\n",
      "[nltk_data]    |     BRICHET\\AppData\\Roaming\\nltk_data...\n",
      "[nltk_data]    |   Package wmt15_eval is already up-to-date!\n",
      "[nltk_data]    | Downloading package word2vec_sample to C:\\Users\\Chris\n",
      "[nltk_data]    |     topheBRICHET\\AppData\\Roaming\\nltk_data...\n",
      "[nltk_data]    |   Package word2vec_sample is already up-to-date!\n",
      "[nltk_data]    | Downloading package wordnet to C:\\Users\\ChristopheBRI\n",
      "[nltk_data]    |     CHET\\AppData\\Roaming\\nltk_data...\n",
      "[nltk_data]    |   Package wordnet is already up-to-date!\n",
      "[nltk_data]    | Downloading package wordnet2021 to C:\\Users\\Christoph\n",
      "[nltk_data]    |     eBRICHET\\AppData\\Roaming\\nltk_data...\n",
      "[nltk_data]    |   Package wordnet2021 is already up-to-date!\n",
      "[nltk_data]    | Downloading package wordnet2022 to C:\\Users\\Christoph\n",
      "[nltk_data]    |     eBRICHET\\AppData\\Roaming\\nltk_data...\n",
      "[nltk_data]    |   Package wordnet2022 is already up-to-date!\n",
      "[nltk_data]    | Downloading package wordnet31 to C:\\Users\\ChristopheB\n",
      "[nltk_data]    |     RICHET\\AppData\\Roaming\\nltk_data...\n",
      "[nltk_data]    |   Package wordnet31 is already up-to-date!\n",
      "[nltk_data]    | Downloading package wordnet_ic to C:\\Users\\Christophe\n",
      "[nltk_data]    |     BRICHET\\AppData\\Roaming\\nltk_data...\n",
      "[nltk_data]    |   Package wordnet_ic is already up-to-date!\n",
      "[nltk_data]    | Downloading package words to C:\\Users\\ChristopheBRICH\n",
      "[nltk_data]    |     ET\\AppData\\Roaming\\nltk_data...\n",
      "[nltk_data]    |   Package words is already up-to-date!\n",
      "[nltk_data]    | Downloading package ycoe to C:\\Users\\ChristopheBRICHE\n",
      "[nltk_data]    |     T\\AppData\\Roaming\\nltk_data...\n",
      "[nltk_data]    |   Package ycoe is already up-to-date!\n",
      "[nltk_data]    | \n",
      "[nltk_data]  Done downloading collection all\n",
      "[nltk_data] Downloading package punkt to C:\\Users\\ChristopheBRICHET\\an\n",
      "[nltk_data]     aconda3\\envs\\streamlitenv\\Lib\\site-packages\\nltk...\n",
      "[nltk_data]   Package punkt is already up-to-date!\n",
      "[nltk_data] Downloading package stopwords to C:\\Users\\ChristopheBRICHE\n",
      "[nltk_data]     T\\anaconda3\\envs\\streamlitenv\\Lib\\site-\n",
      "[nltk_data]     packages\\nltk...\n",
      "[nltk_data]   Package stopwords is already up-to-date!\n",
      "[nltk_data] Downloading package punkt to\n",
      "[nltk_data]     C:\\Users\\ChristopheBRICHET\\AppData\\Roaming\\nltk_data..\n",
      "[nltk_data]     .\n",
      "[nltk_data]   Package punkt is already up-to-date!\n",
      "[nltk_data] Downloading package stopwords to\n",
      "[nltk_data]     C:\\Users\\ChristopheBRICHET\\AppData\\Roaming\\nltk_data..\n",
      "[nltk_data]     .\n",
      "[nltk_data]   Package stopwords is already up-to-date!\n"
     ]
    }
   ],
   "source": [
    "\n",
    "\n",
    "\n",
    "nltk.download('punkt')\n",
    "nltk.download('stopwords')\n",
    "\n",
    "# Charger les stopwords français\n",
    "stop_words = stopwords.words('french')\n",
    "\n",
    "# Liste des stopwords en français\n",
    "#stop_words = set(stopwords.words('french'))\n",
    "\n",
    "# Fonction de nettoyage des descriptions\n",
    "def nettoyer_texte(texte):\n",
    "    texte = texte.lower()  # Mettre en minuscule\n",
    "    texte = re.sub(r'\\W+', ' ', texte)  # Enlever la ponctuation\n",
    "    mots = word_tokenize(texte)  # Tokenizer le texte\n",
    "    mots = [mot for mot in mots if mot not in stop_words]  # Retirer les stopwords\n",
    "    return mots\n",
    "\n",
    "df_filtre['Description du ticket'] = df_filtre['Description du ticket'].fillna(\"\")\n",
    "df_filtre['Description du ticket'] = df_filtre['Description du ticket'].str.replace('_x000d_,', ' ', regex=True)\n",
    "\n",
    "# Ajouter une colonne \"Mots\" avec les mots tokenisés\n",
    "df_filtre['Mots'] = df_filtre['Description du ticket'].apply(nettoyer_texte)\n",
    "\n",
    "# Regrouper les mots par catégorie\n",
    "grouped_words = df_filtre.groupby('Catégorie')['Mots'].sum()\n",
    "\n",
    "# Fonction pour compter les mots par catégorie\n",
    "def extraire_mots_cles(mots):\n",
    "    compteur = Counter(mots)\n",
    "    return compteur.most_common(10)  # Top 10 mots-clés\n",
    "\n",
    "# Appliquer la fonction aux groupes\n",
    "mots_cles_par_categorie = grouped_words.apply(extraire_mots_cles)\n",
    "\n",
    "# Fonction de nettoyage des descriptions\n",
    "#def nettoyer_texte(texte):\n",
    "#    if pd.isna(texte):  # Gérer les valeurs NaN\n",
    "#        return \"\"\n",
    "#    texte = texte.lower()  # Mettre en minuscule\n",
    "#    texte = re.sub(r'\\W+', ' ', texte)  # Enlever la ponctuation\n",
    "###    mots = word_tokenize(texte, language='french')  # Tokenizer le texte\n",
    "#    mots = [mot for mot in mots if mot not in stop_words_french]  # Retirer les stopwords\n",
    "#    return \" \".join(mots)  # Retourner une chaîne nettoyée\n",
    "#    #return mots\n",
    "\n",
    "# Remplacer les valeurs NaN et nettoyer les descriptions\n",
    "\n",
    "# Préparer les données\n",
    "X = df_filtre['Description du ticket']  # Les descriptions nettoyées (features)\n",
    "y = df_filtre['Catégorie']  # Les catégories (labels)\n",
    "\n",
    "# Transformer les descriptions en vecteurs numériques (TF-IDF)\n",
    "tfidf = TfidfVectorizer(stop_words=stop_words)\n",
    "X_tfidf = tfidf.fit_transform(X)\n",
    "\n",
    "# Diviser les données en ensembles d'entraînement et de test\n",
    "X_train, X_test, y_train, y_test = train_test_split(X_tfidf, y, test_size=0.2, random_state=42)\n",
    "\n",
    "# Entraîner un modèle (Random Forest ici)\n",
    "clf = RandomForestClassifier(random_state=42)\n",
    "clf.fit(X_train, y_train)\n",
    "\n",
    "# Évaluer le modèle\n",
    "y_pred = clf.predict(X_test)\n",
    "#print(\"Accuracy:\", accuracy_score(y_test, y_pred))\n",
    "#print(\"Classification Report:\\n\", classification_report(y_test, y_pred))\n",
    "\n",
    "# Prédire les catégories pour l'ensemble du DataFrame\n",
    "X_test_full = tfidf.transform(df_filtre['Description du ticket'])  # Transformer les descriptions nettoyées\n",
    "df_filtre['Catégorie prédite'] = clf.predict(X_test_full)  # Ajouter les prédictions comme nouvelle colonne\n",
    "\n",
    "# Afficher le DataFrame avec la colonne \"Catégorie prédite\"\n",
    "#print(df_filtre[['Description du ticket', 'Description du ticket clean', 'Catégorie prédite']])\n",
    "\n",
    "# Définir un seuil minimal de confiance pour accepter la prédiction\n",
    "seuil_confiance = 0.30  # Seuil de 30%\n",
    "\n",
    "# Obtenir les probabilités de chaque classe\n",
    "probas = clf.predict_proba(X_nouveau)\n",
    "\n",
    "# Obtenir les classes associées au modèle\n",
    "classes = clf.classes_\n",
    "\n",
    "# Trouver la classe prédite et sa probabilité\n",
    "predictions = []\n",
    "for i, prob in enumerate(probas):\n",
    "    max_proba = np.max(prob)  # Probabilité maximale prédite pour cet échantillon\n",
    "    predicted_class = classes[np.argmax(prob)]  # Classe associée à la probabilité max\n",
    "    \n",
    "    # Si la probabilité est inférieure au seuil, on classe en \"NC\"\n",
    "    if max_proba < seuil_confiance:\n",
    "        predictions.append(\"NC\")\n",
    "    else:\n",
    "        predictions.append(predicted_class)\n",
    "\n",
    "# Ajouter les prédictions corrigées au DataFrame\n",
    "nouvelle_data['Catégorie prédite'] = predictions\n",
    "\n",
    "# Afficher les résultats\n",
    "print(nouvelle_data[['Description du ticket', 'Catégorie prédite']])\n",
    "\n"
   ]
  },
  {
   "cell_type": "code",
   "execution_count": 100,
   "metadata": {},
   "outputs": [
    {
     "data": {
      "text/plain": [
       "['tfidf_vectorizer.pkl']"
      ]
     },
     "execution_count": 100,
     "metadata": {},
     "output_type": "execute_result"
    }
   ],
   "source": [
    "import joblib\n",
    "\n",
    "# Sauvegarder le modèle Random Forest et le TF-IDF\n",
    "joblib.dump(clf, 'random_forest_model.pkl')\n",
    "joblib.dump(tfidf, 'tfidf_vectorizer.pkl')\n",
    "\n",
    "\n",
    "# Charger le modèle Random Forest et le TF-IDF\n",
    "clf_loaded = joblib.load('random_forest_model.pkl')\n",
    "tfidf_loaded = joblib.load('tfidf_vectorizer.pkl')\n"
   ]
  },
  {
   "cell_type": "code",
   "execution_count": null,
   "metadata": {},
   "outputs": [
    {
     "name": "stderr",
     "output_type": "stream",
     "text": [
      "[nltk_data] Downloading package punkt to\n",
      "[nltk_data]     C:\\Users\\ChristopheBRICHET\\AppData\\Roaming\\nltk_data..\n",
      "[nltk_data]     .\n",
      "[nltk_data]   Package punkt is already up-to-date!\n",
      "[nltk_data] Downloading package stopwords to\n",
      "[nltk_data]     C:\\Users\\ChristopheBRICHET\\AppData\\Roaming\\nltk_data..\n",
      "[nltk_data]     .\n",
      "[nltk_data]   Package stopwords is already up-to-date!\n"
     ]
    },
    {
     "name": "stdout",
     "output_type": "stream",
     "text": [
      "Accuracy: 0.3413654618473896\n",
      "Classification Report:\n",
      "                                        precision    recall  f1-score   support\n",
      "\n",
      "           Activation / Désactivation       0.00      0.00      0.00         1\n",
      "                         Connexion 3G       0.00      0.00      0.00         4\n",
      "                              Echange       0.00      0.00      0.00         2\n",
      "                          Facturation       0.00      0.00      0.00         1\n",
      "                   Facturation TP AMC       0.00      0.00      0.00         1\n",
      "                      Fonctionnalités       0.00      0.00      0.00         0\n",
      "                          Information       0.00      0.00      0.00         1\n",
      "                              Lecteur       0.00      0.00      0.00         0\n",
      "                          Lecture CPS       0.00      0.00      0.00         1\n",
      "                                  MAJ       0.00      0.00      0.00         0\n",
      "                          PbConnexion       0.00      0.00      0.00         0\n",
      "                               Rejets       0.00      0.00      0.00         1\n",
      "           Remplacant / Collaborateur       0.00      0.00      0.00         0\n",
      "                                 SCOR       0.00      0.00      0.00         1\n",
      "                   Stellair Connexion       0.00      0.00      0.00         1\n",
      "                                TPAMC       0.00      0.00      0.00         0\n",
      "                                   3G       0.00      0.00      0.00         2\n",
      "ADV (contrats, résiliation, commerce)       0.67      0.33      0.44        12\n",
      "           Activation / Désactivation       1.00      1.00      1.00         1\n",
      "                         Amélioration       0.00      0.00      0.00         3\n",
      "                                 ApCv       0.00      0.00      0.00         2\n",
      "                            Appairage       0.00      0.00      0.00         2\n",
      "  Authentification / sécurisation CPS       0.00      0.00      0.00         1\n",
      "                                   CB       0.60      1.00      0.75         3\n",
      "                         Connexion 3G       0.00      0.00      0.00         2\n",
      "                              Echange       0.00      0.00      0.00         4\n",
      "                          Facturation       0.35      0.80      0.49        51\n",
      "                      Facturation ALD       0.00      0.00      0.00         1\n",
      "                      Facturation C2S       0.00      0.00      0.00         1\n",
      "                   Facturation TP AMC       0.33      1.00      0.50         1\n",
      "                      Fonctionnalités       0.33      0.11      0.17         9\n",
      "                            Formation       0.00      0.00      0.00         0\n",
      "                           Impression       0.00      0.00      0.00         2\n",
      "                          Information       0.00      0.00      0.00        12\n",
      "                         Installation       0.00      0.00      0.00         3\n",
      "                              Lecteur       0.20      0.53      0.30        17\n",
      "                          Lecteur CPS       0.00      0.00      0.00         1\n",
      "                     Lecteur Ethernet       0.00      0.00      0.00         2\n",
      "                  Lecteur/Parametrage       0.00      0.00      0.00         1\n",
      "                          Lecture CPS       0.00      0.00      0.00         5\n",
      "                           Lecture CV       0.00      0.00      0.00         1\n",
      "                            Livraison       0.00      0.00      0.00         1\n",
      "                                  MAJ       0.00      0.00      0.00         1\n",
      "                                  MAN       0.00      0.00      0.00         4\n",
      "                             Ordoclic       0.00      0.00      0.00         1\n",
      "                                PC/SC       0.80      0.50      0.62         8\n",
      "                          PbConnexion       0.50      0.06      0.11        17\n",
      "                             Recettes       0.44      0.40      0.42        10\n",
      "                               Rejets       0.78      0.58      0.67        12\n",
      "           Remplacant / Collaborateur       0.50      0.38      0.43        13\n",
      "                         Remplacement       0.00      0.00      0.00         2\n",
      "                                 SCOR       1.00      0.60      0.75         5\n",
      "                             Stellair       0.00      0.00      0.00         3\n",
      "                   Stellair Connexion       0.00      0.00      0.00         4\n",
      "                      Stellair Erreur       0.00      0.00      0.00         3\n",
      "                                TPAMC       0.25      0.25      0.25         4\n",
      "                         Téléservices       0.00      0.00      0.00         5\n",
      "                     Télétransmission       0.00      0.00      0.00         3\n",
      "\n",
      "                             accuracy                           0.34       249\n",
      "                            macro avg       0.13      0.13      0.12       249\n",
      "                         weighted avg       0.31      0.34      0.28       249\n",
      "\n",
      "                                  Description du ticket  \\\n",
      "50    En tant que collaboratrice, comment faire avec...   \n",
      "51    le lecteur ne fonctionne plus. Il a perdu un c...   \n",
      "65    Je n'arrive pas à faire passer les mutuelles e...   \n",
      "102   Bonjour depuis début septembre je n'arrive pas...   \n",
      "102   Bonjour depuis début septembre je n'arrive pas...   \n",
      "...                                                 ...   \n",
      "4900  Après avoir inséré la carte vitale et au momen...   \n",
      "4901  la commande lire la carte vitale ne fonctionne...   \n",
      "4907  comment transferer mes recettes , feuille de s...   \n",
      "4912  mon ingenico ne lit pas les cartes vitales et ...   \n",
      "4913  le systeme se deconnecte pendant les operation...   \n",
      "\n",
      "                            Description du ticket clean  \\\n",
      "50    tant collaboratrice comment faire seul compte ...   \n",
      "51    lecteur fonctionne plus a perdu composant ress...   \n",
      "65    arrive faire passer mutuelles identifier cps a...   \n",
      "102   bonjour depuis début septembre arrive transfér...   \n",
      "102   bonjour depuis début septembre arrive transfér...   \n",
      "...                                                 ...   \n",
      "4900  après avoir inséré carte vitale moment commenc...   \n",
      "4901              commande lire carte vitale fonctionne   \n",
      "4907  comment transferer recettes feuille soin vers ...   \n",
      "4912  ingenico lit cartes vitales carte cps connecte...   \n",
      "4913  systeme deconnecte pendant operations a connex...   \n",
      "\n",
      "                        Catégorie prédite  \n",
      "50    Authentification / sécurisation CPS  \n",
      "51                                Lecteur  \n",
      "65                            Facturation  \n",
      "102                              Recettes  \n",
      "102                              Recettes  \n",
      "...                                   ...  \n",
      "4900                          Facturation  \n",
      "4901                           Lecture CV  \n",
      "4907                             Recettes  \n",
      "4912                              Lecteur  \n",
      "4913                   Stellair Connexion  \n",
      "\n",
      "[1242 rows x 3 columns]\n"
     ]
    }
   ],
   "source": [
    "\n"
   ]
  },
  {
   "cell_type": "code",
   "execution_count": 72,
   "metadata": {},
   "outputs": [
    {
     "data": {
      "text/html": [
       "<div>\n",
       "<style scoped>\n",
       "    .dataframe tbody tr th:only-of-type {\n",
       "        vertical-align: middle;\n",
       "    }\n",
       "\n",
       "    .dataframe tbody tr th {\n",
       "        vertical-align: top;\n",
       "    }\n",
       "\n",
       "    .dataframe thead th {\n",
       "        text-align: right;\n",
       "    }\n",
       "</style>\n",
       "<table border=\"1\" class=\"dataframe\">\n",
       "  <thead>\n",
       "    <tr style=\"text-align: right;\">\n",
       "      <th></th>\n",
       "      <th>Ticket ID</th>\n",
       "      <th>Catégorie</th>\n",
       "      <th>Description du ticket</th>\n",
       "      <th>Description du ticket clean</th>\n",
       "      <th>categories_split</th>\n",
       "      <th>Catégorie prédite</th>\n",
       "    </tr>\n",
       "  </thead>\n",
       "  <tbody>\n",
       "    <tr>\n",
       "      <th>50</th>\n",
       "      <td>3832946149</td>\n",
       "      <td>Authentification / sécurisation CPS</td>\n",
       "      <td>En tant que collaboratrice, comment faire avec...</td>\n",
       "      <td>tant collaboratrice comment faire seul compte ...</td>\n",
       "      <td>Authentification / sécurisation CPS</td>\n",
       "      <td>Authentification / sécurisation CPS</td>\n",
       "    </tr>\n",
       "    <tr>\n",
       "      <th>51</th>\n",
       "      <td>3767236027</td>\n",
       "      <td>Lecteur</td>\n",
       "      <td>le lecteur ne fonctionne plus. Il a perdu un c...</td>\n",
       "      <td>lecteur fonctionne plus a perdu composant ress...</td>\n",
       "      <td>Lecteur</td>\n",
       "      <td>Lecteur</td>\n",
       "    </tr>\n",
       "    <tr>\n",
       "      <th>65</th>\n",
       "      <td>18572738804</td>\n",
       "      <td>Facturation</td>\n",
       "      <td>Je n'arrive pas à faire passer les mutuelles e...</td>\n",
       "      <td>arrive faire passer mutuelles identifier cps a...</td>\n",
       "      <td>Facturation</td>\n",
       "      <td>Facturation</td>\n",
       "    </tr>\n",
       "    <tr>\n",
       "      <th>102</th>\n",
       "      <td>16645766368</td>\n",
       "      <td>Recettes; Facturation</td>\n",
       "      <td>Bonjour depuis début septembre je n'arrive pas...</td>\n",
       "      <td>bonjour depuis début septembre arrive transfér...</td>\n",
       "      <td>Recettes</td>\n",
       "      <td>Recettes</td>\n",
       "    </tr>\n",
       "    <tr>\n",
       "      <th>102</th>\n",
       "      <td>16645766368</td>\n",
       "      <td>Recettes; Facturation</td>\n",
       "      <td>Bonjour depuis début septembre je n'arrive pas...</td>\n",
       "      <td>bonjour depuis début septembre arrive transfér...</td>\n",
       "      <td>Facturation</td>\n",
       "      <td>Recettes</td>\n",
       "    </tr>\n",
       "    <tr>\n",
       "      <th>...</th>\n",
       "      <td>...</td>\n",
       "      <td>...</td>\n",
       "      <td>...</td>\n",
       "      <td>...</td>\n",
       "      <td>...</td>\n",
       "      <td>...</td>\n",
       "    </tr>\n",
       "    <tr>\n",
       "      <th>4900</th>\n",
       "      <td>3334679248</td>\n",
       "      <td>Facturation</td>\n",
       "      <td>Après avoir inséré la carte vitale et au momen...</td>\n",
       "      <td>après avoir inséré carte vitale moment commenc...</td>\n",
       "      <td>Facturation</td>\n",
       "      <td>Facturation</td>\n",
       "    </tr>\n",
       "    <tr>\n",
       "      <th>4901</th>\n",
       "      <td>3334345941</td>\n",
       "      <td>Lecture CV</td>\n",
       "      <td>la commande lire la carte vitale ne fonctionne...</td>\n",
       "      <td>commande lire carte vitale fonctionne</td>\n",
       "      <td>Lecture CV</td>\n",
       "      <td>Lecture CV</td>\n",
       "    </tr>\n",
       "    <tr>\n",
       "      <th>4907</th>\n",
       "      <td>3302262226</td>\n",
       "      <td>Recettes</td>\n",
       "      <td>comment transferer mes recettes , feuille de s...</td>\n",
       "      <td>comment transferer recettes feuille soin vers ...</td>\n",
       "      <td>Recettes</td>\n",
       "      <td>Recettes</td>\n",
       "    </tr>\n",
       "    <tr>\n",
       "      <th>4912</th>\n",
       "      <td>3284946888</td>\n",
       "      <td>Lecteur</td>\n",
       "      <td>mon ingenico ne lit pas les cartes vitales et ...</td>\n",
       "      <td>ingenico lit cartes vitales carte cps connecte...</td>\n",
       "      <td>Lecteur</td>\n",
       "      <td>Lecteur</td>\n",
       "    </tr>\n",
       "    <tr>\n",
       "      <th>4913</th>\n",
       "      <td>3283137734</td>\n",
       "      <td>Stellair Connexion</td>\n",
       "      <td>le systeme se deconnecte pendant les operation...</td>\n",
       "      <td>systeme deconnecte pendant operations a connex...</td>\n",
       "      <td>Stellair Connexion</td>\n",
       "      <td>Stellair Connexion</td>\n",
       "    </tr>\n",
       "  </tbody>\n",
       "</table>\n",
       "<p>1242 rows × 6 columns</p>\n",
       "</div>"
      ],
      "text/plain": [
       "        Ticket ID                            Catégorie  \\\n",
       "50     3832946149  Authentification / sécurisation CPS   \n",
       "51     3767236027                              Lecteur   \n",
       "65    18572738804                          Facturation   \n",
       "102   16645766368                Recettes; Facturation   \n",
       "102   16645766368                Recettes; Facturation   \n",
       "...           ...                                  ...   \n",
       "4900   3334679248                          Facturation   \n",
       "4901   3334345941                           Lecture CV   \n",
       "4907   3302262226                             Recettes   \n",
       "4912   3284946888                              Lecteur   \n",
       "4913   3283137734                   Stellair Connexion   \n",
       "\n",
       "                                  Description du ticket  \\\n",
       "50    En tant que collaboratrice, comment faire avec...   \n",
       "51    le lecteur ne fonctionne plus. Il a perdu un c...   \n",
       "65    Je n'arrive pas à faire passer les mutuelles e...   \n",
       "102   Bonjour depuis début septembre je n'arrive pas...   \n",
       "102   Bonjour depuis début septembre je n'arrive pas...   \n",
       "...                                                 ...   \n",
       "4900  Après avoir inséré la carte vitale et au momen...   \n",
       "4901  la commande lire la carte vitale ne fonctionne...   \n",
       "4907  comment transferer mes recettes , feuille de s...   \n",
       "4912  mon ingenico ne lit pas les cartes vitales et ...   \n",
       "4913  le systeme se deconnecte pendant les operation...   \n",
       "\n",
       "                            Description du ticket clean  \\\n",
       "50    tant collaboratrice comment faire seul compte ...   \n",
       "51    lecteur fonctionne plus a perdu composant ress...   \n",
       "65    arrive faire passer mutuelles identifier cps a...   \n",
       "102   bonjour depuis début septembre arrive transfér...   \n",
       "102   bonjour depuis début septembre arrive transfér...   \n",
       "...                                                 ...   \n",
       "4900  après avoir inséré carte vitale moment commenc...   \n",
       "4901              commande lire carte vitale fonctionne   \n",
       "4907  comment transferer recettes feuille soin vers ...   \n",
       "4912  ingenico lit cartes vitales carte cps connecte...   \n",
       "4913  systeme deconnecte pendant operations a connex...   \n",
       "\n",
       "                         categories_split                    Catégorie prédite  \n",
       "50    Authentification / sécurisation CPS  Authentification / sécurisation CPS  \n",
       "51                                Lecteur                              Lecteur  \n",
       "65                            Facturation                          Facturation  \n",
       "102                              Recettes                             Recettes  \n",
       "102                           Facturation                             Recettes  \n",
       "...                                   ...                                  ...  \n",
       "4900                          Facturation                          Facturation  \n",
       "4901                           Lecture CV                           Lecture CV  \n",
       "4907                             Recettes                             Recettes  \n",
       "4912                              Lecteur                              Lecteur  \n",
       "4913                   Stellair Connexion                   Stellair Connexion  \n",
       "\n",
       "[1242 rows x 6 columns]"
      ]
     },
     "execution_count": 72,
     "metadata": {},
     "output_type": "execute_result"
    }
   ],
   "source": [
    "df_filtre"
   ]
  },
  {
   "cell_type": "code",
   "execution_count": 73,
   "metadata": {},
   "outputs": [],
   "source": []
  },
  {
   "cell_type": "code",
   "execution_count": 337,
   "metadata": {},
   "outputs": [
    {
     "name": "stdout",
     "output_type": "stream",
     "text": [
      "Catégorie prédite : Lecteur\n"
     ]
    }
   ],
   "source": [
    "# Nouvelle description\n",
    "nouvelle_description = [\"Problème lors de l'accès à l'application après mise à jour.\"]\n",
    "nouvelle_description_tfidf = tfidf.transform(nouvelle_description)  # Transformer en vecteur TF-IDF\n",
    "prediction = clf.predict(nouvelle_description_tfidf)  # Prédire la catégorie\n",
    "print(\"Catégorie prédite :\", prediction[0])\n"
   ]
  },
  {
   "cell_type": "code",
   "execution_count": null,
   "metadata": {},
   "outputs": [],
   "source": []
  },
  {
   "cell_type": "code",
   "execution_count": null,
   "metadata": {},
   "outputs": [],
   "source": []
  },
  {
   "cell_type": "code",
   "execution_count": null,
   "metadata": {},
   "outputs": [],
   "source": []
  },
  {
   "cell_type": "code",
   "execution_count": null,
   "metadata": {},
   "outputs": [],
   "source": []
  },
  {
   "cell_type": "code",
   "execution_count": 12,
   "metadata": {},
   "outputs": [],
   "source": [
    "\n",
    "\n",
    "\n",
    "\n"
   ]
  },
  {
   "cell_type": "code",
   "execution_count": null,
   "metadata": {},
   "outputs": [],
   "source": []
  },
  {
   "cell_type": "code",
   "execution_count": null,
   "metadata": {},
   "outputs": [],
   "source": []
  },
  {
   "cell_type": "code",
   "execution_count": 5,
   "metadata": {},
   "outputs": [],
   "source": []
  },
  {
   "cell_type": "code",
   "execution_count": null,
   "metadata": {},
   "outputs": [],
   "source": []
  },
  {
   "cell_type": "code",
   "execution_count": null,
   "metadata": {},
   "outputs": [],
   "source": []
  },
  {
   "cell_type": "code",
   "execution_count": 8,
   "metadata": {},
   "outputs": [],
   "source": []
  },
  {
   "cell_type": "code",
   "execution_count": 34,
   "metadata": {},
   "outputs": [],
   "source": []
  },
  {
   "cell_type": "code",
   "execution_count": null,
   "metadata": {},
   "outputs": [],
   "source": []
  },
  {
   "cell_type": "code",
   "execution_count": null,
   "metadata": {},
   "outputs": [],
   "source": []
  },
  {
   "cell_type": "code",
   "execution_count": null,
   "metadata": {},
   "outputs": [],
   "source": []
  }
 ],
 "metadata": {
  "kernelspec": {
   "display_name": "streamlitenv",
   "language": "python",
   "name": "python3"
  },
  "language_info": {
   "codemirror_mode": {
    "name": "ipython",
    "version": 3
   },
   "file_extension": ".py",
   "mimetype": "text/x-python",
   "name": "python",
   "nbconvert_exporter": "python",
   "pygments_lexer": "ipython3",
   "version": "3.11.7"
  }
 },
 "nbformat": 4,
 "nbformat_minor": 2
}
